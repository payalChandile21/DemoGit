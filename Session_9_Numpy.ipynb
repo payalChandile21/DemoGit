{
 "cells": [
  {
   "cell_type": "markdown",
   "id": "cef1f324-c57a-46f8-a944-64df13dec235",
   "metadata": {},
   "source": [
    "<div style=\"position: relative; width: 100%; height: 100vh; padding: 50px; box-sizing: border-box;\">\n",
    "    <!-- Logo positioned in the right corner -->\n",
    "    <img src=\"logo.png\" style=\"position: absolute; top: 10px; right: 10px; width: 200px;\"/>\n",
    "\n",
    "   <!-- Proprietary Content -->\n",
    "   <div style=\"position: absolute; bottom: px5; left: 5%; transform: translateX(-50%); color: grey; text-align: left;font-style: italic\">\n",
    "   <p>Proprietary content. © 10xTechClub. All Rights Reserved. Unauthorized use or distribution prohibited.</p>\n",
    "   </div>\n",
    "</div>"
   ]
  },
  {
   "cell_type": "markdown",
   "id": "1ed2195c",
   "metadata": {},
   "source": [
    "## <span style=\"color:green\">Intorduction to Numpy"
   ]
  },
  {
   "cell_type": "markdown",
   "id": "3e765e4a",
   "metadata": {},
   "source": [
    "### <span style=\"color:blue\">What is NumPy?\n",
    "    \n",
    "NumPy is a Python library used for working with arrays.\n",
    "\n",
    "It also has functions for working in domain of linear algebra, fourier transform, and matrices.\n",
    "\n",
    "NumPy was created in 2005 by Travis Oliphant. It is an open source project and you can use it freely.\n",
    "\n",
    "NumPy stands for Numerical Python."
   ]
  },
  {
   "cell_type": "markdown",
   "id": "99dca5ab",
   "metadata": {},
   "source": [
    "### <span style=\"color:blue\">Why Use NumPy?\n",
    "In Python we have lists that serve the purpose of arrays, but they are slow to process.\n",
    "\n",
    "NumPy aims to provide an array object that is up to 50x faster than traditional Python lists.\n",
    "\n",
    "The array object in NumPy is called ndarray, it provides a lot of supporting functions that make working with ndarray very easy.\n",
    "\n",
    "Arrays are very frequently used in data science, where speed and resources are very important."
   ]
  },
  {
   "cell_type": "markdown",
   "id": "f6eba716",
   "metadata": {},
   "source": [
    "### <span style=\"color:blue\">Why is NumPy Faster Than Lists?\n",
    "NumPy arrays are stored at one continuous place in memory unlike lists, so processes can access and manipulate them very efficiently.\n",
    "\n",
    "This behavior is called locality of reference in computer science.\n",
    "\n",
    "This is the main reason why NumPy is faster than lists. Also it is optimized to work with latest CPU architectures."
   ]
  },
  {
   "cell_type": "markdown",
   "id": "f84d0cba",
   "metadata": {},
   "source": [
    "### <span style=\"color:blue\">Installation of NumPy\n",
    "If you have Python and PIP already installed on a system, then installation of NumPy is very easy.\n",
    "\n",
    "Install it using this command:"
   ]
  },
  {
   "cell_type": "code",
   "execution_count": 19,
   "id": "9b029b78",
   "metadata": {},
   "outputs": [
    {
     "name": "stdout",
     "output_type": "stream",
     "text": [
      "Requirement already satisfied: numpy in c:\\users\\madhavi\\anaconda3\\lib\\site-packages (1.24.4)\n"
     ]
    },
    {
     "name": "stderr",
     "output_type": "stream",
     "text": [
      "WARNING: Ignoring invalid distribution -ensorflow-intel (c:\\users\\madhavi\\anaconda3\\lib\\site-packages)\n",
      "WARNING: Ignoring invalid distribution -ensorflow-intel (c:\\users\\madhavi\\anaconda3\\lib\\site-packages)\n",
      "WARNING: Ignoring invalid distribution -ensorflow-intel (c:\\users\\madhavi\\anaconda3\\lib\\site-packages)\n",
      "WARNING: Ignoring invalid distribution -ensorflow-intel (c:\\users\\madhavi\\anaconda3\\lib\\site-packages)\n",
      "WARNING: Ignoring invalid distribution -ensorflow-intel (c:\\users\\madhavi\\anaconda3\\lib\\site-packages)\n",
      "WARNING: Ignoring invalid distribution -ensorflow-intel (c:\\users\\madhavi\\anaconda3\\lib\\site-packages)\n"
     ]
    }
   ],
   "source": [
    "!pip install numpy"
   ]
  },
  {
   "cell_type": "markdown",
   "id": "f2dc1899",
   "metadata": {},
   "source": [
    "### <span style=\"color:blue\">NumPy as np\n",
    "NumPy is usually imported under the np alias.\n",
    "\n",
    "- alias: In Python alias are an alternate name for referring to the same thing.\n",
    "\n",
    "Create an alias with the as keyword while importing:"
   ]
  },
  {
   "cell_type": "code",
   "execution_count": 20,
   "id": "50751d29",
   "metadata": {},
   "outputs": [],
   "source": [
    "import numpy as np"
   ]
  },
  {
   "cell_type": "markdown",
   "id": "b1438e16",
   "metadata": {},
   "source": [
    "### <span style=\"color:blue\">Creating Arrays\n",
    "Arrays in NumPy are created using the np.array() function. They can be 1-dimensional, 2-dimensional, or 3-dimensional."
   ]
  },
  {
   "cell_type": "code",
   "execution_count": 21,
   "id": "2f6dbaf3",
   "metadata": {},
   "outputs": [
    {
     "name": "stdout",
     "output_type": "stream",
     "text": [
      "1D Array:\n",
      "[1 2 3 4 5]\n",
      "\n",
      "2D Array:\n",
      "[[1 2 3]\n",
      " [4 5 6]]\n",
      "\n",
      "3D Array:\n",
      "[[[1 2]\n",
      "  [3 4]]\n",
      "\n",
      " [[5 6]\n",
      "  [7 8]]]\n"
     ]
    }
   ],
   "source": [
    "import numpy as np\n",
    "\n",
    "# 1D array\n",
    "array_1d = np.array([1, 2, 3, 4, 5])\n",
    "print(\"1D Array:\")\n",
    "print(array_1d)\n",
    "\n",
    "# 2D array\n",
    "array_2d = np.array([[1, 2, 3], [4, 5, 6]])\n",
    "print(\"\\n2D Array:\")\n",
    "print(array_2d)\n",
    "\n",
    "# 3D array\n",
    "array_3d = np.array([[[1, 2], [3, 4]], [[5, 6], [7, 8]]])\n",
    "print(\"\\n3D Array:\")\n",
    "print(array_3d)\n"
   ]
  },
  {
   "cell_type": "markdown",
   "id": "f1e54b0e",
   "metadata": {},
   "source": [
    "### <span style=\"color:blue\">Accessing Items from the Array\n",
    "Items in arrays can be accessed using indices."
   ]
  },
  {
   "cell_type": "code",
   "execution_count": 22,
   "id": "f3b3e8f9",
   "metadata": {},
   "outputs": [
    {
     "name": "stdout",
     "output_type": "stream",
     "text": [
      "\n",
      "Accessing Items:\n",
      "1\n",
      "2\n",
      "6\n"
     ]
    }
   ],
   "source": [
    "print(\"\\nAccessing Items:\")\n",
    "print(array_1d[0])  # First element in 1D array\n",
    "print(array_2d[0, 1])  # Second element in the first row of 2D array\n",
    "print(array_3d[1, 0, 1])  # Second element in the first sub-array of the second array in 3D array\n"
   ]
  },
  {
   "cell_type": "markdown",
   "id": "80bd3cc4",
   "metadata": {},
   "source": [
    "### <span style=\"color:blue\">Creating Array of 1s and 0s\n",
    "np.ones() and np.zeros() functions are used to create arrays of ones and zeros respectively."
   ]
  },
  {
   "cell_type": "code",
   "execution_count": 23,
   "id": "bb3937ed",
   "metadata": {},
   "outputs": [
    {
     "name": "stdout",
     "output_type": "stream",
     "text": [
      "\n",
      "Array of Ones:\n",
      "[[1. 1. 1.]\n",
      " [1. 1. 1.]\n",
      " [1. 1. 1.]]\n",
      "\n",
      "Array of Zeros:\n",
      "[[0. 0.]\n",
      " [0. 0.]]\n"
     ]
    }
   ],
   "source": [
    "array_ones = np.ones((3, 3))\n",
    "print(\"\\nArray of Ones:\")\n",
    "print(array_ones)\n",
    "\n",
    "array_zeros = np.zeros((2, 2))\n",
    "print(\"\\nArray of Zeros:\")\n",
    "print(array_zeros)\n"
   ]
  },
  {
   "cell_type": "markdown",
   "id": "65e35929",
   "metadata": {},
   "source": [
    "### <span style=\"color:blue\">Slicing\n",
    "Slicing is used to access a range of elements in arrays."
   ]
  },
  {
   "cell_type": "code",
   "execution_count": 24,
   "id": "ef4cfbc8",
   "metadata": {},
   "outputs": [
    {
     "name": "stdout",
     "output_type": "stream",
     "text": [
      "\n",
      "Slicing 1D Array:\n",
      "[2 3 4]\n",
      "\n",
      "Slicing 2D Array:\n",
      "[2 5]\n"
     ]
    }
   ],
   "source": [
    "print(\"\\nSlicing 1D Array:\")\n",
    "print(array_1d[1:4])  # Elements from index 1 to 3\n",
    "\n",
    "print(\"\\nSlicing 2D Array:\")\n",
    "print(array_2d[:, 1])  # Second column of all rows\n"
   ]
  },
  {
   "cell_type": "markdown",
   "id": "89cc3449",
   "metadata": {},
   "source": [
    "### <span style=\"color:blue\">Data Type (dtype)\n",
    "The dtype attribute gives the data type of elements in the array."
   ]
  },
  {
   "cell_type": "code",
   "execution_count": 25,
   "id": "2269b999",
   "metadata": {},
   "outputs": [
    {
     "name": "stdout",
     "output_type": "stream",
     "text": [
      "\n",
      "Data Type:\n",
      "int32\n"
     ]
    }
   ],
   "source": [
    "print(\"\\nData Type:\")\n",
    "print(array_1d.dtype)\n"
   ]
  },
  {
   "cell_type": "markdown",
   "id": "34a40be2",
   "metadata": {},
   "source": [
    "### <span style=\"color:blue\">Data Type Conversion (astype)\n",
    "The astype() function is used to convert the data type of an array."
   ]
  },
  {
   "cell_type": "code",
   "execution_count": 26,
   "id": "0c698785",
   "metadata": {},
   "outputs": [
    {
     "name": "stdout",
     "output_type": "stream",
     "text": [
      "\n",
      "Array with Float Data Type:\n",
      "[1. 2. 3. 4. 5.]\n",
      "float64\n"
     ]
    }
   ],
   "source": [
    "array_float = array_1d.astype(float)\n",
    "print(\"\\nArray with Float Data Type:\")\n",
    "print(array_float)\n",
    "print(array_float.dtype)\n"
   ]
  },
  {
   "cell_type": "markdown",
   "id": "d2e4b9ed",
   "metadata": {},
   "source": [
    "### <span style=\"color:blue\">Shape\n",
    "The shape attribute gives the dimensions of the array."
   ]
  },
  {
   "cell_type": "code",
   "execution_count": 27,
   "id": "2fef3e47",
   "metadata": {},
   "outputs": [
    {
     "name": "stdout",
     "output_type": "stream",
     "text": [
      "\n",
      "Shape of 2D Array:\n",
      "(2, 3)\n"
     ]
    }
   ],
   "source": [
    "print(\"\\nShape of 2D Array:\")\n",
    "print(array_2d.shape)\n"
   ]
  },
  {
   "cell_type": "markdown",
   "id": "17b80290",
   "metadata": {},
   "source": [
    "### <span style=\"color:blue\">Reshape\n",
    "The reshape() function changes the shape of the array without changing its data.\n",
    "\n"
   ]
  },
  {
   "cell_type": "code",
   "execution_count": 28,
   "id": "ec44f90a",
   "metadata": {},
   "outputs": [
    {
     "name": "stdout",
     "output_type": "stream",
     "text": [
      "\n",
      "Reshaped Array:\n",
      "[[1 2]\n",
      " [3 4]\n",
      " [5 6]]\n"
     ]
    }
   ],
   "source": [
    "array_reshaped = array_2d.reshape((3, 2))\n",
    "print(\"\\nReshaped Array:\")\n",
    "print(array_reshaped)\n"
   ]
  },
  {
   "cell_type": "markdown",
   "id": "9a2c9156",
   "metadata": {},
   "source": [
    "### <span style=\"color:blue\"> Splitting\n",
    "Arrays can be split into multiple arrays using np.split() or similar functions."
   ]
  },
  {
   "cell_type": "code",
   "execution_count": 29,
   "id": "10a8d51b",
   "metadata": {},
   "outputs": [
    {
     "name": "stdout",
     "output_type": "stream",
     "text": [
      "\n",
      "Split Array:\n",
      "[array([[1, 2, 3]]), array([[4, 5, 6]])]\n"
     ]
    }
   ],
   "source": [
    "array_split = np.split(array_2d, 2)\n",
    "print(\"\\nSplit Array:\")\n",
    "print(array_split)\n"
   ]
  },
  {
   "cell_type": "markdown",
   "id": "bebf0a33",
   "metadata": {},
   "source": [
    "### <span style=\"color:blue\">Searching - where()\n",
    "The np.where() function is used to search for elements that satisfy a condition."
   ]
  },
  {
   "cell_type": "code",
   "execution_count": 30,
   "id": "98e74478",
   "metadata": {},
   "outputs": [
    {
     "name": "stdout",
     "output_type": "stream",
     "text": [
      "\n",
      "Indices of Elements Greater Than 3:\n",
      "(array([3, 4], dtype=int64),)\n"
     ]
    }
   ],
   "source": [
    "indices = np.where(array_1d > 3)\n",
    "print(\"\\nIndices of Elements Greater Than 3:\")\n",
    "print(indices)\n"
   ]
  },
  {
   "cell_type": "markdown",
   "id": "e0b87ba9",
   "metadata": {},
   "source": [
    "### <span style=\"color:blue\">Sorting\n",
    "The sort() function sorts an array."
   ]
  },
  {
   "cell_type": "code",
   "execution_count": 31,
   "id": "f5304a05",
   "metadata": {},
   "outputs": [
    {
     "name": "stdout",
     "output_type": "stream",
     "text": [
      "\n",
      "Sorted Array:\n",
      "[1 2 3 4 5]\n"
     ]
    }
   ],
   "source": [
    "array_sorted = np.sort(array_1d)\n",
    "print(\"\\nSorted Array:\")\n",
    "print(array_sorted)\n"
   ]
  },
  {
   "cell_type": "markdown",
   "id": "f3c479b5",
   "metadata": {},
   "source": [
    "### <span style=\"color:blue\">Filtering\n",
    "Arrays can be filtered based on conditions."
   ]
  },
  {
   "cell_type": "code",
   "execution_count": 32,
   "id": "5f4bbc2e",
   "metadata": {},
   "outputs": [
    {
     "name": "stdout",
     "output_type": "stream",
     "text": [
      "\n",
      "Filtered Array (Elements > 3):\n",
      "[4 5]\n"
     ]
    }
   ],
   "source": [
    "array_filtered = array_1d[array_1d > 3]\n",
    "print(\"\\nFiltered Array (Elements > 3):\")\n",
    "print(array_filtered)\n"
   ]
  },
  {
   "cell_type": "markdown",
   "id": "8661c9eb-8111-4c6f-b74f-f3fa46747439",
   "metadata": {},
   "source": [
    "## <span style=\"color:blue\">Convert Dataset into NumPy array"
   ]
  },
  {
   "cell_type": "code",
   "execution_count": 33,
   "id": "782c4f26",
   "metadata": {},
   "outputs": [],
   "source": [
    "import numpy as np\n",
    "\n",
    "# Dataset\n",
    "data = np.array([\n",
    "    [\"Model S\", \"Tesla\", 2021, 79990, 670],\n",
    "    [\"Corolla\", \"Toyota\", 2020, 20000, 139],\n",
    "    [\"Mustang\", \"Ford\", 2019, 55000, 450],\n",
    "    [\"Civic\", \"Honda\", 2018, 22000, 158],\n",
    "    [\"Camry\", \"Toyota\", 2021, 25000, 203],\n",
    "    [\"3 Series\", \"BMW\", 2020, 41000, 255],\n",
    "    [\"A4\", \"Audi\", 2019, 39000, 248],\n",
    "    [\"Accord\", \"Honda\", 2018, 24000, 192],\n",
    "    [\"Model 3\", \"Tesla\", 2021, 39990, 283],\n",
    "    [\"Altima\", \"Nissan\", 2020, 24000, 188],\n",
    "    [\"C-Class\", \"Mercedes-Benz\", 2020, 41000, 255],\n",
    "    [\"Malibu\", \"Chevrolet\", 2019, 22000, 160],\n",
    "    [\"Impreza\", \"Subaru\", 2018, 19000, 152],\n",
    "    [\"Charger\", \"Dodge\", 2021, 29995, 292],\n",
    "    [\"Escape\", \"Ford\", 2020, 25000, 180],\n",
    "    [\"Highlander\", \"Toyota\", 2021, 35000, 295],\n",
    "    [\"Cherokee\", \"Jeep\", 2019, 27000, 180],\n",
    "    [\"Outback\", \"Subaru\", 2020, 27000, 182],\n",
    "    [\"CX-5\", \"Mazda\", 2021, 26000, 187],\n",
    "    [\"Q5\", \"Audi\", 2021, 44000, 261],\n",
    "    [\"GLC\", \"Mercedes-Benz\", 2020, 43000, 255],\n",
    "    [\"X3\", \"BMW\", 2019, 42000, 248],\n",
    "    [\"Rogue\", \"Nissan\", 2020, 27000, 170],\n",
    "    [\"Tucson\", \"Hyundai\", 2021, 25000, 187],\n",
    "    [\"Forester\", \"Subaru\", 2020, 25000, 182]\n",
    "])\n"
   ]
  },
  {
   "cell_type": "markdown",
   "id": "02dadd72-e3d8-495c-be55-44c33c23ec9e",
   "metadata": {},
   "source": [
    "### <span style=\"color:blue\">Create 1D Array"
   ]
  },
  {
   "cell_type": "code",
   "execution_count": 34,
   "id": "2427ba60",
   "metadata": {},
   "outputs": [
    {
     "name": "stdout",
     "output_type": "stream",
     "text": [
      "1D Array (Years):\n",
      "[2021 2020 2019 2018 2021 2020 2019 2018 2021 2020 2020 2019 2018 2021\n",
      " 2020 2021 2019 2020 2021 2021 2020 2019 2020 2021 2020]\n"
     ]
    }
   ],
   "source": [
    "# 1D array - Extracting years\n",
    "array_1d = data[:, 2].astype(int)\n",
    "print(\"1D Array (Years):\")\n",
    "print(array_1d)\n"
   ]
  },
  {
   "cell_type": "markdown",
   "id": "be3a25f5-57d4-4be0-948e-41686b112378",
   "metadata": {},
   "source": [
    "### <span style=\"color:blue\">Create 2D Array"
   ]
  },
  {
   "cell_type": "code",
   "execution_count": 35,
   "id": "3172e7ed",
   "metadata": {},
   "outputs": [
    {
     "name": "stdout",
     "output_type": "stream",
     "text": [
      "\n",
      "2D Array (Years and Prices):\n",
      "[[ 2021 79990]\n",
      " [ 2020 20000]\n",
      " [ 2019 55000]\n",
      " [ 2018 22000]\n",
      " [ 2021 25000]\n",
      " [ 2020 41000]\n",
      " [ 2019 39000]\n",
      " [ 2018 24000]\n",
      " [ 2021 39990]\n",
      " [ 2020 24000]\n",
      " [ 2020 41000]\n",
      " [ 2019 22000]\n",
      " [ 2018 19000]\n",
      " [ 2021 29995]\n",
      " [ 2020 25000]\n",
      " [ 2021 35000]\n",
      " [ 2019 27000]\n",
      " [ 2020 27000]\n",
      " [ 2021 26000]\n",
      " [ 2021 44000]\n",
      " [ 2020 43000]\n",
      " [ 2019 42000]\n",
      " [ 2020 27000]\n",
      " [ 2021 25000]\n",
      " [ 2020 25000]]\n"
     ]
    }
   ],
   "source": [
    "# 2D array - Extracting years and prices\n",
    "array_2d = data[:, [2, 3]].astype(int)\n",
    "print(\"\\n2D Array (Years and Prices):\")\n",
    "print(array_2d)\n"
   ]
  },
  {
   "cell_type": "markdown",
   "id": "78e36f8c",
   "metadata": {},
   "source": [
    "### <span style=\"color:blue\">Accessing Items from the Array"
   ]
  },
  {
   "cell_type": "code",
   "execution_count": 36,
   "id": "85f0568c",
   "metadata": {},
   "outputs": [
    {
     "name": "stdout",
     "output_type": "stream",
     "text": [
      "\n",
      "Accessing Items:\n",
      "2021\n",
      "79990\n"
     ]
    }
   ],
   "source": [
    "print(\"\\nAccessing Items:\")\n",
    "print(array_1d[0])  # First element in 1D array\n",
    "print(array_2d[0, 1])  # Second element in the first row of 2D array"
   ]
  },
  {
   "cell_type": "markdown",
   "id": "1e26e45a",
   "metadata": {},
   "source": [
    "### <span style=\"color:blue\">Slicing"
   ]
  },
  {
   "cell_type": "code",
   "execution_count": 37,
   "id": "f7b542ff",
   "metadata": {},
   "outputs": [
    {
     "name": "stdout",
     "output_type": "stream",
     "text": [
      "\n",
      "Slicing 1D Array:\n",
      "[2020 2019 2018]\n",
      "\n",
      "Slicing 2D Array:\n",
      "[79990 20000 55000 22000 25000 41000 39000 24000 39990 24000 41000 22000\n",
      " 19000 29995 25000 35000 27000 27000 26000 44000 43000 42000 27000 25000\n",
      " 25000]\n"
     ]
    }
   ],
   "source": [
    "print(\"\\nSlicing 1D Array:\")\n",
    "print(array_1d[1:4])  # Elements from index 1 to 3\n",
    "\n",
    "print(\"\\nSlicing 2D Array:\")\n",
    "print(array_2d[:, 1])  # Second column of all rows\n"
   ]
  },
  {
   "cell_type": "markdown",
   "id": "f87c3945",
   "metadata": {},
   "source": [
    "### <span style=\"color:blue\">Data Type (dtype)"
   ]
  },
  {
   "cell_type": "code",
   "execution_count": 38,
   "id": "48cbe4c3",
   "metadata": {},
   "outputs": [
    {
     "name": "stdout",
     "output_type": "stream",
     "text": [
      "\n",
      "Data Type:\n",
      "int32\n"
     ]
    }
   ],
   "source": [
    "print(\"\\nData Type:\")\n",
    "print(array_1d.dtype)\n"
   ]
  },
  {
   "cell_type": "markdown",
   "id": "faeb3681",
   "metadata": {},
   "source": [
    "### <span style=\"color:blue\">Data Type Conversion (astype)"
   ]
  },
  {
   "cell_type": "code",
   "execution_count": 39,
   "id": "65070aae",
   "metadata": {},
   "outputs": [
    {
     "name": "stdout",
     "output_type": "stream",
     "text": [
      "\n",
      "Array with Float Data Type:\n",
      "[2021. 2020. 2019. 2018. 2021. 2020. 2019. 2018. 2021. 2020. 2020. 2019.\n",
      " 2018. 2021. 2020. 2021. 2019. 2020. 2021. 2021. 2020. 2019. 2020. 2021.\n",
      " 2020.]\n",
      "float64\n"
     ]
    }
   ],
   "source": [
    "array_float = array_1d.astype(float)\n",
    "print(\"\\nArray with Float Data Type:\")\n",
    "print(array_float)\n",
    "print(array_float.dtype)\n"
   ]
  },
  {
   "cell_type": "markdown",
   "id": "bf61c9e8",
   "metadata": {},
   "source": [
    "### <span style=\"color:blue\">Shape"
   ]
  },
  {
   "cell_type": "code",
   "execution_count": 40,
   "id": "1fcd5b9b",
   "metadata": {},
   "outputs": [
    {
     "name": "stdout",
     "output_type": "stream",
     "text": [
      "\n",
      "Shape of 2D Array:\n",
      "(25, 2)\n"
     ]
    }
   ],
   "source": [
    "print(\"\\nShape of 2D Array:\")\n",
    "print(array_2d.shape)\n"
   ]
  },
  {
   "cell_type": "markdown",
   "id": "0d6dd000",
   "metadata": {},
   "source": [
    "### <span style=\"color:blue\">Reshape"
   ]
  },
  {
   "cell_type": "code",
   "execution_count": 41,
   "id": "ce805dd1",
   "metadata": {},
   "outputs": [
    {
     "name": "stdout",
     "output_type": "stream",
     "text": [
      "\n",
      "Reshaped Array:\n",
      "[[[ 2021 79990  2020 20000  2019]\n",
      "  [55000  2018 22000  2021 25000]]\n",
      "\n",
      " [[ 2020 41000  2019 39000  2018]\n",
      "  [24000  2021 39990  2020 24000]]\n",
      "\n",
      " [[ 2020 41000  2019 22000  2018]\n",
      "  [19000  2021 29995  2020 25000]]\n",
      "\n",
      " [[ 2021 35000  2019 27000  2020]\n",
      "  [27000  2021 26000  2021 44000]]\n",
      "\n",
      " [[ 2020 43000  2019 42000  2020]\n",
      "  [27000  2021 25000  2020 25000]]]\n"
     ]
    }
   ],
   "source": [
    "array_reshaped = array_2d.reshape((5,2,5))\n",
    "print(\"\\nReshaped Array:\")\n",
    "print(array_reshaped)\n"
   ]
  },
  {
   "cell_type": "markdown",
   "id": "b8191ef6",
   "metadata": {},
   "source": [
    "### <span style=\"color:blue\">Searching - where()"
   ]
  },
  {
   "cell_type": "code",
   "execution_count": 42,
   "id": "367648a4",
   "metadata": {},
   "outputs": [
    {
     "name": "stdout",
     "output_type": "stream",
     "text": [
      "\n",
      "Indices of Elements Greater Than 2020:\n",
      "(array([ 0,  4,  8, 13, 15, 18, 19, 23], dtype=int64),)\n"
     ]
    }
   ],
   "source": [
    "indices = np.where(array_1d > 2020)\n",
    "print(\"\\nIndices of Elements Greater Than 2020:\")\n",
    "print(indices)\n"
   ]
  },
  {
   "cell_type": "markdown",
   "id": "bdb2cdf6",
   "metadata": {},
   "source": [
    "### <span style=\"color:blue\">Sorting"
   ]
  },
  {
   "cell_type": "code",
   "execution_count": 43,
   "id": "fa6b8518",
   "metadata": {},
   "outputs": [
    {
     "name": "stdout",
     "output_type": "stream",
     "text": [
      "\n",
      "Sorted Array:\n",
      "[2018 2018 2018 2019 2019 2019 2019 2019 2020 2020 2020 2020 2020 2020\n",
      " 2020 2020 2020 2021 2021 2021 2021 2021 2021 2021 2021]\n"
     ]
    }
   ],
   "source": [
    "array_sorted = np.sort(array_1d)\n",
    "print(\"\\nSorted Array:\")\n",
    "print(array_sorted)\n"
   ]
  },
  {
   "cell_type": "markdown",
   "id": "2db462f8",
   "metadata": {},
   "source": [
    "### <span style=\"color:blue\">Filtering"
   ]
  },
  {
   "cell_type": "code",
   "execution_count": 44,
   "id": "d8516415",
   "metadata": {},
   "outputs": [
    {
     "name": "stdout",
     "output_type": "stream",
     "text": [
      "\n",
      "Filtered Array (Years > 2019):\n",
      "[2021 2020 2021 2020 2021 2020 2020 2021 2020 2021 2020 2021 2021 2020\n",
      " 2020 2021 2020]\n"
     ]
    }
   ],
   "source": [
    "array_filtered = array_1d[array_1d > 2019]\n",
    "print(\"\\nFiltered Array (Years > 2019):\")\n",
    "print(array_filtered)\n"
   ]
  },
  {
   "cell_type": "markdown",
   "id": "5b48fb07",
   "metadata": {},
   "source": [
    "### <span style=\"color:blue\"> Querying the dataframe\n"
   ]
  },
  {
   "cell_type": "code",
   "execution_count": 45,
   "id": "2a94741d",
   "metadata": {},
   "outputs": [
    {
     "name": "stdout",
     "output_type": "stream",
     "text": [
      "\n",
      "Cars from 2021:\n",
      "[['Model S' 'Tesla' '2021' '79990' '670']\n",
      " ['Camry' 'Toyota' '2021' '25000' '203']\n",
      " ['Model 3' 'Tesla' '2021' '39990' '283']\n",
      " ['Charger' 'Dodge' '2021' '29995' '292']\n",
      " ['Highlander' 'Toyota' '2021' '35000' '295']\n",
      " ['CX-5' 'Mazda' '2021' '26000' '187']\n",
      " ['Q5' 'Audi' '2021' '44000' '261']\n",
      " ['Tucson' 'Hyundai' '2021' '25000' '187']]\n"
     ]
    }
   ],
   "source": [
    "# Cars from 2021\n",
    "cars_2021 = data[data[:, 2].astype(int) == 2021]\n",
    "print(\"\\nCars from 2021:\")\n",
    "print(cars_2021)\n",
    "# More dataframe Questions"
   ]
  },
  {
   "cell_type": "markdown",
   "id": "cdd87677-c061-4d9e-8466-42d0b4397202",
   "metadata": {},
   "source": [
    "### <span style=\"color:blue\">PRACTICE QUESTIONS"
   ]
  },
  {
   "cell_type": "code",
   "execution_count": null,
   "id": "4706966f-9247-435f-adf6-d32063b29036",
   "metadata": {},
   "outputs": [],
   "source": [
    "import pandas as pd\n",
    "\n",
    "# Load the dataset\n",
    "df = pd.read_csv('city_information.csv')\n",
    "print(df.head())"
   ]
  },
  {
   "cell_type": "markdown",
   "id": "a971bd7f-8fb2-4e18-b18a-7700732ad449",
   "metadata": {},
   "source": [
    "#### <span style=\"color:red\">1.Create a 1D numpy array from the 'Population (millions)' column."
   ]
  },
  {
   "cell_type": "code",
   "execution_count": null,
   "id": "7a68cdc7-6835-4090-a49a-45847c5493f4",
   "metadata": {},
   "outputs": [],
   "source": [
    "#import\n",
    "\n",
    "# Load the dataset\n",
    "\n",
    "# Convert 'Population (millions)' column to numpy array\n"
   ]
  },
  {
   "cell_type": "markdown",
   "id": "c11909f4-217c-4b38-8b47-6af0e9870524",
   "metadata": {},
   "source": [
    "#### <span style=\"color:red\">2.Create a 2D numpy array from the 'Population (millions)' and 'Area (sq km)' columns."
   ]
  },
  {
   "cell_type": "code",
   "execution_count": null,
   "id": "7b3ef7ee-b513-4965-911a-df9733fa1b9c",
   "metadata": {},
   "outputs": [],
   "source": [
    "# Convert 'Population (millions)' and 'Area (sq km)' columns to a 2D numpy array\n",
    "\n",
    "\n"
   ]
  },
  {
   "cell_type": "code",
   "execution_count": null,
   "id": "939984b6-6e13-4fd2-b1cd-ac5e22e20b42",
   "metadata": {},
   "outputs": [],
   "source": [
    "# Create 2D array from Population and Area columns\n"
   ]
  },
  {
   "cell_type": "markdown",
   "id": "a5f2e9d2-64cd-4b43-b87f-52d42ba900d7",
   "metadata": {},
   "source": [
    "#### <span style=\"color:red\">3.Access the first five items of the 'GDP per Capita ($)' array."
   ]
  },
  {
   "cell_type": "code",
   "execution_count": null,
   "id": "8c44fc0f-176c-4285-98d0-7b48c52ca971",
   "metadata": {},
   "outputs": [],
   "source": [
    "# Convert 'GDP per Capita ($)' column to numpy array\n",
    "\n",
    "# Access the first five items\n",
    "\n",
    "\n"
   ]
  },
  {
   "cell_type": "markdown",
   "id": "9fcc5215-45c4-449e-aaf1-944721f9bc56",
   "metadata": {},
   "source": [
    "#### <span style=\"color:red\">4.Create an array of ones and an array of zeros with the same length as the dataset."
   ]
  },
  {
   "cell_type": "code",
   "execution_count": null,
   "id": "f9449a29-b2bf-46a4-af46-e81e028ae5a9",
   "metadata": {},
   "outputs": [],
   "source": [
    "# Create an array of ones\n",
    "\n",
    "# Create an array of zeros\n",
    "\n"
   ]
  },
  {
   "cell_type": "markdown",
   "id": "995e8594-37fd-4754-99e8-396a6e9a214a",
   "metadata": {},
   "source": [
    "#### <span style=\"color:red\">5.Show slicing of the 'Area (sq km)' array to get the last five elements."
   ]
  },
  {
   "cell_type": "code",
   "execution_count": null,
   "id": "51795e73-8e45-464c-8c6a-4f9e8b70150c",
   "metadata": {},
   "outputs": [],
   "source": [
    "# Convert 'Area (sq km)' column to numpy array\n",
    "\n",
    "# Slice to get the last five elements\n",
    "\n",
    "\n",
    "\n"
   ]
  },
  {
   "cell_type": "markdown",
   "id": "bb80f389-344e-413f-bed2-58e4c4180d2d",
   "metadata": {},
   "source": [
    "#### <span style=\"color:red\">6.Find the data type of the 'Population (millions)' array and convert it to float."
   ]
  },
  {
   "cell_type": "code",
   "execution_count": null,
   "id": "e2a051ce-e89b-43bb-a5e5-1bd4e7c1a850",
   "metadata": {},
   "outputs": [],
   "source": [
    "# Check the data type of 'Population (millions)' array\n",
    "\n",
    "# Convert the array to float\n",
    "\n",
    "\n",
    "\n"
   ]
  },
  {
   "cell_type": "markdown",
   "id": "fbcad229-bdc6-4635-9143-bccc54c6bbc6",
   "metadata": {},
   "source": [
    "#### <span style=\"color:red\">7.Get the shape of the 'Population (millions)' array"
   ]
  },
  {
   "cell_type": "code",
   "execution_count": null,
   "id": "aed58e1d-1631-45b1-a8cc-431c3c1159f2",
   "metadata": {},
   "outputs": [],
   "source": [
    "# Get the shape of 'Population (millions)' array\n",
    "\n"
   ]
  },
  {
   "cell_type": "markdown",
   "id": "2243d3f1-4095-4d88-be0a-8791a57419a3",
   "metadata": {},
   "source": [
    "#### <span style=\"color:red\">8.Reshape the 'Population (millions)' array into a 2D array with 3 columns."
   ]
  },
  {
   "cell_type": "code",
   "execution_count": null,
   "id": "28ce1552-0842-48aa-bc54-b40ef77feb5b",
   "metadata": {},
   "outputs": [],
   "source": [
    "# Reshape the 'Population (millions)' array\n",
    "\n",
    "\n"
   ]
  },
  {
   "cell_type": "markdown",
   "id": "c453880c-838e-4dde-b24c-d683e29aab76",
   "metadata": {},
   "source": [
    "#### <span style=\"color:red\">9.Split the 'GDP per Capita ($)' array into 3 equal parts."
   ]
  },
  {
   "cell_type": "code",
   "execution_count": null,
   "id": "973ea10e-e6e7-4877-aefb-ea90ce4e8fbb",
   "metadata": {},
   "outputs": [],
   "source": [
    "# Split the 'GDP per Capita ($)' array into 3 equal parts\n"
   ]
  },
  {
   "cell_type": "markdown",
   "id": "464c66b1-d182-4ca2-abef-0ec7fcff1070",
   "metadata": {},
   "source": [
    "#### <span style=\"color:red\">10.Find the indices of cities with GDP per Capita greater than $50,000."
   ]
  },
  {
   "cell_type": "code",
   "execution_count": null,
   "id": "a54ff4c9-f8d5-44ad-8b32-6a7a993a24ef",
   "metadata": {},
   "outputs": [],
   "source": [
    "# Find indices where GDP per Capita is greater than 50,000\n",
    "\n"
   ]
  },
  {
   "cell_type": "markdown",
   "id": "10e16405-1f54-46b1-afd8-f0a04c5f102e",
   "metadata": {},
   "source": [
    "#### <span style=\"color:Red\">11. Sort the 'Population (millions)' array in ascending order."
   ]
  },
  {
   "cell_type": "code",
   "execution_count": null,
   "id": "9c4bc66d-c4ed-44f7-a4dd-49bc53727a59",
   "metadata": {},
   "outputs": [],
   "source": [
    "# Sort the 'Population (millions)' array\n",
    "\n"
   ]
  },
  {
   "cell_type": "markdown",
   "id": "c418e80e-b100-468b-bf9c-313924f070f3",
   "metadata": {},
   "source": [
    "#### <span style=\"color:Red\">12.Filter the 'Area (sq km)' array to show only values greater than 5000."
   ]
  },
  {
   "cell_type": "code",
   "execution_count": null,
   "id": "e9495c3a-0489-4cb3-9d2e-085233fd6182",
   "metadata": {},
   "outputs": [],
   "source": [
    "# Filter 'Area (sq km)' array to show values greater than 5000\n"
   ]
  },
  {
   "cell_type": "markdown",
   "id": "016a38a2-8b92-4add-9e66-498c011c815b",
   "metadata": {},
   "source": [
    "#### <span style=\"color:red\">13.Perform a query to find cities with a population between 5 and 10 million."
   ]
  },
  {
   "cell_type": "code",
   "execution_count": null,
   "id": "57a5cfd2-b3b8-43cf-b5c8-ab2737d6e302",
   "metadata": {},
   "outputs": [],
   "source": [
    "# Perform the query using numpy\n",
    "\n"
   ]
  },
  {
   "cell_type": "markdown",
   "id": "cd95a9b5-4771-4a33-8aad-330cf97a0f26",
   "metadata": {},
   "source": [
    "#### <span style=\"color:red\"> 14.Find cities with an area greater than 1000 sq km and a GDP per Capita less than $50,000."
   ]
  },
  {
   "cell_type": "code",
   "execution_count": null,
   "id": "c490280b-ee84-4d68-b82a-aa8d2cc3fbbf",
   "metadata": {},
   "outputs": [],
   "source": [
    "# Perform the query using numpy\n",
    "\n"
   ]
  },
  {
   "cell_type": "markdown",
   "id": "7415e9b9-4c9c-4e80-abdf-da6df02f507e",
   "metadata": {},
   "source": [
    "#### <span style=\"color:red\">15.Find cities in 'China' with a population greater than 10 million."
   ]
  },
  {
   "cell_type": "code",
   "execution_count": null,
   "id": "119b942b-2d18-4569-bbc9-c3719961c1aa",
   "metadata": {},
   "outputs": [],
   "source": [
    "# Convert 'Country' and 'City' columns to numpy arrays\n",
    "\n",
    "\n",
    "# Perform the query using numpy\n",
    "\n"
   ]
  },
  {
   "cell_type": "markdown",
   "id": "1d9771cb-3417-42fb-a260-3412368acf8c",
   "metadata": {},
   "source": [
    "#### <span style=\"color:red\">16.Find cities with a population less than 5 million or GDP per Capita greater than $60,000."
   ]
  },
  {
   "cell_type": "code",
   "execution_count": null,
   "id": "3348aad7-d68c-4def-b227-ced37e719020",
   "metadata": {},
   "outputs": [],
   "source": [
    "# Perform the query using numpy\n",
    "\n",
    "\n",
    "\n"
   ]
  },
  {
   "cell_type": "markdown",
   "id": "3b05dcfc-cac2-4643-80d2-faaccad87235",
   "metadata": {},
   "source": [
    "#### <span style=\"color:red\">17.Find cities in 'USA' with a GDP per Capita greater than $60,000."
   ]
  },
  {
   "cell_type": "code",
   "execution_count": null,
   "id": "0ae9e086-2eeb-4e9b-a96a-170bde8c0179",
   "metadata": {},
   "outputs": [],
   "source": [
    "# Perform the query using numpy\n",
    "\n"
   ]
  },
  {
   "cell_type": "markdown",
   "id": "0c977017-61fb-4f46-9bc0-477c4c81f15b",
   "metadata": {},
   "source": [
    "## <span style=\"color:blue\">-----END OF THE SESSION-----"
   ]
  },
  {
   "cell_type": "markdown",
   "id": "894dfc3f-ac2c-4aa9-a25e-197d95f9e1ea",
   "metadata": {},
   "source": [
    "## <span style=\"color:Red\"> ASSIGNMENT"
   ]
  },
  {
   "cell_type": "code",
   "execution_count": null,
   "id": "ca7daad0-207c-459f-892f-b60636a05563",
   "metadata": {},
   "outputs": [],
   "source": [
    "import pandas as pd\n",
    "data = pd.read_csv(\"animal.csv\")\n",
    "print(data.head())"
   ]
  },
  {
   "cell_type": "markdown",
   "id": "7dd35150-95dd-42a1-83c1-af043140aaf8",
   "metadata": {},
   "source": [
    "<span style=\"color:red\">1.Convert the dataset into a NumPy array."
   ]
  },
  {
   "cell_type": "code",
   "execution_count": null,
   "id": "1ea3060b-60f6-4d76-9d5b-cd332bd57e4f",
   "metadata": {},
   "outputs": [],
   "source": [
    "\n",
    "\n"
   ]
  },
  {
   "cell_type": "markdown",
   "id": "d86f39fd-8846-45ad-a6bd-fb5f474d430a",
   "metadata": {},
   "source": [
    "<span style=\"color:red\">2. Create 1D and 2D arrays."
   ]
  },
  {
   "cell_type": "code",
   "execution_count": null,
   "id": "2e67ae47-5746-4e1e-abd1-a1f862861059",
   "metadata": {},
   "outputs": [],
   "source": []
  },
  {
   "cell_type": "markdown",
   "id": "8248b71d-be55-4318-87af-287b853dbd5a",
   "metadata": {},
   "source": [
    "<span style=\"color:red\">3. Access items from the array."
   ]
  },
  {
   "cell_type": "code",
   "execution_count": null,
   "id": "ccbf5663-a21b-45ad-aa79-070f59e922a3",
   "metadata": {},
   "outputs": [],
   "source": []
  },
  {
   "cell_type": "markdown",
   "id": "bf447fc0-0be3-4b29-88f8-d93a77119a5c",
   "metadata": {},
   "source": [
    "<span style=\"color:red\">4. Sort an array in ascending order"
   ]
  },
  {
   "cell_type": "code",
   "execution_count": null,
   "id": "c0e26724-dfad-4a05-924e-87e7f226ea18",
   "metadata": {},
   "outputs": [],
   "source": [
    "\n"
   ]
  },
  {
   "cell_type": "markdown",
   "id": "18b70542-8e67-4958-ad30-75b1d45060b0",
   "metadata": {},
   "source": [
    "<span style=\"color:red\">5. Demonstrate how to slice arrays in NumPy. Extract the first five elements from the animal_arr array and the last five elements from the lifespan_arr array."
   ]
  },
  {
   "cell_type": "code",
   "execution_count": null,
   "id": "7f59e4bc-f9e5-4014-9fbf-818bb679ef09",
   "metadata": {},
   "outputs": [],
   "source": []
  },
  {
   "cell_type": "markdown",
   "id": "12881e0b-b289-48fe-b81b-7d59b30ee3cc",
   "metadata": {},
   "source": [
    "<span style=\"color:red\">6. Display the data type of the lifespan_arr array and change its data type to float."
   ]
  },
  {
   "cell_type": "code",
   "execution_count": null,
   "id": "19e3f26f-539f-4720-9b58-c034beceab74",
   "metadata": {},
   "outputs": [],
   "source": []
  },
  {
   "cell_type": "markdown",
   "id": "ea3ee90b-f899-4ea5-9237-c27012b59224",
   "metadata": {},
   "source": [
    "<span style=\"color:red\">7. Display the shape of the lifespan_arr array and reshape it to a 6x5 matrix."
   ]
  },
  {
   "cell_type": "code",
   "execution_count": null,
   "id": "f382338d-e88b-4746-a7df-464ff9751eac",
   "metadata": {},
   "outputs": [],
   "source": []
  },
  {
   "cell_type": "markdown",
   "id": "a41fc66e-8993-4442-9bd7-54017aabb2a0",
   "metadata": {},
   "source": [
    "<span style=\"color:red\">8.Find herbivorous animals that are endangered."
   ]
  },
  {
   "cell_type": "code",
   "execution_count": null,
   "id": "7590b2c4-3767-44fc-ba52-7618cf4567a2",
   "metadata": {},
   "outputs": [],
   "source": []
  },
  {
   "cell_type": "markdown",
   "id": "4a7840da-fc43-4bb2-b317-da5e0f02232c",
   "metadata": {},
   "source": [
    "<span style=\"color:red\">9. Find animals living in 'Grasslands' with a lifespan less than 20 years."
   ]
  },
  {
   "cell_type": "code",
   "execution_count": null,
   "id": "7706d0c0-05be-46d0-ab84-51ddccc1c715",
   "metadata": {},
   "outputs": [],
   "source": []
  },
  {
   "cell_type": "markdown",
   "id": "4c4b62b1-e8e1-44f3-9537-66882c3ef3b5",
   "metadata": {},
   "source": [
    "<span style=\"color:red\">10. Find 'Mammals' that are not endangered"
   ]
  },
  {
   "cell_type": "code",
   "execution_count": null,
   "id": "291375d6-263c-4569-8905-6f84f9519691",
   "metadata": {},
   "outputs": [],
   "source": [
    "\n"
   ]
  },
  {
   "cell_type": "markdown",
   "id": "6efe42ce-cb26-4547-a6da-42809f454643",
   "metadata": {},
   "source": [
    "<span style=\"color:red\">11. Find animals living in 'Jungle' with a lifespan between 10 and 30 years."
   ]
  },
  {
   "cell_type": "code",
   "execution_count": null,
   "id": "e1b71d77-dd78-439f-b59e-b8dd7ed80a3e",
   "metadata": {},
   "outputs": [],
   "source": []
  },
  {
   "cell_type": "markdown",
   "id": "f46ac985-b13f-46fa-bc7a-9623b74076aa",
   "metadata": {},
   "source": [
    "<span style=\"color:red\">12. Find animals that are either 'Birds' or live in 'Ocean'."
   ]
  },
  {
   "cell_type": "code",
   "execution_count": null,
   "id": "17fec3a8-7da3-4a34-ae5d-c22a4168f9a4",
   "metadata": {},
   "outputs": [],
   "source": []
  },
  {
   "cell_type": "markdown",
   "id": "040f8d24-0929-4c38-8744-04f514b2b76f",
   "metadata": {},
   "source": [
    "<span style=\"color:red\">13. Find non-endangered animals with a lifespan greater than 30 years."
   ]
  },
  {
   "cell_type": "code",
   "execution_count": null,
   "id": "bb8dcf5b-66b7-445e-8295-402d05849560",
   "metadata": {},
   "outputs": [],
   "source": []
  },
  {
   "cell_type": "markdown",
   "id": "e0d3c707-8d7f-470e-96b2-9375a2979d12",
   "metadata": {},
   "source": [
    "<div style=\"position: relative; width: 100%; height: 100vh; padding: 50px; box-sizing: border-box;\">\n",
    "    <!-- Logo positioned in the right corner -->\n",
    "    <img src=\"logo.png\" style=\"position: absolute; top: 10px; right: 10px; width: 200px;\"/>\n",
    "\n",
    "   <!-- Proprietary Content -->\n",
    "   <div style=\"position: absolute; bottom: px5; left: 5%; transform: translateX(-50%); color: grey; text-align: left;font-style: italic\">\n",
    "   <p>Proprietary content. © 10xTechClub. All Rights Reserved. Unauthorized use or distribution prohibited.</p>\n",
    "   </div>\n",
    "</div>"
   ]
  },
  {
   "cell_type": "code",
   "execution_count": null,
   "id": "929be0ac-2bc3-4897-818e-02bb79173d8d",
   "metadata": {},
   "outputs": [],
   "source": []
  }
 ],
 "metadata": {
  "kernelspec": {
   "display_name": "Python 3 (ipykernel)",
   "language": "python",
   "name": "python3"
  },
  "language_info": {
   "codemirror_mode": {
    "name": "ipython",
    "version": 3
   },
   "file_extension": ".py",
   "mimetype": "text/x-python",
   "name": "python",
   "nbconvert_exporter": "python",
   "pygments_lexer": "ipython3",
   "version": "3.11.6"
  }
 },
 "nbformat": 4,
 "nbformat_minor": 5
}
