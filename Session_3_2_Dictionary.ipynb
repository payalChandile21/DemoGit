{
 "cells": [
  {
   "cell_type": "markdown",
   "id": "a61c5b7e-28be-4b87-bd71-dbca7621917a",
   "metadata": {},
   "source": [
    "<div style=\"position: relative; width: 100%; height: 100vh; padding: 50px; box-sizing: border-box;\">\n",
    "    <!-- Logo positioned in the right corner -->\n",
    "    <img src=\"logo.png\" style=\"position: absolute; top: 10px; right: 10px; width: 200px;\"/>\n",
    "\n",
    "   <!-- Proprietary Content -->\n",
    "   <div style=\"position: absolute; bottom: px5; left: 5%; transform: translateX(-50%); color: grey; text-align: left;font-style: italic\">\n",
    "   <p>Proprietary content. © 10xTechClub. All Rights Reserved. Unauthorized use or distribution prohibited.</p>\n",
    "   </div>\n",
    "</div>"
   ]
  },
  {
   "cell_type": "markdown",
   "id": "dec22936",
   "metadata": {
    "jp-MarkdownHeadingCollapsed": true
   },
   "source": [
    "## <span style=\"color:blue\"> Session 3 - Python Data Types (Dictionary)\n"
   ]
  },
  {
   "cell_type": "markdown",
   "id": "adcaa840",
   "metadata": {},
   "source": [
    "Dictionaries are used to store data values in key:value pairs.\n",
    "\n",
    "A dictionary is a collection which is ordered*, changeable and do not allow duplicates.\n"
   ]
  },
  {
   "cell_type": "markdown",
   "id": "b64b667d",
   "metadata": {
    "jp-MarkdownHeadingCollapsed": true
   },
   "source": [
    "## <span style=\"color:blue\"> Create a Dictionary\n",
    "We create a dictionary by placing key: value pairs inside curly brackets {}, separated by commas. For example,"
   ]
  },
  {
   "cell_type": "markdown",
   "id": "c8c1f933-2fde-4f16-a6b6-bbfdf2beb6f7",
   "metadata": {},
   "source": [
    "<span style=\"color:red\">Write a Python program that initializes a dictionary countries_capitals with the following key-"
   ]
  },
  {
   "cell_type": "code",
   "execution_count": 1,
   "id": "ac282de6",
   "metadata": {},
   "outputs": [
    {
     "name": "stdout",
     "output_type": "stream",
     "text": [
      "{'Germany': 'Berlin', 'Canada': 'Ottawa', 'England': 'London'}\n"
     ]
    }
   ],
   "source": [
    "# creating a dictionary\n",
    "country_capitals = {\n",
    "  \"Germany\": \"Berlin\", \n",
    "  \"Canada\": \"Ottawa\", \n",
    "  \"England\": \"London\"\n",
    "}\n",
    "\n",
    "# printing the dictionary\n",
    "print(country_capitals)"
   ]
  },
  {
   "cell_type": "markdown",
   "id": "de0b1a9e",
   "metadata": {},
   "source": [
    "The country_capitals dictionary has three elements (key-value pairs), where 'Germany' is the key and 'Berlin' is the value assigned to it and so on."
   ]
  },
  {
   "attachments": {
    "image.png": {
     "image/png": "[encoded data removed]"
    }
   },
   "cell_type": "markdown",
   "id": "cf76ba8f",
   "metadata": {},
   "source": [
    "![image.png](attachment:image.png)"
   ]
  },
  {
   "cell_type": "markdown",
   "id": "abe671b9",
   "metadata": {},
   "source": [
    "- Dictionary keys must be immutable, such as tuples, strings, integers, etc. We cannot use mutable (changeable) objects such as lists as keys.\n",
    "- We can also create a dictionary using a Python built-in function dict(). To learn more, visit Python dict()."
   ]
  },
  {
   "cell_type": "markdown",
   "id": "9a18b15f",
   "metadata": {
    "jp-MarkdownHeadingCollapsed": true
   },
   "source": [
    "## <span style=\"color:blue\">Duplicates Not Allowed\n",
    "Dictionaries cannot have two items with the same key:"
   ]
  },
  {
   "cell_type": "code",
   "execution_count": 1,
   "id": "ac21a46f",
   "metadata": {},
   "outputs": [
    {
     "name": "stdout",
     "output_type": "stream",
     "text": [
      "{'brand': 'Ford', 'model': 'Mustang', 'year': 2020}\n"
     ]
    }
   ],
   "source": [
    "thisdict = {\n",
    "  \"brand\": \"Ford\",\n",
    "  \"model\": \"Mustang\",\n",
    "  \"year\": 1964,\n",
    "  \"year\": 2020\n",
    "}\n",
    "print(thisdict)"
   ]
  },
  {
   "cell_type": "markdown",
   "id": "d70fa082",
   "metadata": {
    "jp-MarkdownHeadingCollapsed": true
   },
   "source": [
    "## <span style=\"color:blue\">Dictionary Items - Data Types\n",
    "The values in dictionary items can be of any data type:"
   ]
  },
  {
   "cell_type": "code",
   "execution_count": 3,
   "id": "1b13dddb",
   "metadata": {},
   "outputs": [
    {
     "name": "stdout",
     "output_type": "stream",
     "text": [
      "{'brand': 'Ford', 'electric': False, 'year': 1964, 'colors': ['red', 'white', 'blue']}\n"
     ]
    }
   ],
   "source": [
    "dict1 = {\n",
    "  \"brand\": \"Ford\",\n",
    "  \"electric\": False,\n",
    "  \"year\": 1964,\n",
    "  \"colors\": [\"red\", \"white\", \"blue\"]\n",
    "}\n",
    "print(dict1)\n"
   ]
  },
  {
   "cell_type": "code",
   "execution_count": 4,
   "id": "0db328f6",
   "metadata": {},
   "outputs": [
    {
     "name": "stdout",
     "output_type": "stream",
     "text": [
      "<class 'dict'>\n"
     ]
    }
   ],
   "source": [
    "print(type(dict1))"
   ]
  },
  {
   "cell_type": "markdown",
   "id": "b1f496c8-7f88-458b-aee6-387bf5e29597",
   "metadata": {},
   "source": [
    "### <span style=\"color:blue\">PRACTICE QUESTIONS"
   ]
  },
  {
   "cell_type": "markdown",
   "id": "557d9957-f5de-49a1-8842-8f105cdfc38f",
   "metadata": {},
   "source": [
    "#### <span style=\"color:red\">1.Write a Python program that initializes a dictionary car_brands_countries with the key-value pairs:\n",
    "{\n",
    "    \"Toyota\": \"Japan\",\n",
    "    \"Honda\": \"Japan\",\n",
    "    \"Ford\": \"USA\",\n",
    "    \"BMW\": \"Germany\",\n",
    "    \"Mercedes\": \"Germany\",\n",
    "    \"Audi\": \"Germany\",\n",
    "    \"Chevrolet\": \"USA\",\n",
    "    \"Tesla\": \"USA\"\n",
    "}"
   ]
  },
  {
   "cell_type": "code",
   "execution_count": 1,
   "id": "b04a57da-e878-410b-9b91-90bcd1f96359",
   "metadata": {},
   "outputs": [],
   "source": [
    "# Car Brands Countries Dictionary\n",
    "\n",
    "\n",
    "\n",
    "\n",
    "\n",
    "# Print the dictionary\n"
   ]
  },
  {
   "cell_type": "markdown",
   "id": "d53f22ef-440f-4620-bb8d-4e204afa66d7",
   "metadata": {},
   "source": [
    "#### <span style=\"color:red\">2.Write a Python program that initializes a dictionary sports_players with the following key-value pairs:\n",
    "{\n",
    "    \"soccer\": 11,\n",
    "    \"basketball\": 5,\n",
    "    \"tennis\": 1,\n",
    "    \"cricket\": 11,\n",
    "    \"baseball\": 9,\n",
    "    \"hockey\": 6,\n",
    "    \"swimming\": 1,\n",
    "    \"golf\": 1\n",
    "}\n"
   ]
  },
  {
   "cell_type": "code",
   "execution_count": null,
   "id": "18d4e7df-2103-4a96-ba00-c80908225a40",
   "metadata": {},
   "outputs": [],
   "source": []
  },
  {
   "cell_type": "markdown",
   "id": "0b1e0bfd-ca73-4c2c-a268-d9a1a1d9463b",
   "metadata": {},
   "source": [
    "#### <span style=\"color:red\">3.Write a Python program that initializes a dictionary hobbies_benefits with the following key-value pairs:\n",
    "{\n",
    "    \"reading\": \"knowledge\",\n",
    "    \"painting\": \"creativity\",\n",
    "    \"gardening\": \"relaxation\",\n",
    "    \"cooking\": \"nutrition\",\n",
    "    \"knitting\": \"stress relief\",\n",
    "    \"photography\": \"artistic expression\",\n",
    "    \"traveling\": \"cultural exposure\",\n",
    "    \"hiking\": \"fitness\"\n",
    "}\n"
   ]
  },
  {
   "cell_type": "code",
   "execution_count": null,
   "id": "57673f03-07e6-48a2-b3f6-ff0c5b8b928e",
   "metadata": {},
   "outputs": [],
   "source": []
  },
  {
   "cell_type": "markdown",
   "id": "23441df0",
   "metadata": {},
   "source": [
    "## <span style=\"color:blue\">Python Dictionary Methods\n",
    "Here are some of the commonly used dictionary methods."
   ]
  },
  {
   "attachments": {
    "image.png": {
     "image/png": "[encoded data removed]"
    }
   },
   "cell_type": "markdown",
   "id": "7aad2d8a",
   "metadata": {},
   "source": [
    "![image.png](attachment:image.png)\n"
   ]
  },
  {
   "cell_type": "markdown",
   "id": "e945b119",
   "metadata": {
    "jp-MarkdownHeadingCollapsed": true
   },
   "source": [
    "## <span style=\"color:blue\">Access Dictionary Items\n",
    "We can access the value of a dictionary item by placing the key inside square brackets."
   ]
  },
  {
   "cell_type": "markdown",
   "id": "98da1ead-24a5-41be-89f6-7719e0c2c8f7",
   "metadata": {},
   "source": [
    "<span style=\"color:red\">Access and print the value associated with the keys \"Germany\" and \"England\" in the dictionary country_capitals"
   ]
  },
  {
   "cell_type": "code",
   "execution_count": 5,
   "id": "eb1fbd90",
   "metadata": {},
   "outputs": [
    {
     "name": "stdout",
     "output_type": "stream",
     "text": [
      "Berlin\n",
      "London\n"
     ]
    }
   ],
   "source": [
    "country_capitals = {\n",
    "  \"Germany\": \"Berlin\", \n",
    "  \"Canada\": \"Ottawa\", \n",
    "  \"England\": \"London\"\n",
    "}\n",
    "\n",
    "# access the value of keys\n",
    "print(country_capitals[\"Germany\"])    # Output: Berlin\n",
    "print(country_capitals[\"England\"])    # Output: London"
   ]
  },
  {
   "cell_type": "markdown",
   "id": "cff7863b-3331-46ac-b8b9-51772c26053d",
   "metadata": {},
   "source": [
    "### <span style=\"color:blue\">PRACTICE QUESTIONS"
   ]
  },
  {
   "cell_type": "markdown",
   "id": "809f4655-5ee1-4489-a8b5-f741711da044",
   "metadata": {},
   "source": [
    "#### <span style=\"color:red\">1.Access and print the value associated with the keys \"Toyota\" and \"BMW\" in the dictionary car_brands_countries."
   ]
  },
  {
   "cell_type": "code",
   "execution_count": null,
   "id": "d21363c8-e3c3-4058-bf0c-9f8deecdcb5f",
   "metadata": {},
   "outputs": [],
   "source": []
  },
  {
   "cell_type": "markdown",
   "id": "4354fc0c-7d69-4baf-abcd-5e62dd315c07",
   "metadata": {},
   "source": [
    "#### <span style=\"color:red\">2.Access and print the value associated with the keys \"soccer\" and \"cricket\" in the dictionary sports_players."
   ]
  },
  {
   "cell_type": "code",
   "execution_count": null,
   "id": "6b94a737-7559-4fc0-bd79-a6c4b2939c55",
   "metadata": {},
   "outputs": [],
   "source": []
  },
  {
   "cell_type": "markdown",
   "id": "61b40be7-6fcc-4595-abec-aaf28d99fe3b",
   "metadata": {},
   "source": [
    "#### <span style=\"color:red\">3.Access and print the value associated with the keys \"reading\" and \"knitting\" in the dictionary hobbies_benefits."
   ]
  },
  {
   "cell_type": "code",
   "execution_count": null,
   "id": "b11d663f-c32a-4a28-ad7b-5212b80c4123",
   "metadata": {},
   "outputs": [],
   "source": []
  },
  {
   "cell_type": "markdown",
   "id": "5d182267",
   "metadata": {},
   "source": [
    "## <span style=\"color:blue\">Get Keys\n",
    "The keys() method will return a list of all the keys in the dictionary."
   ]
  },
  {
   "cell_type": "markdown",
   "id": "7735e8d3-db28-4e71-80c2-4994551275f4",
   "metadata": {},
   "source": [
    "<span style=\"color:red\">Write a Python program that initializes a dictionary country_capitals with the given key-value pairs. Retrieve and print all the keys from the country_capitals dictionary."
   ]
  },
  {
   "cell_type": "code",
   "execution_count": 5,
   "id": "082e3b9f",
   "metadata": {},
   "outputs": [
    {
     "name": "stdout",
     "output_type": "stream",
     "text": [
      "dict_keys(['Germany', 'Canada', 'England'])\n"
     ]
    }
   ],
   "source": [
    "country_capitals = {\n",
    "  \"Germany\": \"Berlin\", \n",
    "  \"Canada\": \"Ottawa\", \n",
    "  \"England\": \"London\"\n",
    "}\n",
    "x = country_capitals.keys()\n",
    "print(x)\n"
   ]
  },
  {
   "cell_type": "markdown",
   "id": "0d8db3fa-9988-4d51-bfef-b6c282aecb6f",
   "metadata": {},
   "source": [
    "### <span style=\"color:blue\">PRACTICE QUESTIONS"
   ]
  },
  {
   "cell_type": "markdown",
   "id": "a54df4b5-d048-4372-8a26-33705591fbc9",
   "metadata": {},
   "source": [
    "#### <span style=\"color:red\">1.Write a Python program that initializes a dictionary car_brands_countries with the key-value pairs. Retrieve and print all the keys from the car_brands_countries dictionary.its"
   ]
  },
  {
   "cell_type": "code",
   "execution_count": null,
   "id": "4c6b9f63-e4ad-483a-b176-b18137ff0f4b",
   "metadata": {},
   "outputs": [],
   "source": []
  },
  {
   "cell_type": "markdown",
   "id": "8e4753ba-c635-4402-b6aa-e6fc96bc7879",
   "metadata": {},
   "source": [
    "#### <span style=\"color:red\">2.Write a Python program that initializes a dictionary sports_players with the key-value pairs.Retrieve and print all the keys from the sports_players dictionary."
   ]
  },
  {
   "cell_type": "code",
   "execution_count": null,
   "id": "2ba90b94-f1fa-48ca-a3d7-10c72f619c7b",
   "metadata": {},
   "outputs": [],
   "source": []
  },
  {
   "cell_type": "markdown",
   "id": "79755636-57b4-426a-b529-ae0d7d1643fe",
   "metadata": {},
   "source": [
    "#### <span style=\"color:red\">3.Write a Python program that initializes a dictionary hobbies_benefits with the following key-value pairs.Retrieve and print all the keys from the hobbies_benefits dictionary."
   ]
  },
  {
   "cell_type": "code",
   "execution_count": null,
   "id": "01327043-7c88-4928-867e-78c773682efe",
   "metadata": {},
   "outputs": [],
   "source": []
  },
  {
   "cell_type": "markdown",
   "id": "ad32ae0b",
   "metadata": {
    "jp-MarkdownHeadingCollapsed": true
   },
   "source": [
    "## <span style=\"color:blue\">Get Values\n",
    "The values() method will return a list of all the values in the dictionary."
   ]
  },
  {
   "cell_type": "markdown",
   "id": "3ccdee5e-51ea-4b07-95a4-acd444dd1e7c",
   "metadata": {},
   "source": [
    "<span style=\"color:red\">Write a Python program that initializes a dictionary country_capitals with the given key-value pairs. Retrieve and print all the values from the country_capitals dictionary.its"
   ]
  },
  {
   "cell_type": "code",
   "execution_count": 6,
   "id": "261aed4b",
   "metadata": {},
   "outputs": [
    {
     "name": "stdout",
     "output_type": "stream",
     "text": [
      "dict_values(['Berlin', 'Ottawa', 'London'])\n"
     ]
    }
   ],
   "source": [
    "country_capitals = {\n",
    "  \"Germany\": \"Berlin\", \n",
    "  \"Canada\": \"Ottawa\", \n",
    "  \"England\": \"London\"\n",
    "}\n",
    "x = country_capitals.values()\n",
    "print(x)"
   ]
  },
  {
   "cell_type": "markdown",
   "id": "37fcc8fd-b1a7-4708-a184-f38581857992",
   "metadata": {},
   "source": [
    "### <span style=\"color:blue\">PRACTICE QUESTIONS"
   ]
  },
  {
   "cell_type": "markdown",
   "id": "05b6072e-45be-4776-9b20-45ae0fa82c2a",
   "metadata": {},
   "source": [
    "#### <span style=\"color:red\">1.Write a Python program that initializes a dictionary car_brand_countries with the given key-value pairs. Retrieve and print all the values from the car_brand_countries dictionary."
   ]
  },
  {
   "cell_type": "code",
   "execution_count": null,
   "id": "8438b490-6417-4f28-b99b-10d2f693582d",
   "metadata": {},
   "outputs": [],
   "source": [
    "\n"
   ]
  },
  {
   "cell_type": "markdown",
   "id": "8206ba98-261e-419e-9e91-25c6fb8cae0d",
   "metadata": {},
   "source": [
    "#### <span style=\"color:red\">2.Write a Python program that initializes a dictionary sport_players with the given key-value pairs. Retrieve and print all the values from the sport_players dictionary."
   ]
  },
  {
   "cell_type": "code",
   "execution_count": null,
   "id": "eac5b05a-40da-4f10-8675-ff7539bfe0f9",
   "metadata": {},
   "outputs": [],
   "source": []
  },
  {
   "cell_type": "markdown",
   "id": "600d2061",
   "metadata": {
    "jp-MarkdownHeadingCollapsed": true
   },
   "source": [
    "## <span style=\"color:blue\">Add Items to a Dictionary\n",
    "We can add an item to a dictionary by assigning a value to a new key. For example,"
   ]
  },
  {
   "cell_type": "markdown",
   "id": "ee09e523-355e-44e0-959e-0a01928300a3",
   "metadata": {},
   "source": [
    "<span style=\"color:red\">Write a Python program that initializes a dictionary country_capitals with the given key-value pairs. Add a new item to the country_capitals dictionary with \"Italy\" as the key and \"Rome\" as its value. Print the updated country_capitals dictionary."
   ]
  },
  {
   "cell_type": "code",
   "execution_count": 3,
   "id": "38707a7d",
   "metadata": {},
   "outputs": [
    {
     "name": "stdout",
     "output_type": "stream",
     "text": [
      "{'Germany': 'Berlin', 'Canada': 'Ottawa', 'Italy': 'Rome'}\n"
     ]
    }
   ],
   "source": [
    "country_capitals = {\n",
    "  \"Germany\": \"Berlin\", \n",
    "  \"Canada\": \"Ottawa\", \n",
    "}\n",
    "\n",
    "# add an item with \"Italy\" as key and \"Rome\" as its value\n",
    "country_capitals[\"Italy\"] = \"Rome\"\n",
    "\n",
    "print(country_capitals)"
   ]
  },
  {
   "cell_type": "markdown",
   "id": "eb8a91cc-2015-41ee-b946-31e0670bb3b4",
   "metadata": {},
   "source": [
    "### <span style=\"color:blue\">PRACTICE QUESTIONS"
   ]
  },
  {
   "cell_type": "markdown",
   "id": "1567a881-5467-41d8-9c3b-a43c4f458101",
   "metadata": {},
   "source": [
    "#### <span style=\"color:red\">1.Add a new item to the car_brands_countries dictionary with \"Audi\" as the key and \"Germany\" as its value. Print the updated car_brands_countries dictionary."
   ]
  },
  {
   "cell_type": "code",
   "execution_count": null,
   "id": "4b4868b2-7aab-48d4-a0c8-6a70943faf56",
   "metadata": {},
   "outputs": [],
   "source": [
    "\n",
    "\n"
   ]
  },
  {
   "cell_type": "markdown",
   "id": "095fbf11-372b-4e7b-8613-3dfb97f99277",
   "metadata": {},
   "source": [
    "#### <span style=\"color:red\">2.Add a new item to the hobbies_benefits dictionary with \"cooking\" as the key and \"nutrition\" as its value. Print the updated hobbies_benefits dictionary."
   ]
  },
  {
   "cell_type": "code",
   "execution_count": null,
   "id": "a0bb790d-8e5f-4d01-b831-ee951096ae37",
   "metadata": {},
   "outputs": [],
   "source": []
  },
  {
   "cell_type": "markdown",
   "id": "687d10f8",
   "metadata": {
    "jp-MarkdownHeadingCollapsed": true
   },
   "source": [
    "## <span style=\"color:blue\">Update Dictionary\n",
    "The update() method will update the dictionary with the items from a given argument. If the item does not exist, the item will be added.\n",
    "\n",
    "The argument must be a dictionary, or an iterable object with key:value pairs."
   ]
  },
  {
   "cell_type": "markdown",
   "id": "cac4e272-85ad-4fcf-93a0-b0e2f90dfbd8",
   "metadata": {},
   "source": [
    "<span style=\"color:red\">Write a Python program that initializes a dictionary country_capitals with the given key-value pairs. Use the update() method to add a new item to the country_capitals dictionary with \"India\" as the key and \"Delhi\" as its value. Print the updated country_capitals dictionary."
   ]
  },
  {
   "cell_type": "code",
   "execution_count": 12,
   "id": "5bc2c507",
   "metadata": {},
   "outputs": [
    {
     "name": "stdout",
     "output_type": "stream",
     "text": [
      "{'Germany': 'Berlin', 'Canada': 'Ottawa', 'India': 'Delhi'}\n"
     ]
    }
   ],
   "source": [
    "country_capitals = {\n",
    "  \"Germany\": \"Berlin\", \n",
    "  \"Canada\": \"Ottawa\", \n",
    "}\n",
    "country_capitals.update({\"India\": \"Delhi\"})\n",
    "print(country_capitals)"
   ]
  },
  {
   "cell_type": "markdown",
   "id": "2919f27d-7495-4f2f-b57e-5bb5591ed5fe",
   "metadata": {},
   "source": [
    "### <span style=\"color:blue\">PRACTICE QUESTIONS"
   ]
  },
  {
   "cell_type": "markdown",
   "id": "a44edbd1-8d4a-49d6-95b9-2061a92afc3b",
   "metadata": {},
   "source": [
    "#### <span style=\"color:red\">1.Use the update() method to add a new item to the car_brands_countries dictionary with \"Audi\" as the key and \"Germany\" as its value. Print the updated car_brands_countries dictionary"
   ]
  },
  {
   "cell_type": "code",
   "execution_count": null,
   "id": "2a2f6d09-0abb-4d3d-9811-11e52e2cb710",
   "metadata": {},
   "outputs": [],
   "source": []
  },
  {
   "cell_type": "markdown",
   "id": "bf8a2b90-4c16-48bc-a799-bfbaa2c18304",
   "metadata": {},
   "source": [
    "#### <span style=\"color:red\">2.Use the update() method to add a new item to the hobbies_benefits dictionary with \"cooking\" as the key and \"nutrition\" as its value. Print the updated hobbies_benefits dictionary."
   ]
  },
  {
   "cell_type": "code",
   "execution_count": null,
   "id": "fbcdc91c-9557-4072-b575-24c86fa03139",
   "metadata": {},
   "outputs": [],
   "source": []
  },
  {
   "cell_type": "markdown",
   "id": "c7226cde",
   "metadata": {
    "jp-MarkdownHeadingCollapsed": true
   },
   "source": [
    "## <span style=\"color:blue\">Remove Dictionary Items\n",
    "We can use the del statement to remove an element from a dictionary. For example,"
   ]
  },
  {
   "cell_type": "markdown",
   "id": "0a5908b1-7dd6-4587-91d4-85eb853c5c79",
   "metadata": {},
   "source": [
    "<span style=\"color:red\">Write a Python program that initializes a dictionary country_capitals with the given key-value pairs. Use the del keyword to remove the item from the country_capitals dictionary that has \"Germany\" as the key. Print the updated country_capitals dictionary."
   ]
  },
  {
   "cell_type": "code",
   "execution_count": 4,
   "id": "b3d78bb5",
   "metadata": {},
   "outputs": [
    {
     "name": "stdout",
     "output_type": "stream",
     "text": [
      "{'Canada': 'Ottawa'}\n"
     ]
    }
   ],
   "source": [
    "country_capitals = {\n",
    "  \"Germany\": \"Berlin\", \n",
    "  \"Canada\": \"Ottawa\", \n",
    "}\n",
    "\n",
    "# delete item having \"Germany\" key\n",
    "del country_capitals[\"Germany\"]\n",
    "\n",
    "print(country_capitals)"
   ]
  },
  {
   "cell_type": "markdown",
   "id": "efdd33fa-0ded-49f4-8f55-aa029bbe850a",
   "metadata": {},
   "source": [
    "### <span style=\"color:blue\">PRACTICE QUESTIONS\n"
   ]
  },
  {
   "cell_type": "markdown",
   "id": "75cf93a1-0e06-4aa9-94f7-4268ee4667dc",
   "metadata": {},
   "source": [
    "#### <span style=\"color:red\">1.Write a Python program that initializes a dictionary car_brands_countries with the initial key-value pairs.Use the del keyword to remove the item from the car_brands_countries dictionary that has \"Honda\" as the key. Print the updated car_brands_countries dictionary."
   ]
  },
  {
   "cell_type": "code",
   "execution_count": null,
   "id": "99db95b4-d5ab-4fcc-b1ea-6934b478795f",
   "metadata": {},
   "outputs": [],
   "source": []
  },
  {
   "cell_type": "markdown",
   "id": "2dae3709-a20e-474b-b838-d3e2ebd742fc",
   "metadata": {},
   "source": [
    "#### <span style=\"color:red\">2.Write a Python program that initializes a dictionary sports_players with the initial key-value pairs.Use the del keyword to remove the item from the sports_players dictionary that has \"tennis\" as the key. Print the updated sports_players dictionary."
   ]
  },
  {
   "cell_type": "code",
   "execution_count": null,
   "id": "6aee31a1-ccf5-461f-8683-be407a4cb9ac",
   "metadata": {},
   "outputs": [],
   "source": []
  },
  {
   "cell_type": "markdown",
   "id": "ed6e3d2d",
   "metadata": {},
   "source": [
    "#### <span style=\"color:red\">If we need to remove all items from a dictionary at once, we can use the clear() method."
   ]
  },
  {
   "cell_type": "code",
   "execution_count": 5,
   "id": "5ab11f8d",
   "metadata": {},
   "outputs": [
    {
     "name": "stdout",
     "output_type": "stream",
     "text": [
      "{}\n"
     ]
    }
   ],
   "source": [
    "country_capitals = {\n",
    "  \"Germany\": \"Berlin\", \n",
    "  \"Canada\": \"Ottawa\", \n",
    "}\n",
    "\n",
    "# clear the dictionary\n",
    "country_capitals.clear()\n",
    "\n",
    "print(country_capitals)  "
   ]
  },
  {
   "cell_type": "markdown",
   "id": "4c567620",
   "metadata": {
    "jp-MarkdownHeadingCollapsed": true
   },
   "source": [
    "## <span style=\"color:blue\">Removing Items using pop() Method\n",
    "The pop() method removes the item with the specified key name:"
   ]
  },
  {
   "cell_type": "markdown",
   "id": "3ac8b1f3-76ea-4b4d-bf86-4bafd4d0d6bc",
   "metadata": {},
   "source": [
    "<span style=\"color:red\">Write a Python program that initializes a dictionary country_capitals with the given key-value pairs. Use the pop() method to remove the item from the country_capitals dictionary that has \"Italy\" as the key. Print the updated country_capitals dictionary."
   ]
  },
  {
   "cell_type": "code",
   "execution_count": 14,
   "id": "ebeb35f1",
   "metadata": {},
   "outputs": [
    {
     "name": "stdout",
     "output_type": "stream",
     "text": [
      "{'Germany': 'Berlin', 'England': 'London'}\n"
     ]
    }
   ],
   "source": [
    "country_capitals = {\n",
    "  \"Germany\": \"Berlin\", \n",
    "  \"Italy\": \"Naples\", \n",
    "  \"England\": \"London\"\n",
    "}\n",
    "country_capitals.pop(\"Italy\")\n",
    "print(country_capitals)"
   ]
  },
  {
   "cell_type": "markdown",
   "id": "8abf1ce3-e8eb-4d97-833e-9b7723349ceb",
   "metadata": {},
   "source": [
    "### <span style=\"color:blue\">PRACTICE QUESTIONS"
   ]
  },
  {
   "cell_type": "markdown",
   "id": "e73b8c10-216b-42a1-ac8a-3211dd813b4e",
   "metadata": {},
   "source": [
    "#### <span style=\"color:red\">1.Write a Python program that initializes a dictionary car_brand with the given key-value pairs.Use the pop() method to remove the item from the car_brands_countries dictionary that has \"Honda\" as the key. Print the updated car_brands_countries dictionary.\n",
    "\n"
   ]
  },
  {
   "cell_type": "code",
   "execution_count": null,
   "id": "fbddcc91-940d-4912-82ea-23fccd31b98b",
   "metadata": {},
   "outputs": [],
   "source": [
    "\n"
   ]
  },
  {
   "cell_type": "markdown",
   "id": "144cf052-d30c-45d4-ac68-94725c2b5516",
   "metadata": {},
   "source": [
    "#### <span style=\"color:red\">2.Write a Python program that initializes a dictionary sports_players with the initial key-value pairs.Use the pop() method to remove the item from the sports_players dictionary that has \"tennis\" as the key. Print the updated sports_players dictionary."
   ]
  },
  {
   "cell_type": "code",
   "execution_count": null,
   "id": "15a18e93-59a7-4c4a-941b-d3578d33af12",
   "metadata": {},
   "outputs": [],
   "source": []
  },
  {
   "cell_type": "markdown",
   "id": "23540ff6-a514-4e62-9d85-5db309fc0268",
   "metadata": {},
   "source": [
    "#### <span style=\"color:red\">3.Write a Python program that initializes a dictionary hobbies_benefits with the initial key-value pairs.Use the pop() method to remove the item from the hobbies_benefits dictionary that has \"painting\" as the key. Print the updated hobbies_benefits dictionary."
   ]
  },
  {
   "cell_type": "code",
   "execution_count": null,
   "id": "cb99013d-bc2b-4424-bab0-08ab6165a804",
   "metadata": {},
   "outputs": [],
   "source": [
    "\n"
   ]
  },
  {
   "cell_type": "markdown",
   "id": "efd63bc6",
   "metadata": {
    "jp-MarkdownHeadingCollapsed": true
   },
   "source": [
    "## <span style=\"color:blue\">Remove Last Item using popitem() Method"
   ]
  },
  {
   "cell_type": "markdown",
   "id": "daecff3a-72b5-4f9b-a841-d2fecd8eb512",
   "metadata": {},
   "source": [
    "<span style=\"color:red\">Write a python program to delete last item from the dictionary"
   ]
  },
  {
   "cell_type": "code",
   "execution_count": 15,
   "id": "077271d0",
   "metadata": {},
   "outputs": [
    {
     "name": "stdout",
     "output_type": "stream",
     "text": [
      "{'Germany': 'Berlin', 'Italy': 'Naples'}\n"
     ]
    }
   ],
   "source": [
    "country_capitals = {\n",
    "  \"Germany\": \"Berlin\", \n",
    "  \"Italy\": \"Naples\", \n",
    "  \"England\": \"London\"\n",
    "}\n",
    "country_capitals.popitem()\n",
    "print(country_capitals)"
   ]
  },
  {
   "cell_type": "markdown",
   "id": "b26b4e6c-5473-4db7-bc45-a2dd7e06f2eb",
   "metadata": {},
   "source": [
    "### <span style=\"color:blue\">PRACTICE QUESTIONS"
   ]
  },
  {
   "cell_type": "markdown",
   "id": "a0390df9-90b0-4ff6-9a6c-74bb1ae664ad",
   "metadata": {},
   "source": [
    "#### <span style=\"color:red\">Create a dictionary car_brands_countries representing various car brands and their countries of origin. Write a Python program to demonstrate removing the last item from this dictionary and print the updated dictionary."
   ]
  },
  {
   "cell_type": "code",
   "execution_count": 2,
   "id": "7536dd04-1066-4c7b-b1a0-c323be64a344",
   "metadata": {},
   "outputs": [],
   "source": [
    "# Initial dictionary\n",
    "\n",
    "\n",
    "# Removing the last item\n",
    "\n",
    "# Printing the updated dictionary\n",
    "\n"
   ]
  },
  {
   "cell_type": "markdown",
   "id": "427a5ef1",
   "metadata": {
    "jp-MarkdownHeadingCollapsed": true
   },
   "source": [
    "## <span style=\"color:blue\">Change Dictionary Items\n",
    "Python dictionaries are mutable (changeable). We can change the value of a dictionary element by referring to its key. For example,"
   ]
  },
  {
   "cell_type": "markdown",
   "id": "7dd46456-4855-4462-8e23-da633636db18",
   "metadata": {},
   "source": [
    "<span style=\"color:red\">Write a Python program that initializes a dictionary country_capitals with the given key-value pairs. Use the assignment (=) operation to change the value associated with the \"Italy\" key from \"Naples\" to \"Rome\". Print the updated country_capitals dictionary."
   ]
  },
  {
   "cell_type": "code",
   "execution_count": 6,
   "id": "7d2b7357",
   "metadata": {},
   "outputs": [
    {
     "name": "stdout",
     "output_type": "stream",
     "text": [
      "{'Germany': 'Berlin', 'Italy': 'Rome', 'England': 'London'}\n"
     ]
    }
   ],
   "source": [
    "country_capitals = {\n",
    "  \"Germany\": \"Berlin\", \n",
    "  \"Italy\": \"Naples\", \n",
    "  \"England\": \"London\"\n",
    "}\n",
    "\n",
    "# change the value of \"Italy\" key to \"Rome\"\n",
    "country_capitals[\"Italy\"] = \"Rome\"\n",
    "\n",
    "print(country_capitals)"
   ]
  },
  {
   "cell_type": "markdown",
   "id": "3f60a1b3-dc98-42eb-8f05-11fb76a84988",
   "metadata": {},
   "source": [
    "### <span style=\"color:blue\">PRACTICE QUESTIONS"
   ]
  },
  {
   "cell_type": "markdown",
   "id": "1be0d58d-a52e-4623-bb17-dbccd87b4268",
   "metadata": {},
   "source": [
    "#### <span style=\"color:red\">1.Write a Python program that initializes a dictionary car_brands_countries with the initial key-value pairs. Use the assignment (=) operation to change the value associated with the \"Honda\" key from \"Japan\" to \"Germany\". Print the updated car_brands_countries dictionary."
   ]
  },
  {
   "cell_type": "code",
   "execution_count": null,
   "id": "c6c197f8-4573-41f6-a4a8-3f8124ddc194",
   "metadata": {},
   "outputs": [],
   "source": []
  },
  {
   "cell_type": "markdown",
   "id": "c97e3e1e-b552-46f2-a6bb-95f829e4110b",
   "metadata": {},
   "source": [
    "#### <span style=\"color:red\">2.Write a Python program that initializes a dictionary sports_players with the initial key-value pairs.Use the assignment (=) operation to change the value associated with the \"tennis\" key from 1 to 2. Print the updated sports_players dictionary."
   ]
  },
  {
   "cell_type": "code",
   "execution_count": null,
   "id": "5990a30f-e435-4d57-9739-3317969d5c52",
   "metadata": {},
   "outputs": [],
   "source": []
  },
  {
   "cell_type": "markdown",
   "id": "a9bb5c26-1818-4bfe-bed5-4fc1d1b49213",
   "metadata": {},
   "source": [
    "#### <span style=\"color:red\">3.Write a Python program that initializes a dictionary hobbies_benefits with the initial key-value pairs.Use the assignment (=) operation to change the value associated with the \"painting\" key from \"creativity\" to \"stress relief\". Print the updated hobbies_benefits dictionary."
   ]
  },
  {
   "cell_type": "code",
   "execution_count": null,
   "id": "02bcc3b7-a46e-4c65-86bf-014119a9b935",
   "metadata": {},
   "outputs": [],
   "source": [
    "\n"
   ]
  },
  {
   "cell_type": "markdown",
   "id": "4dfe26f0",
   "metadata": {
    "jp-MarkdownHeadingCollapsed": true
   },
   "source": [
    "## <span style=\"color:blue\">Update Dictionary\n",
    "The update() method will update the dictionary with the items from the given argument.\n",
    "\n",
    "The argument must be a dictionary, or an iterable object with key:value pairs."
   ]
  },
  {
   "cell_type": "markdown",
   "id": "0056e992-0d85-4031-8b2c-bf661b69cc1f",
   "metadata": {},
   "source": [
    "<span style=\"color:red\">Initialize a Python dictionary thisdict with the following key-value pairs. Use the update() method to change the value associated with the key \"year\" from 1964 to 2020. Print the updated thisdict dictionary."
   ]
  },
  {
   "cell_type": "code",
   "execution_count": 9,
   "id": "4908b650",
   "metadata": {},
   "outputs": [
    {
     "name": "stdout",
     "output_type": "stream",
     "text": [
      "{'brand': 'Ford', 'model': 'Mustang', 'year': 2020}\n"
     ]
    }
   ],
   "source": [
    "thisdict = {\n",
    "  \"brand\": \"Ford\",\n",
    "  \"model\": \"Mustang\",\n",
    "  \"year\": 1964\n",
    "}\n",
    "thisdict.update({\"year\": 2020})\n",
    "print(thisdict)"
   ]
  },
  {
   "cell_type": "markdown",
   "id": "22aab8fd-b7cd-4666-847e-44a37dd36227",
   "metadata": {},
   "source": [
    "### <span style=\"color:blue\">PRACTICE QUESTIONS"
   ]
  },
  {
   "cell_type": "markdown",
   "id": "a0d480f2-ce9c-4223-82de-ae9886ea9d17",
   "metadata": {},
   "source": [
    "<span style=\"color:red\">"
   ]
  },
  {
   "cell_type": "markdown",
   "id": "8883e315-5bde-406e-a3cf-1415ff71ee49",
   "metadata": {},
   "source": [
    "#### <span style=\"color:red\">1.Initialize a Python dictionary car_brands_countries with the following key-value pairs. Use the update() method to change the value associated with the key \"Tesla\" from \"USA\" to \"Germany\". Print the updated car_brands_countries dictionary."
   ]
  },
  {
   "cell_type": "code",
   "execution_count": null,
   "id": "ff586dc5-ee11-4e89-951e-7a0b083e21a3",
   "metadata": {},
   "outputs": [],
   "source": []
  },
  {
   "cell_type": "markdown",
   "id": "0dbde8af-7c6c-4828-8de4-55158c766222",
   "metadata": {},
   "source": [
    "#### <span style=\"color:red\">2.Initialize a Python dictionary sports_players with the following key-value pairs. Use the update() method to change the value associated with the key \"basketball\" from 5 to 6. Print the updated sports_players dictionary"
   ]
  },
  {
   "cell_type": "code",
   "execution_count": null,
   "id": "3914d2f2-1733-49ca-824d-5d78112287b3",
   "metadata": {},
   "outputs": [],
   "source": []
  },
  {
   "cell_type": "markdown",
   "id": "d3e264c9",
   "metadata": {
    "jp-MarkdownHeadingCollapsed": true
   },
   "source": [
    "## <span style=\"color:blue\">Find Dictionary Length\n",
    "We can find the length of a dictionary by using the len() function."
   ]
  },
  {
   "cell_type": "markdown",
   "id": "28cf78c0-e7bb-465b-9d23-1729d7162160",
   "metadata": {},
   "source": [
    "<span style=\"color:red\">Initialize a Python dictionary country_capitals with the following key-value pairs. Use the len() function to get the length of the dictionary and print it."
   ]
  },
  {
   "cell_type": "code",
   "execution_count": 8,
   "id": "80fdb202",
   "metadata": {},
   "outputs": [
    {
     "name": "stdout",
     "output_type": "stream",
     "text": [
      "2\n",
      "3\n",
      "0\n"
     ]
    }
   ],
   "source": [
    "country_capitals = {\"England\": \"London\", \"Italy\": \"Rome\"}\n",
    "\n",
    "# get dictionary's length\n",
    "print(len(country_capitals))   # Output: 2\n",
    "\n",
    "numbers = {10: \"ten\", 20: \"twenty\", 30: \"thirty\"}\n",
    "\n",
    "# get dictionary's length\n",
    "print(len(numbers))            # Output: 3\n",
    "\n",
    "countries = {}\n",
    "\n",
    "# get dictionary's length\n",
    "print(len(countries))          # Output: 0"
   ]
  },
  {
   "cell_type": "markdown",
   "id": "30cf0d15-2cb6-4016-8d64-7d12a28fc293",
   "metadata": {},
   "source": [
    "### <span style=\"color:blue\">PRACTICE QUESTIONS"
   ]
  },
  {
   "cell_type": "markdown",
   "id": "e2b96327-0506-411c-930b-fda2d043b801",
   "metadata": {},
   "source": [
    "#### <span style=\"color:red\">Initialize a Python dictionary car_brands_countries with the following key-value pairs. Use the len() function to get the length of the dictionary and print it."
   ]
  },
  {
   "cell_type": "code",
   "execution_count": 3,
   "id": "27d5b651-07d0-4441-8e60-0d4c5bca15b4",
   "metadata": {},
   "outputs": [],
   "source": [
    "# Initialize the dictionary with given key-value pairs\n",
    "\n",
    "# Get the dictionary's length"
   ]
  },
  {
   "cell_type": "markdown",
   "id": "75bd68e3",
   "metadata": {
    "jp-MarkdownHeadingCollapsed": true
   },
   "source": [
    "## <span style=\"color:blue\">Copy a Dictionary\n",
    "You cannot copy a dictionary simply by typing dict2 = dict1, because: dict2 will only be a reference to dict1, and changes made in dict1 will automatically also be made in dict2.\n",
    "\n",
    "There are ways to make a copy, one way is to use the built-in Dictionary method copy()."
   ]
  },
  {
   "cell_type": "markdown",
   "id": "c973da58-cdcb-4336-866e-ce39ede43c0f",
   "metadata": {},
   "source": [
    "<span style=\"color:red\">Initialize a Python dictionary country_capitals with the following key-value pairs. Use the copy() method to create a copy of this dictionary and store it in a new variable mydict. Print the mydict dictionary."
   ]
  },
  {
   "cell_type": "code",
   "execution_count": 30,
   "id": "d97514ab",
   "metadata": {},
   "outputs": [
    {
     "name": "stdout",
     "output_type": "stream",
     "text": [
      "{'Germany': 'Berlin', 'Italy': 'Naples', 'England': 'London'}\n"
     ]
    }
   ],
   "source": [
    "country_capitals = {\n",
    "  \"Germany\": \"Berlin\", \n",
    "  \"Italy\": \"Naples\", \n",
    "  \"England\": \"London\"\n",
    "}\n",
    "mydict = country_capitals.copy()\n",
    "print(mydict)"
   ]
  },
  {
   "cell_type": "markdown",
   "id": "1092b623",
   "metadata": {},
   "source": [
    "Another way to make a copy is to use the built-in function dict()."
   ]
  },
  {
   "cell_type": "code",
   "execution_count": 31,
   "id": "88e3b639",
   "metadata": {},
   "outputs": [
    {
     "name": "stdout",
     "output_type": "stream",
     "text": [
      "{'Germany': 'Berlin', 'Italy': 'Naples', 'England': 'London'}\n"
     ]
    }
   ],
   "source": [
    "country_capitals = {\n",
    "  \"Germany\": \"Berlin\", \n",
    "  \"Italy\": \"Naples\", \n",
    "  \"England\": \"London\"\n",
    "}\n",
    "mydict = dict(country_capitals)\n",
    "print(mydict)"
   ]
  },
  {
   "cell_type": "markdown",
   "id": "aa2420a8-1804-4194-ae68-6d1879d6aa5c",
   "metadata": {},
   "source": [
    "### <span style=\"color:blue\">PRACTICE QUESTIONS"
   ]
  },
  {
   "cell_type": "markdown",
   "id": "be6869ef-35f1-4efe-b458-c3f567530a0b",
   "metadata": {},
   "source": [
    "#### <span style=\"color:red\">Initialize a Python dictionary car_brands_countries with the following key-value pairs. Use the copy() method to create a copy of this dictionary and store it in a new variable mydict. Print the mydict dictionary."
   ]
  },
  {
   "cell_type": "code",
   "execution_count": null,
   "id": "dabc52fd-d726-4c0d-a418-0df735ff0f00",
   "metadata": {},
   "outputs": [],
   "source": []
  },
  {
   "cell_type": "markdown",
   "id": "6628d1d7",
   "metadata": {},
   "source": [
    "## <span style=\"color:blue\">Nested Dictionaries\n",
    "A dictionary can contain dictionaries, this is called nested dictionaries."
   ]
  },
  {
   "cell_type": "markdown",
   "id": "80b5bb8e-d2ba-43fb-bad1-6bc61570887f",
   "metadata": {},
   "source": [
    "<span style=\"color:red\">Create two Python dictionaries, student1 and student2, each containing information about a student's name and their grades in two subjects. Then, create a third dictionary students that nests student1 and student2 as its values. Print the students dictionary."
   ]
  },
  {
   "cell_type": "code",
   "execution_count": 20,
   "id": "a7873656",
   "metadata": {},
   "outputs": [
    {
     "name": "stdout",
     "output_type": "stream",
     "text": [
      "{'student1': {'name': 'John', 'grades': {'math': 85, 'science': 90}}, 'student2': {'name': 'Emma', 'grades': {'math': 78, 'science': 83}}}\n"
     ]
    }
   ],
   "source": [
    "#Create a dictionary that contain two dictionaries:\n",
    "\n",
    "students = {\n",
    "    'student1': {\n",
    "        'name': 'John',\n",
    "        'grades': {'math': 85, 'science': 90}\n",
    "    },\n",
    "    'student2': {\n",
    "        'name': 'Emma',\n",
    "        'grades': {'math': 78, 'science': 83}\n",
    "    }\n",
    "}\n",
    "print(students)"
   ]
  },
  {
   "cell_type": "code",
   "execution_count": 25,
   "id": "9df4d46d",
   "metadata": {},
   "outputs": [
    {
     "name": "stdout",
     "output_type": "stream",
     "text": [
      "{'student1': {'name': 'John', 'grades': {'math': 85, 'science': 90}}, 'student2': {'name': 'Emma', 'grades': {'math': 78, 'science': 83}}}\n"
     ]
    }
   ],
   "source": [
    "#Create two dictionaries, then create one dictionary that will contain the other two dictionaries:\n",
    "\n",
    "student1= {\n",
    "        'name': 'John',\n",
    "        'grades': {'math': 85, 'science': 90}\n",
    "}\n",
    "student2 = {\n",
    "        'name': 'Emma',\n",
    "        'grades': {'math': 78, 'science': 83}\n",
    "}\n",
    "students = {\n",
    "    \"student1\" : student1,\n",
    "    \"student2\" : student2\n",
    "}\n",
    "print(students)"
   ]
  },
  {
   "cell_type": "markdown",
   "id": "17fd64b5-cfed-4d9d-bb61-374aa7a2b76c",
   "metadata": {},
   "source": [
    "### <span style=\"color:blue\">PRACTICE QUESTIONS"
   ]
  },
  {
   "cell_type": "markdown",
   "id": "dce33f05-94e3-46a0-acc7-60960debc22b",
   "metadata": {},
   "source": [
    "#### <span style=\"color:red\">1.Create two Python dictionaries, mammals and birds, each containing information about various animals and their habitats. Then, create a third dictionary animals that nests mammals and birds as its values. Print the animals dictionary."
   ]
  },
  {
   "cell_type": "code",
   "execution_count": 4,
   "id": "39e64619-d830-4102-a3ea-8d56f8984e41",
   "metadata": {},
   "outputs": [],
   "source": [
    "# Initialize the mammals dictionary\n",
    "mammals = {\n",
    "    \"lion\": \"savanna\",\n",
    "    \"tiger\": \"forest\",\n",
    "    \"elephant\": \"grassland\",\n",
    "    \"giraffe\": \"savanna\",\n",
    "    \"zebra\": \"savanna\",\n",
    "    \"kangaroo\": \"outback\",\n",
    "    \"panda\": \"forest\"\n",
    "}\n",
    "\n",
    "# Initialize the birds dictionary\n",
    "\n",
    "\n",
    "# Create a dictionary that nests mammals and birds\n",
    "\n",
    "\n",
    "# Print the nested dictionary\n"
   ]
  },
  {
   "cell_type": "markdown",
   "id": "9bc8a015-53fc-4529-a082-b5c0c7749617",
   "metadata": {},
   "source": [
    "#### <span style=\"color:red\">2.Create two Python dictionaries, team_sports and individual_sports, each containing information about various sports and the number of players. Then, create a third dictionary sports that nests team_sports and individual_sports as its values. Print the sports dictionary."
   ]
  },
  {
   "cell_type": "code",
   "execution_count": 5,
   "id": "4c40047a-cd3c-489b-aaf0-c15999cd4fab",
   "metadata": {},
   "outputs": [],
   "source": [
    "# Initialize the Japanese car brands dictionary\n",
    "\n",
    "\n",
    "\n",
    "# Initialize the American car brands dictionary\n",
    "\n",
    "\n",
    "\n",
    "# Create a dictionary that nests Japanese and American car brands\n",
    "\n",
    "\n",
    "# Print the nested dictionary\n",
    "\n"
   ]
  },
  {
   "cell_type": "markdown",
   "id": "7441cc55-b3c6-44b9-b9fb-e2360bb9da75",
   "metadata": {},
   "source": [
    "<span style=\"color:red\">"
   ]
  },
  {
   "cell_type": "markdown",
   "id": "a0d491c3-ca22-43dd-be58-307eee818c03",
   "metadata": {},
   "source": [
    "### <span style=\"color:blue\">----END OF THE SESSION------"
   ]
  },
  {
   "cell_type": "markdown",
   "id": "cf905bd9-0e3f-4f05-aa7d-a5a3013e2b2e",
   "metadata": {},
   "source": [
    "# <span style=\"color:red\"> Assignment questions"
   ]
  },
  {
   "cell_type": "markdown",
   "id": "767da436-6244-4659-9824-999ddbd511b7",
   "metadata": {},
   "source": [
    "1. Create a list called stationery_items that contains the following items: \"pencil\", \"scale\", \"eraser\", \"sharpener\", \"scissors\", \"marker\", \"sticky note\", \"glue\".\n",
    "2. Accessing Items:\n",
    "    Print the first item in the list.\n",
    "    Print the last item in the list.\n",
    "3. List Slicing:Create a new list called writing_instruments that contains the first four items from stationery_items. Print the writing_instruments list.\n",
    "4. Append Item: Add the item \"pen\" to the end of the stationery_items list.Print the updated stationery_items list.\n",
    "5. Insert Item:Insert the item \"notebook\" at the second position in the stationery_items list. Print the updated stationery_items list.\n",
    "6. List Length: Print the number of items in the stationery_items list.\n",
    "7. Sort List:Sort the stationery_items list in alphabetical order. Print the sorted list.\n",
    "8. Reverse List: Reverse the order of the stationery_items list.Print the reversed list.\n"
   ]
  },
  {
   "cell_type": "code",
   "execution_count": 6,
   "id": "389f6e88-9467-4eba-9420-50f06264100e",
   "metadata": {},
   "outputs": [],
   "source": [
    "# Question 1: List Creation\n",
    "\n",
    "\n",
    "# Question 2: Accessing Items\n",
    "                                            \n",
    "\n",
    "# Question 3: List Slicing\n",
    "\n",
    "\n",
    "# Question 4: Append Item\n",
    "\n",
    "\n",
    "# Question 5: Insert Item\n",
    "\n",
    "\n",
    "# Question 6: List Length\n",
    "\n",
    "\n",
    "# Question 7: Sort List\n",
    "\n",
    "\n",
    "# Question 8: Reverse List\n"
   ]
  },
  {
   "cell_type": "markdown",
   "id": "bf39b2aa-33f7-47d5-8812-1be151b8684d",
   "metadata": {},
   "source": [
    "1. Create a dictionary called movies_directors with the following key-value pairs:\n",
    "        \"Inception\": \"Christopher Nolan\"\n",
    "        \"Titanic\": \"James Cameron\"\n",
    "        \"The Matrix\": \"Lana and Lilly Wachowski\"\n",
    "        \"Pulp Fiction\": \"Quentin Tarantino\"\n",
    "        \"The Shawshank Redemption\": \"Frank Darabont\"\n",
    "        \"The Godfather\": \"Francis Ford Coppola\"\n",
    "2. Access an Item: Print the director of the movie \"Inception\".\n",
    "3. Print Keys: Print all the keys (movie titles) in the dictionary.\n",
    "4. Print Values: Print all the values (directors) in the dictionary.\n",
    "5. Add Items: Add the movie \"The Dark Knight\" directed by \"Christopher Nolan\" to the dictionary.Print the updated dictionary.\n",
    "6. Update Item:Update the director of \"The Matrix\" to \"Lana Wachowski and Lilly Wachowski\". Print the updated dictionary.\n",
    "7. Remove Item:Remove the movie \"Titanic\" from the dictionary. Print the updated dictionary.\n",
    "8. Update Dictionary:\n",
    "        Merge another dictionary new_movies_directors into movies_directors:\n",
    "        \"Interstellar\": \"Christopher Nolan\"\n",
    "        \"Fight Club\": \"David Fincher\"\n",
    "        Print the final updated dictionary."
   ]
  },
  {
   "cell_type": "code",
   "execution_count": 7,
   "id": "23858e20-4096-4803-8c73-ec2150894331",
   "metadata": {},
   "outputs": [],
   "source": [
    "# Question 1: Dictionary Creation\n",
    "\n",
    "\n",
    "# Question 2: Access an Item\n",
    "\n",
    "\n",
    "# Question 3: Print Keys\n",
    "\n",
    "\n",
    "# Question 4: Print Values\n",
    "\n",
    "\n",
    "# Question 5: Add Items\n",
    "\n",
    "\n",
    "# Question 6: Update Item\n",
    "\n",
    "\n",
    "# Question 7: Remove Item\n",
    "\n",
    "\n",
    "# Question 8: Update Dictionary\n"
   ]
  },
  {
   "cell_type": "markdown",
   "id": "10e2fba0-f687-4c8c-9775-2c4462886793",
   "metadata": {},
   "source": [
    "<div style=\"position: relative; width: 100%; height: 100vh; padding: 50px; box-sizing: border-box;\">\n",
    "    <!-- Logo positioned in the right corner -->\n",
    "    <img src=\"logo.png\" style=\"position: absolute; top: 10px; right: 10px; width: 200px;\"/>\n",
    "\n",
    "   <!-- Proprietary Content -->\n",
    "   <div style=\"position: absolute; bottom: px5; left: 5%; transform: translateX(-50%); color: grey; text-align: left;font-style: italic\">\n",
    "   <p>Proprietary content. © 10xTechClub. All Rights Reserved. Unauthorized use or distribution prohibited.</p>\n",
    "   </div>\n",
    "</div>"
   ]
  },
  {
   "cell_type": "code",
   "execution_count": null,
   "id": "b6e54154-a6ac-4cd2-a250-c4e220a7541e",
   "metadata": {},
   "outputs": [],
   "source": []
  }
 ],
 "metadata": {
  "kernelspec": {
   "display_name": "Python 3 (ipykernel)",
   "language": "python",
   "name": "python3"
  },
  "language_info": {
   "codemirror_mode": {
    "name": "ipython",
    "version": 3
   },
   "file_extension": ".py",
   "mimetype": "text/x-python",
   "name": "python",
   "nbconvert_exporter": "python",
   "pygments_lexer": "ipython3",
   "version": "3.11.6"
  }
 },
 "nbformat": 4,
 "nbformat_minor": 5
}
