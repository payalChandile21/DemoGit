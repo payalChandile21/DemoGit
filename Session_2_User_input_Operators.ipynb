{
 "cells": [
  {
   "cell_type": "markdown",
   "id": "5e7742c7-5cee-4b63-a930-623a30157a24",
   "metadata": {},
   "source": [
    "<div style=\"position: relative; width: 100%; height: 100vh; padding: 50px; box-sizing: border-box;\">\n",
    "    <!-- Logo positioned in the right corner -->\n",
    "    <img src=\"logo.png\" style=\"position: absolute; top: 10px; right: 10px; width: 200px;\"/>\n",
    "\n",
    "   <!-- Proprietary Content -->\n",
    "   <div style=\"position: absolute; bottom: px5; left: 5%; transform: translateX(-50%); color: grey; text-align: left;font-style: italic\">\n",
    "   <p>Proprietary content. © 10xTechClub. All Rights Reserved. Unauthorized use or distribution prohibited.</p>\n",
    "   </div>\n",
    "</div>"
   ]
  },
  {
   "cell_type": "markdown",
   "id": "a2842bfc-69cf-426b-be75-0f4c8396357a",
   "metadata": {},
   "source": [
    "## <span style=\"color:green\"> Session 2 - User Input and Operators in Python"
   ]
  },
  {
   "cell_type": "markdown",
   "id": "fec20be2-05b7-4485-8d2e-94aa41ace6a8",
   "metadata": {},
   "source": [
    "# <span style=\"color:blue\">Python user input\n",
    "In Python, user input can be obtained using the input() function. This function allows the program to pause and wait for the user to enter a value from the keyboard. "
   ]
  },
  {
   "cell_type": "markdown",
   "id": "48697839-329d-4a29-aa59-ad8213b8913f",
   "metadata": {
    "jp-MarkdownHeadingCollapsed": true
   },
   "source": [
    "## <span style=\"color:blue\"> Let's try a few examples"
   ]
  },
  {
   "cell_type": "markdown",
   "id": "6f3acfed-13e1-4e01-8c62-ec54fb16d393",
   "metadata": {},
   "source": [
    "<span style=\"color:red\"> The following example asks for the username, and when you entered the username, it gets printed on the screen:"
   ]
  },
  {
   "cell_type": "code",
   "execution_count": 9,
   "id": "c1205c63-a516-4beb-ae8d-19ccfb8320b2",
   "metadata": {},
   "outputs": [
    {
     "name": "stdin",
     "output_type": "stream",
     "text": [
      "Enter username: poo\n"
     ]
    },
    {
     "name": "stdout",
     "output_type": "stream",
     "text": [
      "Username is: poo\n"
     ]
    }
   ],
   "source": [
    "username = input(\"Enter username:\")\n",
    "print(\"Username is: \" + username)"
   ]
  },
  {
   "cell_type": "markdown",
   "id": "dbb42239-cf18-4035-a5bd-02c04a046bea",
   "metadata": {
    "jp-MarkdownHeadingCollapsed": true
   },
   "source": [
    "## <span style=\"color:blue\"> F-strings (Formatted String Literals)\n",
    "Placeholders and Modifiers: To format values in an f-string, add placeholders {}, a placeholder can contain variables, operations, functions, and modifiers to format the value."
   ]
  },
  {
   "cell_type": "markdown",
   "id": "2dcd3bda-d9ab-4eda-867a-f1ca5662a313",
   "metadata": {},
   "source": [
    "<span style=\"color:red\"> F-strings provide a concise and readable way to embed expressions inside string literals, using curly braces {} to evaluate expressions and insert their values into the string. Here’s how to use f-strings:"
   ]
  },
  {
   "cell_type": "code",
   "execution_count": 10,
   "id": "fc646c11-a9c4-4bb1-973b-04df0bde8e6c",
   "metadata": {},
   "outputs": [
    {
     "name": "stdin",
     "output_type": "stream",
     "text": [
      "What is your favorite color?  oihg\n"
     ]
    },
    {
     "name": "stdout",
     "output_type": "stream",
     "text": [
      "Your favorite color is oihg.\n"
     ]
    }
   ],
   "source": [
    "\n",
    "favorite_color = input(\"What is your favorite color? \")\n",
    "print(f\"Your favorite color is {favorite_color}.\")\n"
   ]
  },
  {
   "cell_type": "markdown",
   "id": "64a33c91-ce03-4d9d-b8c8-3df3a4414054",
   "metadata": {},
   "source": [
    "## <span style=\"color:blue\"> F-strings for float"
   ]
  },
  {
   "cell_type": "code",
   "execution_count": 11,
   "id": "e96d9230-39ca-47cf-ac3b-d51db35dc1cd",
   "metadata": {},
   "outputs": [
    {
     "name": "stdout",
     "output_type": "stream",
     "text": [
      "The price is $19.95\n"
     ]
    }
   ],
   "source": [
    "price = 19.95190\n",
    "print(f\"The price is ${price:.2f}\")\n"
   ]
  },
  {
   "cell_type": "markdown",
   "id": "358020bd-a8d2-4580-b616-e5a3a5c1c746",
   "metadata": {},
   "source": [
    "## <span style=\"color:blue\"> Use of round () for formatting float"
   ]
  },
  {
   "cell_type": "code",
   "execution_count": 12,
   "id": "ba5c9f72-a711-4d52-944e-c93937ac76db",
   "metadata": {},
   "outputs": [
    {
     "name": "stdout",
     "output_type": "stream",
     "text": [
      "The price is $19.95\n"
     ]
    }
   ],
   "source": [
    "price = 19.95190\n",
    "formatted_price = round(price, 2)\n",
    "print(f\"The price is ${formatted_price}\")\n"
   ]
  },
  {
   "cell_type": "markdown",
   "id": "bc5fa5a3-64fd-4a5d-9360-db2919bce612",
   "metadata": {},
   "source": [
    "## <span style=\"color:blue\"> PRACTICE QUESTIONS"
   ]
  },
  {
   "cell_type": "markdown",
   "id": "dd3e1562-c384-4780-95ba-281911a8d6ca",
   "metadata": {},
   "source": [
    "#### <span style=\"color:red\"> 1.Write a Python program that prompts the user to enter their name and age. Then, use an f-string to print a greeting message that includes their name and age."
   ]
  },
  {
   "cell_type": "code",
   "execution_count": null,
   "id": "1365c727-34a0-4cb2-b6c2-53a11831cc3c",
   "metadata": {},
   "outputs": [],
   "source": []
  },
  {
   "cell_type": "markdown",
   "id": "d8378a9c-d870-4915-b00c-81e0a43e2d3c",
   "metadata": {},
   "source": [
    "#### <span style=\"color:red\"> 2.Create a Python program that asks the user to enter their dream vacation destination. Use an f-string to print a message about their dream vacation spot."
   ]
  },
  {
   "cell_type": "code",
   "execution_count": null,
   "id": "543ca469-898b-44d0-849f-8c8cd39eb93a",
   "metadata": {},
   "outputs": [],
   "source": []
  },
  {
   "cell_type": "markdown",
   "id": "283a5aca-0172-4b21-9701-3535ada8375f",
   "metadata": {},
   "source": [
    "#### <span style=\"color:red\"> 3.Write a Python program that prompts the user to enter their favorite movie. Use an f-string to print a message that mentions their favorite movie."
   ]
  },
  {
   "cell_type": "code",
   "execution_count": null,
   "id": "ea059478-31fa-4910-9dec-c549fde859dd",
   "metadata": {},
   "outputs": [],
   "source": []
  },
  {
   "cell_type": "markdown",
   "id": "16cb6f42-5d7d-4342-9a59-38d3db3b03ad",
   "metadata": {},
   "source": [
    "# <span style=\"color:blue\"> User input Type Conversion\n",
    "In Python, user input is typically captured as strings using the input() function. When you expect user input to be of a specific data type (like integer, float, etc.), you often need to convert these input values from strings to the desired data type. This process is known as type conversion or casting."
   ]
  },
  {
   "cell_type": "markdown",
   "id": "dfe0dc44-fd79-4812-85c0-842c32d10f39",
   "metadata": {},
   "source": [
    "# <span style=\"color:blue\"> Convert String to Desired Type:\n",
    "Depending on the expected data type, use type conversion functions like int(), float(), or bool() to convert the string input to the desired type."
   ]
  },
  {
   "cell_type": "markdown",
   "id": "c82e246e-d1c3-47b5-b45e-5f8a8642f1e4",
   "metadata": {},
   "source": [
    "## <span style=\"color:blue\"> Let's try a few examples"
   ]
  },
  {
   "cell_type": "markdown",
   "id": "07bded6b-acb9-48ea-817a-b5ad3ad77929",
   "metadata": {},
   "source": [
    "<span style=\"color:red\"> Convert string to integer"
   ]
  },
  {
   "cell_type": "code",
   "execution_count": 24,
   "id": "ca0230a9-ff73-4c8c-a475-3276c5099ff8",
   "metadata": {},
   "outputs": [
    {
     "name": "stdin",
     "output_type": "stream",
     "text": [
      "Enter a number: 6\n"
     ]
    },
    {
     "name": "stdout",
     "output_type": "stream",
     "text": [
      "6\n"
     ]
    }
   ],
   "source": [
    "number = int(input(\"Enter a number:\"))\n",
    "print(number)"
   ]
  },
  {
   "cell_type": "markdown",
   "id": "32e5c36b-3c73-4c54-82c0-999ded15e052",
   "metadata": {},
   "source": [
    "<span style=\"color:red\"> Convert string to float"
   ]
  },
  {
   "cell_type": "code",
   "execution_count": 25,
   "id": "b1b9a9a7-e465-4203-a3f3-9e832aa6e8c1",
   "metadata": {},
   "outputs": [
    {
     "name": "stdin",
     "output_type": "stream",
     "text": [
      "Enter a decimal number: 5\n"
     ]
    },
    {
     "name": "stdout",
     "output_type": "stream",
     "text": [
      "5.0\n"
     ]
    }
   ],
   "source": [
    "number = float(input(\"Enter a decimal number:\"))\n",
    "print(number)"
   ]
  },
  {
   "cell_type": "markdown",
   "id": "d7c3a3ae-1520-40a5-97db-2affe984f871",
   "metadata": {},
   "source": [
    "<span style=\"color:red\"> Convert string to boolean"
   ]
  },
  {
   "cell_type": "code",
   "execution_count": 28,
   "id": "9b42c625-6d40-43cd-8f2d-6e87534503f3",
   "metadata": {},
   "outputs": [
    {
     "name": "stdin",
     "output_type": "stream",
     "text": [
      "Enter a value: \n"
     ]
    },
    {
     "name": "stdout",
     "output_type": "stream",
     "text": [
      "False\n"
     ]
    }
   ],
   "source": [
    "value = bool(input(\"Enter a value:\"))\n",
    "print(value)"
   ]
  },
  {
   "cell_type": "markdown",
   "id": "5f7c37d1-a0f3-48f9-8893-b5f87f0785e6",
   "metadata": {},
   "source": [
    "## <span style=\"color:blue\"> PRACTICE QUESTIONS"
   ]
  },
  {
   "cell_type": "markdown",
   "id": "6d9487b1-31ad-4396-b4e8-aa10405dbff2",
   "metadata": {},
   "source": [
    "#### <span style=\"color:red\"> 1.Write a Python program that prompts the user to enter their age. Convert the input to an integer and print a message indicating their age."
   ]
  },
  {
   "cell_type": "code",
   "execution_count": null,
   "id": "94c214f7-ef36-4d7d-bcfa-448d8deb7d7f",
   "metadata": {},
   "outputs": [],
   "source": []
  },
  {
   "cell_type": "markdown",
   "id": "3d6f5e5b-0b85-44c1-b9e4-1402f71d2ffa",
   "metadata": {},
   "source": [
    "#### <span style=\"color:red\"> 2.Write a Python program that prompts the user to enter a decimal number. Convert the input to a float and print a message indicating the float value."
   ]
  },
  {
   "cell_type": "code",
   "execution_count": null,
   "id": "4c226ec5-68fa-4efe-b614-2db4724baba0",
   "metadata": {},
   "outputs": [],
   "source": []
  },
  {
   "cell_type": "markdown",
   "id": "41264009-5fec-4af4-a088-eb397a8d33e7",
   "metadata": {},
   "source": [
    "#### <span style=\"color:red\"> 3.Write a Python program that prompts the user to enter any value. Convert the input to a string and print a message indicating the string value."
   ]
  },
  {
   "cell_type": "code",
   "execution_count": null,
   "id": "7daadeb9-d5ba-4c96-8fc8-ba3431de9f73",
   "metadata": {},
   "outputs": [],
   "source": []
  },
  {
   "cell_type": "markdown",
   "id": "854ed4c4-9e08-434a-a710-384d8c98b660",
   "metadata": {},
   "source": [
    "#### <span style=\"color:red\"> 4.Write a Python program that prompts the user to enter any value. Convert the input to a boolean and print a message indicating the boolean value."
   ]
  },
  {
   "cell_type": "code",
   "execution_count": null,
   "id": "99993a5d-4afd-402d-bf6f-5d0260147437",
   "metadata": {},
   "outputs": [],
   "source": []
  },
  {
   "attachments": {
    "829d00a6-29a9-44b5-be23-580b492dca6e.png": {
     "image/png": "[encoded data removed]"
    }
   },
   "cell_type": "markdown",
   "id": "f3c02e1b-a0d3-421d-b3b7-dcc65d5acfd4",
   "metadata": {},
   "source": [
    "# <span style=\"color:blue\">Python Operators\n",
    "In Python, operators are special symbols used to perform operations on variables and values. Python supports several types of operators, each serving a different purpose. Here are the main types of operators in Python:\n",
    "\n",
    "1. Arithmetic Operators\n",
    "2. Assignment Operators\n",
    "3. Comparison (Relational) Operators\n",
    "4. Logical Operators\n",
    "5. Bitwise Operators\n",
    "6. Membership Operators\n",
    "7. Identity Operators\n",
    "\n",
    "   ![image.png](attachment:829d00a6-29a9-44b5-be23-580b492dca6e.png)"
   ]
  },
  {
   "cell_type": "markdown",
   "id": "39b80ae4-f986-49c5-8aa3-aa90e631a537",
   "metadata": {},
   "source": [
    "#### <span style=\"color:red\">Write a Python program that prompts the user to enter any value. Convert the input to a boolean and print a message indicating the boolean value. Write a Python program that prompts the user to enter \"true\" or \"false\". Convert the input to a boolean and print a message indicating the opposite boolean value."
   ]
  },
  {
   "cell_type": "code",
   "execution_count": 35,
   "id": "3daf0cbe-6562-4775-a753-598b04fe9158",
   "metadata": {},
   "outputs": [
    {
     "name": "stdin",
     "output_type": "stream",
     "text": [
      "Enter 'true' or 'false':  true\n"
     ]
    },
    {
     "name": "stdout",
     "output_type": "stream",
     "text": [
      "The opposite of True is False.\n"
     ]
    }
   ],
   "source": [
    "user_input = input(\"Enter 'true' or 'false': \").strip().lower()\n",
    "boolean_value = bool(user_input == \"true\")\n",
    "opposite_value = not boolean_value\n",
    "print(f\"The opposite of {boolean_value} is {opposite_value}.\")\n"
   ]
  },
  {
   "attachments": {
    "c3ebd58b-33c4-4e18-b90d-1f1ce26d7f35.png": {
     "image/png": "[encoded data removed]"
    }
   },
   "cell_type": "markdown",
   "id": "bf0a5c7c-8a63-44cb-8cee-dfe61099ea84",
   "metadata": {},
   "source": [
    "# <span style=\"color:blue\">Python Arithemetic Operators\n",
    "![image.png](attachment:c3ebd58b-33c4-4e18-b90d-1f1ce26d7f35.png)"
   ]
  },
  {
   "cell_type": "markdown",
   "id": "5e269552-2518-42f4-ad97-a1eb10c37db2",
   "metadata": {},
   "source": [
    "## <span style=\"color:blue\"> Let's try a few examples"
   ]
  },
  {
   "cell_type": "markdown",
   "id": "f4330841-ac3b-46a1-8832-970ab19c1ffb",
   "metadata": {},
   "source": [
    "<span style=\"color:red\">Demonstration for addition"
   ]
  },
  {
   "cell_type": "code",
   "execution_count": 36,
   "id": "559594e9-9af3-4aa0-bebd-10c59e74f0b5",
   "metadata": {},
   "outputs": [
    {
     "name": "stdout",
     "output_type": "stream",
     "text": [
      "13\n"
     ]
    }
   ],
   "source": [
    "sum = 8 +5\n",
    "print(sum)"
   ]
  },
  {
   "cell_type": "markdown",
   "id": "e96523ed-826f-49d4-8520-bdfcbbd628ca",
   "metadata": {},
   "source": [
    "## <span style=\"color:blue\"> PRACTICE QUESTIONS"
   ]
  },
  {
   "cell_type": "markdown",
   "id": "639d1ded-d80f-4c77-b51c-890ff86a9084",
   "metadata": {},
   "source": [
    "#### <span style=\"color:red\"> 1.You have been given the lengths of three sides of a triangle: a = 5, b = 12, and c = 13. Write a Python program to calculate and print the perimeter of the triangle."
   ]
  },
  {
   "cell_type": "code",
   "execution_count": null,
   "id": "62f39ae4-5819-4428-ae3a-b59dd0111d94",
   "metadata": {},
   "outputs": [],
   "source": []
  },
  {
   "cell_type": "markdown",
   "id": "860d6082-614e-4a3f-8402-90aae3f04d3c",
   "metadata": {},
   "source": [
    "#### <span style=\"color:red\"> 2.Convert the temperature from Celsius to Fahrenheit. The formula to convert Celsius to Fahrenheit is F = C * 9/5 + 32. Write a Python program to convert a temperature of 37 degrees Celsius to Fahrenheit and print the result."
   ]
  },
  {
   "cell_type": "code",
   "execution_count": null,
   "id": "9f26a8fd-fa81-499a-870d-8f67bad79dbd",
   "metadata": {},
   "outputs": [],
   "source": []
  },
  {
   "cell_type": "markdown",
   "id": "50d313fd-ded6-425f-b592-da5db59f0c3a",
   "metadata": {},
   "source": [
    "#### <span style=\"color:red\"> 3.Write a Python program that calculates the area and circumference of a circle. Prompt the user to enter the radius of the circle. Use an f-string to print messages that include the calculated area and circumference."
   ]
  },
  {
   "cell_type": "code",
   "execution_count": null,
   "id": "292398fe-44dd-4ab7-ac3f-f02fd046bf64",
   "metadata": {},
   "outputs": [],
   "source": [
    "\n"
   ]
  },
  {
   "cell_type": "markdown",
   "id": "be46270e-7201-43c3-a4f8-fc8f93503391",
   "metadata": {},
   "source": [
    "#### <span style=\"color:red\"> 4.Write a Python program that prompts the user to enter their birth year. Calculate their age based on the current year using the datetime module. Assume the user always enters a valid integer for their birth year.\n",
    "Expected Output:<br>\n",
    "Enter your birth year: 1995 <br>\n",
    "You are 29 years old (assuming current year is 2024).\n"
   ]
  },
  {
   "cell_type": "code",
   "execution_count": null,
   "id": "a9f2d5d0-b30a-49ba-b097-17e8ba59238a",
   "metadata": {},
   "outputs": [],
   "source": []
  },
  {
   "cell_type": "markdown",
   "id": "eda0d7ac-4f84-4f63-8dff-e290a727d092",
   "metadata": {},
   "source": [
    "#### <span style=\"color:red\"> 5.Write a Python program that prompts the user to enter principal amount, rate of interest (in percentage), and time period (in years). Calculate the simple interest using the formula SI=(P x R x T)/100 and print the simple interest."
   ]
  },
  {
   "cell_type": "code",
   "execution_count": null,
   "id": "379761e2-43ed-43ed-9ac1-5156be2077da",
   "metadata": {},
   "outputs": [],
   "source": []
  },
  {
   "cell_type": "markdown",
   "id": "20b1c944-254c-4868-9bc8-c4679b24e101",
   "metadata": {},
   "source": [
    "#### <span style=\"color:red\">6.Write a Python program that prompts the user to enter two integers. Use the floor division operator // to calculate the quotient of the first integer divided by the second integer, and print the result."
   ]
  },
  {
   "cell_type": "code",
   "execution_count": null,
   "id": "3176d16d-3552-4c58-b74b-f91e9601576b",
   "metadata": {},
   "outputs": [],
   "source": [
    "# Prompt the user to enter the first integer\n",
    "first_integer = int(input(\"Enter the first integer: \"))\n",
    "\n",
    "# Prompt the user to enter the second integer\n",
    "second_integer = int(input(\"Enter the second integer: \"))\n",
    "\n",
    "# Calculate the floor division\n",
    "\n",
    "\n",
    "# Print the result\n",
    "\n"
   ]
  },
  {
   "cell_type": "markdown",
   "id": "e4a103f1-2e70-4a55-adeb-5232d19c65e7",
   "metadata": {},
   "source": [
    "#### <span style=\"color:red\">7. Write a Python program that prompts the user to enter two integers. Use the modulus operator % to calculate the remainder of the first integer divided by the second integer, and print the result."
   ]
  },
  {
   "cell_type": "code",
   "execution_count": null,
   "id": "28490b0f-4dae-4bc9-a18b-5c7e97456d8b",
   "metadata": {},
   "outputs": [],
   "source": [
    "# Prompt the user to enter the first integer\n",
    "\n",
    "# Prompt the user to enter the second integer\n",
    "\n",
    "\n",
    "# Calculate the modulus\n",
    "\n",
    "\n",
    "# Print the result\n",
    "\n"
   ]
  },
  {
   "attachments": {
    "821d4fcf-7624-466f-b75c-416a5240144c.png": {
     "image/png": "[encoded data removed]"
    }
   },
   "cell_type": "markdown",
   "id": "e42c00cc-8f06-40ee-8011-718fbba90000",
   "metadata": {},
   "source": [
    "# <span style=\"color:blue\">Python Assignment Operators\n",
    "Assignment operators are used to assign values to variables.\n",
    "![image.png](attachment:821d4fcf-7624-466f-b75c-416a5240144c.png)"
   ]
  },
  {
   "cell_type": "markdown",
   "id": "2f4fabb6-b46b-4fcc-bd67-41ee0bae9f78",
   "metadata": {},
   "source": [
    "## <span style=\"color:blue\"> PRACTICE QUESTIONS"
   ]
  },
  {
   "cell_type": "markdown",
   "id": "c1ccdbd3-0022-44a2-a015-110e8d78fafa",
   "metadata": {},
   "source": [
    "#### <span style=\"color:red\">1.Write a Python program that prompts the user to enter a number. Add 10 to this number using the += operator and print the result."
   ]
  },
  {
   "cell_type": "code",
   "execution_count": null,
   "id": "69dd7f66-4d03-4a45-99fa-340a08233fde",
   "metadata": {},
   "outputs": [],
   "source": [
    "# Prompt the user to enter a number\n",
    "\n",
    "\n",
    "# Use the addition assignment operator\n",
    "\n",
    "\n",
    "# Print the result\n",
    "\n"
   ]
  },
  {
   "cell_type": "markdown",
   "id": "9e47410b-cd6e-403d-b74a-f8c27513dafe",
   "metadata": {},
   "source": [
    "#### <span style=\"color:red\">2.Write a Python program that prompts the user to enter a number. Subtract 5 from this number using the -= operator and print the result."
   ]
  },
  {
   "cell_type": "code",
   "execution_count": null,
   "id": "40994bc4-8e23-4705-9780-eec5054607e3",
   "metadata": {},
   "outputs": [],
   "source": [
    "# Prompt the user to enter a number\n",
    "\n",
    "# Use the subtraction assignment operator\n",
    "\n",
    "\n",
    "# Print the result\n",
    "\n"
   ]
  },
  {
   "cell_type": "markdown",
   "id": "d9c4c8d7-3373-4afe-a226-d13cb3c7935a",
   "metadata": {},
   "source": [
    "#### <span style=\"color:red\">3.Write a Python program that prompts the user to enter a number. Divide this number by 2 using the /= operator and print the result."
   ]
  },
  {
   "cell_type": "code",
   "execution_count": null,
   "id": "7bab712b-27e9-40c0-b3ed-6c5fc4e02908",
   "metadata": {},
   "outputs": [],
   "source": [
    "# Prompt the user to enter a number\n",
    "\n",
    "\n",
    "# Use the division assignment operator\n",
    "\n",
    "\n",
    "# Print the result"
   ]
  },
  {
   "cell_type": "markdown",
   "id": "765c3744-8bf0-43a0-93e0-db0064ebc15e",
   "metadata": {},
   "source": [
    "# <span style=\"color:blue\">Python String Operations"
   ]
  },
  {
   "cell_type": "markdown",
   "id": "46ce0253-2db6-413e-88a2-9499f54fdb7a",
   "metadata": {},
   "source": [
    "## <span style=\"color:blue\">String Length\n",
    "To get the length of a string, use the len() function."
   ]
  },
  {
   "cell_type": "code",
   "execution_count": 49,
   "id": "e6d2a216-e604-4af7-b1f4-450eee064942",
   "metadata": {},
   "outputs": [
    {
     "name": "stdout",
     "output_type": "stream",
     "text": [
      "13\n"
     ]
    }
   ],
   "source": [
    "a = \"Good Morning!\"\n",
    "print(len(a))"
   ]
  },
  {
   "cell_type": "markdown",
   "id": "a460ad90-244c-4b7f-94c5-18380dcbb85e",
   "metadata": {},
   "source": [
    "## <span style=\"color:blue\">Check in String\n",
    "To check if a certain phrase or character is present in a string, we can use the keyword in"
   ]
  },
  {
   "cell_type": "code",
   "execution_count": 50,
   "id": "b34de9a2-90dc-4e03-8dee-31389f7ace43",
   "metadata": {},
   "outputs": [
    {
     "name": "stdout",
     "output_type": "stream",
     "text": [
      "True\n"
     ]
    }
   ],
   "source": [
    "txt = \"The best things in life are free!\"\n",
    "print(\"free\" in txt)"
   ]
  },
  {
   "cell_type": "markdown",
   "id": "56cb43f2-6301-4e02-81aa-b9f42bb26e5a",
   "metadata": {},
   "source": [
    "## <span style=\"color:blue\">Check if NOT\n",
    "To check if a certain phrase or character is NOT present in a string, we can use the keyword not in."
   ]
  },
  {
   "cell_type": "code",
   "execution_count": 51,
   "id": "6a53bef2-5007-4c56-94f1-100c169480c5",
   "metadata": {},
   "outputs": [
    {
     "name": "stdout",
     "output_type": "stream",
     "text": [
      "True\n"
     ]
    }
   ],
   "source": [
    "txt = \"The best things in life are free!\"\n",
    "print(\"expensive\" not in txt)"
   ]
  },
  {
   "cell_type": "markdown",
   "id": "ccf8be83-5ce9-41f5-a784-402ee655b3d9",
   "metadata": {},
   "source": [
    "## <span style=\"color:blue\">Slicing Strings\n",
    "Specify the start index and the end index, separated by a colon, to return a part of the string."
   ]
  },
  {
   "cell_type": "markdown",
   "id": "1fc18bb1-9d63-4994-809f-b33e4585e875",
   "metadata": {},
   "source": [
    "<span style=\"color:red\"> Slicing with range"
   ]
  },
  {
   "cell_type": "code",
   "execution_count": 52,
   "id": "c60d0041-407e-47af-a011-0e62aee3531e",
   "metadata": {},
   "outputs": [
    {
     "name": "stdout",
     "output_type": "stream",
     "text": [
      "llo\n"
     ]
    }
   ],
   "source": [
    "b = \"Hello, World!\"\n",
    "print(b[2:5])"
   ]
  },
  {
   "cell_type": "markdown",
   "id": "2d52a842-4444-48ac-a177-d000a92f25ec",
   "metadata": {},
   "source": [
    "<span style=\"color:red\"> Slice From the Start\n",
    "By leaving out the start index, the range will start at the first character"
   ]
  },
  {
   "cell_type": "code",
   "execution_count": 53,
   "id": "1bb2e9e4-b4ba-4f92-a570-c3fbc32397a9",
   "metadata": {},
   "outputs": [
    {
     "name": "stdout",
     "output_type": "stream",
     "text": [
      "Hello\n"
     ]
    }
   ],
   "source": [
    "b = \"Hello, World!\"\n",
    "print(b[:5])"
   ]
  },
  {
   "cell_type": "markdown",
   "id": "39372d53-ad86-4e4c-ad81-79ab66d97c0a",
   "metadata": {},
   "source": [
    "<span style=\"color:red\">Slice To the End\n",
    "By leaving out the end index, the range will go to the end"
   ]
  },
  {
   "cell_type": "code",
   "execution_count": 54,
   "id": "bfe4a7fc-5462-4370-8bff-67cde7bddf2a",
   "metadata": {},
   "outputs": [
    {
     "name": "stdout",
     "output_type": "stream",
     "text": [
      "llo, World!\n"
     ]
    }
   ],
   "source": [
    "b = \"Hello, World!\"\n",
    "print(b[2:])"
   ]
  },
  {
   "cell_type": "markdown",
   "id": "19b5ed1e-9305-4179-95ad-e2fb4c348bf9",
   "metadata": {},
   "source": [
    "<span style=\"color:red\">Negative Indexing\n",
    "Use negative indexes to start the slice from the end of the string"
   ]
  },
  {
   "cell_type": "code",
   "execution_count": 55,
   "id": "592bc04d-4580-426a-ba93-85aaf327c96a",
   "metadata": {},
   "outputs": [
    {
     "name": "stdout",
     "output_type": "stream",
     "text": [
      "orl\n"
     ]
    }
   ],
   "source": [
    "b = \"Hello, World!\"\n",
    "print(b[-5:-2])"
   ]
  },
  {
   "cell_type": "markdown",
   "id": "a119bbc7-78f0-4572-944e-5d941e1f3f9b",
   "metadata": {},
   "source": [
    "## <span style=\"color:blue\">Modify Strings"
   ]
  },
  {
   "cell_type": "markdown",
   "id": "3df59eba-a575-418a-a906-8d0f151ec082",
   "metadata": {},
   "source": [
    "<span style=\"color:red\">Upper Case\n",
    "The upper() method returns the string in upper case"
   ]
  },
  {
   "cell_type": "code",
   "execution_count": 56,
   "id": "efe6ee7b-8835-4041-95a6-bf846b3cdb9d",
   "metadata": {},
   "outputs": [
    {
     "name": "stdout",
     "output_type": "stream",
     "text": [
      "HELLO, WORLD!\n"
     ]
    }
   ],
   "source": [
    "a = \"Hello, World!\"\n",
    "print(a.upper())"
   ]
  },
  {
   "cell_type": "markdown",
   "id": "4e16de91-67ae-487f-a5fd-0b8677739174",
   "metadata": {},
   "source": [
    "<span style=\"color:red\"> Lower Case\n",
    "The lower() method returns the string in lower case"
   ]
  },
  {
   "cell_type": "code",
   "execution_count": 57,
   "id": "6bb43d0a-1efc-4785-8f09-bf8476ca550c",
   "metadata": {},
   "outputs": [
    {
     "name": "stdout",
     "output_type": "stream",
     "text": [
      "hello, world!\n"
     ]
    }
   ],
   "source": [
    "a = \"Hello, World!\"\n",
    "print(a.lower())"
   ]
  },
  {
   "cell_type": "markdown",
   "id": "bc461523-0ba6-4443-b8cb-28f2c2d49fc4",
   "metadata": {},
   "source": [
    "<span style=\"color:red\"> Remove Whitespace\n",
    "The strip() method removes any whitespace from the beginning or the end"
   ]
  },
  {
   "cell_type": "code",
   "execution_count": 58,
   "id": "dcae65d3-88cb-43f9-8667-d234e265eefd",
   "metadata": {},
   "outputs": [
    {
     "name": "stdout",
     "output_type": "stream",
     "text": [
      "Hello, World!\n"
     ]
    }
   ],
   "source": [
    "a = \" Hello, World! \"\n",
    "print(a.strip()) # returns \"Hello, World!\""
   ]
  },
  {
   "cell_type": "markdown",
   "id": "029281d3-391a-4f5f-b728-6f60692cd6cd",
   "metadata": {},
   "source": [
    "<span style=\"color:red\"> Replace string\n",
    "The replace() method replaces a string with another string"
   ]
  },
  {
   "cell_type": "code",
   "execution_count": 59,
   "id": "88244656-af78-4938-bc59-ddad98043a83",
   "metadata": {},
   "outputs": [
    {
     "name": "stdout",
     "output_type": "stream",
     "text": [
      "Jello, World!\n"
     ]
    }
   ],
   "source": [
    "a = \"Hello, World!\"\n",
    "print(a.replace(\"H\", \"J\"))"
   ]
  },
  {
   "cell_type": "markdown",
   "id": "08ee548f-f6f4-4ff3-9791-ef8d5e65351e",
   "metadata": {},
   "source": [
    "<span style=\"color:red\">Split String\n",
    "The split() method returns a list where the text between the specified separator becomes the list items."
   ]
  },
  {
   "cell_type": "code",
   "execution_count": 60,
   "id": "1d7619aa-ac37-44b6-9087-6202488c4503",
   "metadata": {},
   "outputs": [
    {
     "name": "stdout",
     "output_type": "stream",
     "text": [
      "['Hello', ' World!']\n"
     ]
    }
   ],
   "source": [
    "a = \"Hello, World!\"\n",
    "print(a.split(\",\")) # returns ['Hello', ' World!']"
   ]
  },
  {
   "cell_type": "markdown",
   "id": "61eef950-7f00-4c53-9441-37510ef70e5e",
   "metadata": {},
   "source": [
    "## <span style=\"color:blue\">String Concatenation\n",
    "To concatenate, or combine, two strings you can use the + operator."
   ]
  },
  {
   "cell_type": "code",
   "execution_count": 61,
   "id": "483981d2-1e7a-423b-bb5e-f432a9de29e4",
   "metadata": {},
   "outputs": [
    {
     "name": "stdout",
     "output_type": "stream",
     "text": [
      "InsideOut\n"
     ]
    }
   ],
   "source": [
    "a = \"Inside\"\n",
    "b = \"Out\"\n",
    "c = a + b\n",
    "print(c)"
   ]
  },
  {
   "cell_type": "code",
   "execution_count": 62,
   "id": "70f19557-5ca6-4dc4-8932-439a73224fd1",
   "metadata": {},
   "outputs": [
    {
     "name": "stdout",
     "output_type": "stream",
     "text": [
      "Inside Out\n"
     ]
    }
   ],
   "source": [
    "a = \"Inside\"\n",
    "b = \"Out\"\n",
    "c = a + \" \" + b\n",
    "print(c)"
   ]
  },
  {
   "cell_type": "markdown",
   "id": "0acc16f7-7d37-4f91-87f5-eaf4c23ad40e",
   "metadata": {},
   "source": [
    "## <span style=\"color:blue\"> PRACTICE QUESTIONS"
   ]
  },
  {
   "cell_type": "markdown",
   "id": "8a26eb9c-1c5e-4d93-aeb3-ef212639c7b5",
   "metadata": {},
   "source": [
    "#### <span style=\"color:red\">1.Write a Python program that prompts the user to enter a string. Convert the string to uppercase using the upper() method and print the result."
   ]
  },
  {
   "cell_type": "code",
   "execution_count": null,
   "id": "4049b946-35e9-4e03-be4a-17e9a04c3db6",
   "metadata": {},
   "outputs": [],
   "source": [
    "# Prompt the user to enter a string\n",
    "\n",
    "\n",
    "# Convert the string to uppercase\n",
    "\n",
    "\n",
    "# Print the result\n",
    "\n"
   ]
  },
  {
   "cell_type": "markdown",
   "id": "791e496f-e900-4c1a-b7f6-61181708a7ed",
   "metadata": {},
   "source": [
    "#### <span style=\"color:red\">2.Write a Python program that prompts the user to enter a string and two integers representing the start and end indices. Slice the string using these indices and print the result."
   ]
  },
  {
   "cell_type": "code",
   "execution_count": null,
   "id": "90d9513f-a152-413a-add1-a441785b8d32",
   "metadata": {},
   "outputs": [],
   "source": [
    "# Prompt the user to enter a string\n",
    "user_string = input(\"Enter a string: \")\n",
    "\n",
    "# Prompt the user to enter the start index\n",
    "start_index = int(input(\"Enter the start index: \"))\n",
    "\n",
    "# Prompt the user to enter the end index\n",
    "\n",
    "\n",
    "# Slice the string using the provided indices\n",
    "\n",
    "\n",
    "# Print the result\n",
    "print(f\"The sliced string is: {sliced_string}\")\n"
   ]
  },
  {
   "cell_type": "markdown",
   "id": "a95118dc-9601-4112-b41e-0d7a59eef35b",
   "metadata": {},
   "source": [
    "#### <span style=\"color:red\">3.Write a Python program that prompts the user to enter a string, a substring to replace, and the new substring. Use the replace() method to replace the substring and print the result."
   ]
  },
  {
   "cell_type": "code",
   "execution_count": null,
   "id": "c3c741f8-cb15-471d-a668-e182dacc12dd",
   "metadata": {},
   "outputs": [],
   "source": [
    "# Prompt the user to enter a string\n",
    "\n",
    "# Prompt the user to enter the substring to replace\n",
    "\n",
    "\n",
    "# Prompt the user to enter the new substring\n",
    "\n",
    "\n",
    "# Replace the old substring with the new substring\n",
    "\n",
    "\n",
    "# Print the reult\n"
   ]
  },
  {
   "cell_type": "markdown",
   "id": "dcc6c019-3882-4bc1-adcf-04f8b7758fd3",
   "metadata": {},
   "source": [
    "## <span style=\"color:blue\"> -----------END OF CLASS-----------"
   ]
  },
  {
   "cell_type": "markdown",
   "id": "4906d9b4-6774-482e-a8e4-1a0faa48e1c7",
   "metadata": {},
   "source": [
    "# <span style=\"color:red\"> Assignment questions"
   ]
  },
  {
   "cell_type": "markdown",
   "id": "fc1cc0b1-36f8-4e4e-b37f-93d6e92a1cb8",
   "metadata": {},
   "source": [
    "1. Write a Python program that prompts the user to enter their favorite food. Use an f-string to print a message acknowledging their favorite food."
   ]
  },
  {
   "cell_type": "code",
   "execution_count": null,
   "id": "c1107ed8-248b-4698-ad74-01ed87ff4650",
   "metadata": {},
   "outputs": [],
   "source": []
  },
  {
   "cell_type": "markdown",
   "id": "eb651f5f-4218-4821-af1a-8d394120c53b",
   "metadata": {},
   "source": [
    "2. Write a Python program that prompts the user to enter a number. Multiply this number by 3 using the *= operator and print the result."
   ]
  },
  {
   "cell_type": "code",
   "execution_count": null,
   "id": "ca5d7249-9e02-4762-9e8f-7b7a9b1e7978",
   "metadata": {},
   "outputs": [],
   "source": [
    "# Prompt the user to enter a number\n",
    "\n",
    "# Use the multiplication assignment operator\n",
    "\n",
    "\n",
    "# Print the result\n"
   ]
  },
  {
   "cell_type": "markdown",
   "id": "df5cdc61-ca38-472b-b01d-2a947a3d1388",
   "metadata": {},
   "source": [
    "3. Create a Python program that calculates the area of a rectangle. Prompt the user to enter the length and width of the rectangle. Use an f-string to print a message that includes the calculated area."
   ]
  },
  {
   "cell_type": "code",
   "execution_count": null,
   "id": "36207462-5ddd-4f6e-981c-97207ca233a1",
   "metadata": {},
   "outputs": [],
   "source": []
  },
  {
   "cell_type": "markdown",
   "id": "bcb3571b-bf57-4ac9-8f46-21b17a152011",
   "metadata": {},
   "source": [
    "4. Write a Python program that prompts the user to enter a string. Convert the string to lowercase using the lower() method and print the result."
   ]
  },
  {
   "cell_type": "code",
   "execution_count": null,
   "id": "6ac0ca33-ac53-47f9-9ea5-d645f5bc934e",
   "metadata": {},
   "outputs": [],
   "source": [
    "# Prompt the user to enter a string\n",
    "\n",
    "# Convert the string to lowercase\n",
    "\n",
    "# Print the result\n",
    "\n"
   ]
  },
  {
   "cell_type": "code",
   "execution_count": null,
   "id": "7faea2bb-55e2-4e83-9ced-38fa800f2e12",
   "metadata": {},
   "outputs": [],
   "source": []
  },
  {
   "cell_type": "markdown",
   "id": "59c39e3d-4cb5-427f-a88f-ef2f9af1d9c0",
   "metadata": {},
   "source": [
    "<div style=\"position: relative; width: 100%; height: 100vh; padding: 50px; box-sizing: border-box;\">\n",
    "    <!-- Logo positioned in the right corner -->\n",
    "    <img src=\"logo.png\" style=\"position: absolute; top: 10px; right: 10px; width: 200px;\"/>\n",
    "\n",
    "   <!-- Proprietary Content -->\n",
    "   <div style=\"position: absolute; bottom: px5; left: 5%; transform: translateX(-50%); color: grey; text-align: left;font-style: italic\">\n",
    "   <p>Proprietary content. © 10xTechClub. All Rights Reserved. Unauthorized use or distribution prohibited.</p>\n",
    "   </div>\n",
    "</div>"
   ]
  },
  {
   "cell_type": "code",
   "execution_count": null,
   "id": "95395e4d-c23f-4746-acbf-fa147f65e792",
   "metadata": {},
   "outputs": [],
   "source": []
  }
 ],
 "metadata": {
  "kernelspec": {
   "display_name": "Python 3 (ipykernel)",
   "language": "python",
   "name": "python3"
  },
  "language_info": {
   "codemirror_mode": {
    "name": "ipython",
    "version": 3
   },
   "file_extension": ".py",
   "mimetype": "text/x-python",
   "name": "python",
   "nbconvert_exporter": "python",
   "pygments_lexer": "ipython3",
   "version": "3.11.6"
  }
 },
 "nbformat": 4,
 "nbformat_minor": 5
}
