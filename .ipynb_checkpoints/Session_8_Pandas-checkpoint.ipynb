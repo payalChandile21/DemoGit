{
 "cells": [
  {
   "cell_type": "markdown",
   "id": "7a1dec8e",
   "metadata": {},
   "source": [
    "## <span style=\"color:green\">Introduction to Pandas\n",
    "    \n",
    "Pandas is a Python library used for data manipulation and analysis. Pandas provides a convenient way to analyze and clean data.\n",
    "\n",
    "The Pandas library introduces two new data structures to Python - Series and DataFrame, both of which are built on top of NumPy."
   ]
  },
  {
   "cell_type": "markdown",
   "id": "68315c1a",
   "metadata": {},
   "source": [
    "### <span style=\"color:blue\">What Can Pandas Do?\n",
    "Pandas gives you answers about the data. Like:\n",
    "\n",
    "- Is there a correlation between two or more columns?\n",
    "- What is average value?\n",
    "- Max value?\n",
    "- Min value?\n",
    "\n",
    "Pandas are also able to delete rows that are not relevant, or contains wrong values, like empty or NULL values. This is called cleaning the data.\n",
    "\n"
   ]
  },
  {
   "cell_type": "markdown",
   "id": "c2e4ead4",
   "metadata": {},
   "source": [
    "### <span style=\"color:blue\">What is Pandas Used for?\n",
    "Pandas is a powerful library generally used for:\n",
    "    \n",
    "1. Data Cleaning\n",
    "2. Data Transformation\n",
    "3. Data Analysis\n",
    "4. Machine Learning\n",
    "5. Data Visualization"
   ]
  },
  {
   "cell_type": "markdown",
   "id": "a48e0b9d",
   "metadata": {},
   "source": [
    "### <span style=\"color:blue\">Installation of Pandas\n",
    "    \n",
    "If you have Python and PIP already installed on a system, then installation of Pandas is very easy.\n",
    "\n",
    "Install it using this command:"
   ]
  },
  {
   "cell_type": "code",
   "execution_count": 1,
   "id": "5ca00a6e",
   "metadata": {
    "scrolled": true
   },
   "outputs": [
    {
     "name": "stdout",
     "output_type": "stream",
     "text": [
      "Requirement already satisfied: pandas in c:\\users\\madhavi\\anaconda3\\lib\\site-packages (2.2.2)\n",
      "Requirement already satisfied: pytz>=2020.1 in c:\\users\\madhavi\\anaconda3\\lib\\site-packages (from pandas) (2022.1)\n",
      "Requirement already satisfied: python-dateutil>=2.8.2 in c:\\users\\madhavi\\anaconda3\\lib\\site-packages (from pandas) (2.8.2)\n",
      "Requirement already satisfied: tzdata>=2022.7 in c:\\users\\madhavi\\anaconda3\\lib\\site-packages (from pandas) (2022.7)\n",
      "Requirement already satisfied: numpy>=1.22.4 in c:\\users\\madhavi\\anaconda3\\lib\\site-packages (from pandas) (1.24.4)\n",
      "Requirement already satisfied: six>=1.5 in c:\\users\\madhavi\\anaconda3\\lib\\site-packages (from python-dateutil>=2.8.2->pandas) (1.16.0)\n"
     ]
    },
    {
     "name": "stderr",
     "output_type": "stream",
     "text": [
      "WARNING: Ignoring invalid distribution -ensorflow-intel (c:\\users\\madhavi\\anaconda3\\lib\\site-packages)\n",
      "WARNING: Ignoring invalid distribution -ensorflow-intel (c:\\users\\madhavi\\anaconda3\\lib\\site-packages)\n",
      "WARNING: Ignoring invalid distribution -ensorflow-intel (c:\\users\\madhavi\\anaconda3\\lib\\site-packages)\n",
      "WARNING: Ignoring invalid distribution -ensorflow-intel (c:\\users\\madhavi\\anaconda3\\lib\\site-packages)\n",
      "WARNING: Ignoring invalid distribution -ensorflow-intel (c:\\users\\madhavi\\anaconda3\\lib\\site-packages)\n",
      "WARNING: Ignoring invalid distribution -ensorflow-intel (c:\\users\\madhavi\\anaconda3\\lib\\site-packages)\n"
     ]
    }
   ],
   "source": [
    "!pip install pandas"
   ]
  },
  {
   "cell_type": "markdown",
   "id": "38910e54",
   "metadata": {},
   "source": [
    "### <span style=\"color:blue\">Importing Libraries and Aliasing\n",
    "    \n",
    "Libraries in Python provide additional functionality. We import them using the import keyword and can give them aliases for convenience."
   ]
  },
  {
   "cell_type": "code",
   "execution_count": null,
   "id": "848d70af",
   "metadata": {},
   "outputs": [],
   "source": [
    "import pandas as pd  # Importing the pandas library and aliasing it as 'pd'\n"
   ]
  },
  {
   "cell_type": "markdown",
   "id": "2f717052",
   "metadata": {},
   "source": [
    "### <span style=\"color:blue\">Reading CSV Files\n",
    "    \n",
    "read_csv() is used to read a comma-separated values (CSV) file into a DataFrame.\n",
    "    "
   ]
  },
  {
   "cell_type": "code",
   "execution_count": null,
   "id": "c7746735",
   "metadata": {},
   "outputs": [],
   "source": [
    "data = pd.read_csv(\"car_information.csv\")\n"
   ]
  },
  {
   "cell_type": "markdown",
   "id": "47e9a362",
   "metadata": {},
   "source": [
    "### <span style=\"color:blue\">DataFrames and Creation\n",
    "    \n",
    "A DataFrame is a 2-dimensional labeled data structure with columns of potentially different types.\n",
    "\n"
   ]
  },
  {
   "cell_type": "code",
   "execution_count": null,
   "id": "30468dac",
   "metadata": {},
   "outputs": [],
   "source": [
    "data = pd.DataFrame({\n",
    "    \"Car Model\": [\"Model S\", \"Corolla\", \"Mustang\", \"Civic\", \"Camry\", \"3 Series\", \"A4\", \"Accord\", \"Model 3\", \"Altima\", \"C-Class\", \"Malibu\", \"Impreza\", \"Charger\", \"Escape\", \"Highlander\", \"Cherokee\", \"Outback\", \"CX-5\", \"Q5\", \"GLC\", \"X3\", \"Rogue\", \"Tucson\", \"Forester\"],\n",
    "    \"Manufacturer\": [\"Tesla\", \"Toyota\", \"Ford\", \"Honda\", \"Toyota\", \"BMW\", \"Audi\", \"Honda\", \"Tesla\", \"Nissan\", \"Mercedes-Benz\", \"Chevrolet\", \"Subaru\", \"Dodge\", \"Ford\", \"Toyota\", \"Jeep\", \"Subaru\", \"Mazda\", \"Audi\", \"Mercedes-Benz\", \"BMW\", \"Nissan\", \"Hyundai\", \"Subaru\"],\n",
    "    \"Year\": [2021, 2020, 2019, 2018, 2021, 2020, 2019, 2018, 2021, 2020, 2020, 2019, 2018, 2021, 2020, 2021, 2019, 2020, 2021, 2021, 2020, 2019, 2020, 2021, 2020],\n",
    "    \"Price ($)\": [79990, 20000, 55000, 22000, 25000, 41000, 39000, 24000, 39990, 24000, 41000, 22000, 19000, 29995, 25000, 35000, 27000, 27000, 26000, 44000, 43000, 42000, 27000, 25000, 25000],\n",
    "    \"Horsepower\": [670, 139, 450, 158, 203, 255, 248, 192, 283, 188, 255, 160, 152, 292, 180, 295, 180, 182, 187, 261, 255, 248, 170, 187, 182]\n",
    "})\n"
   ]
  },
  {
   "cell_type": "markdown",
   "id": "af2b0162",
   "metadata": {},
   "source": [
    "### <span  style = \"color:blue\">Indexing\n",
    "    \n",
    "Indexing allows for accessing specific rows and columns of the DataFrame."
   ]
  },
  {
   "cell_type": "code",
   "execution_count": null,
   "id": "bcf66761",
   "metadata": {},
   "outputs": [],
   "source": [
    "print(data[\"Car Model\"])  # Accessing the 'Car Model' column\n"
   ]
  },
  {
   "cell_type": "markdown",
   "id": "67b0e0fe",
   "metadata": {},
   "source": [
    "### <span style=\"color:blue\">Locate Row\n",
    "    \n",
    "The loc function is used to access a group of rows and columns by labels or a boolean array."
   ]
  },
  {
   "cell_type": "code",
   "execution_count": null,
   "id": "f8f0efcf",
   "metadata": {},
   "outputs": [],
   "source": [
    "row = data.loc[2]  # Accessing the third row (index 2)\n",
    "print(row)\n"
   ]
  },
  {
   "cell_type": "markdown",
   "id": "86b86525",
   "metadata": {},
   "source": [
    "### <span style=\"color:blue\">Head\n",
    "    \n",
    "The head() function returns the first n rows of the DataFrame."
   ]
  },
  {
   "cell_type": "code",
   "execution_count": null,
   "id": "38aaa1ae",
   "metadata": {},
   "outputs": [],
   "source": [
    "print(data.head())  # Displaying the first 5 rows\n"
   ]
  },
  {
   "cell_type": "markdown",
   "id": "5fe29b0c",
   "metadata": {},
   "source": [
    "<span style=\"color:red\">Print first 10 rows of the DataFrame"
   ]
  },
  {
   "cell_type": "code",
   "execution_count": null,
   "id": "97b008c6",
   "metadata": {},
   "outputs": [],
   "source": [
    "print(data.head(10))"
   ]
  },
  {
   "cell_type": "markdown",
   "id": "7000d822",
   "metadata": {},
   "source": [
    "### <span style=\"color:blue\">Tail\n",
    "The tail() function returns the last n rows of the DataFrame."
   ]
  },
  {
   "cell_type": "code",
   "execution_count": null,
   "id": "5403ab78",
   "metadata": {},
   "outputs": [],
   "source": [
    "print(data.tail())  # Displaying the last 5 rows\n"
   ]
  },
  {
   "cell_type": "markdown",
   "id": "a25a02be",
   "metadata": {},
   "source": [
    "<span style=\"color:red\">Print Last 10 rows of the DataFrame"
   ]
  },
  {
   "cell_type": "code",
   "execution_count": null,
   "id": "22ac1832",
   "metadata": {},
   "outputs": [],
   "source": [
    "print(data.tail(10))"
   ]
  },
  {
   "cell_type": "markdown",
   "id": "a2ba4f2f",
   "metadata": {},
   "source": [
    "### <span style=\"color:blue\">Info\n",
    "The info() function prints a concise summary of the DataFrame."
   ]
  },
  {
   "cell_type": "code",
   "execution_count": null,
   "id": "fed37b12",
   "metadata": {},
   "outputs": [],
   "source": [
    "print(data.info())\n"
   ]
  },
  {
   "cell_type": "markdown",
   "id": "f4d7233a",
   "metadata": {},
   "source": [
    "### <span style=\"color:blue\">Remove Rows - dropna()\n",
    "The dropna() function removes missing values."
   ]
  },
  {
   "cell_type": "code",
   "execution_count": null,
   "id": "7ae66374",
   "metadata": {},
   "outputs": [],
   "source": [
    "data_cleaned = data.dropna()  # Removing rows with any missing values\n",
    "print(data_cleaned)\n"
   ]
  },
  {
   "cell_type": "markdown",
   "id": "e420e731",
   "metadata": {},
   "source": [
    "### <span style=\"color:blue\">Fill Null - fillna()\n",
    "The fillna() function replaces missing values with a specified value."
   ]
  },
  {
   "cell_type": "code",
   "execution_count": null,
   "id": "54027e71",
   "metadata": {},
   "outputs": [],
   "source": [
    "data_filled = data.fillna(0)  # Filling missing values with 0\n",
    "print(data_filled)\n"
   ]
  },
  {
   "cell_type": "markdown",
   "id": "36db9e45",
   "metadata": {},
   "source": [
    "### <span style=\"color:blue\">Mean\n",
    "The mean() function calculates the mean of the numeric columns."
   ]
  },
  {
   "cell_type": "code",
   "execution_count": null,
   "id": "bb1ef05c",
   "metadata": {},
   "outputs": [],
   "source": [
    "print(data[\"Price ($)\"].mean())  # Calculating the mean price\n"
   ]
  },
  {
   "cell_type": "markdown",
   "id": "08c8c588",
   "metadata": {},
   "source": [
    "### <span style=\"color:blue\">Median\n",
    "The median() function calculates the median of the numeric columns."
   ]
  },
  {
   "cell_type": "code",
   "execution_count": null,
   "id": "39343704",
   "metadata": {},
   "outputs": [],
   "source": [
    "print(data[\"Horsepower\"].median())  # Calculating the median horsepower\n"
   ]
  },
  {
   "cell_type": "markdown",
   "id": "bd0f6c21",
   "metadata": {},
   "source": [
    "### <span style=\"color:blue\">Mode\n",
    "The mode() function calculates the mode of the numeric columns."
   ]
  },
  {
   "cell_type": "code",
   "execution_count": null,
   "id": "72851ea8",
   "metadata": {},
   "outputs": [],
   "source": [
    "print(data[\"Year\"].mode())  # Calculating the mode year\n"
   ]
  },
  {
   "cell_type": "markdown",
   "id": "b6f9d609",
   "metadata": {},
   "source": [
    "### <span style=\"color:blue\">Fixing Wrong Data\n",
    "We can fix wrong data by assigning correct values to specific cells."
   ]
  },
  {
   "cell_type": "code",
   "execution_count": null,
   "id": "744bb96f",
   "metadata": {},
   "outputs": [],
   "source": [
    "data.loc[data[\"Car Model\"] == \"Model S\", \"Price ($)\"] = 79999  # Fixing the price of Model S\n",
    "print(data.loc[data[\"Car Model\"] == \"Model S\"])\n"
   ]
  },
  {
   "cell_type": "markdown",
   "id": "f4b15e30",
   "metadata": {},
   "source": [
    "### <span style=\"color:blue\">Remove Duplicate - drop_duplicates()\n",
    "The drop_duplicates() function removes duplicate rows."
   ]
  },
  {
   "cell_type": "code",
   "execution_count": null,
   "id": "a1f40422",
   "metadata": {},
   "outputs": [],
   "source": [
    "data_unique = data.drop_duplicates()\n",
    "print(data_unique)\n"
   ]
  },
  {
   "cell_type": "markdown",
   "id": "b63184f0-6bbd-477d-b5b6-c0697acf85e5",
   "metadata": {},
   "source": [
    "### <span style =\"color:blue\">Querying a Dataframe in Python"
   ]
  },
  {
   "cell_type": "markdown",
   "id": "f6191d34-5a38-4135-b2e3-9290bccbcb35",
   "metadata": {},
   "source": [
    "#### <span style=\"color:red\">1.Select all cars from 2021:"
   ]
  },
  {
   "cell_type": "code",
   "execution_count": null,
   "id": "54015cef-e3e7-45eb-8720-de9ba178e26c",
   "metadata": {},
   "outputs": [],
   "source": [
    "cars_2021 = data[data['Year'] == 2021]\n",
    "print(\"\\nCars from 2021:\")\n",
    "print(cars_2021)\n"
   ]
  },
  {
   "cell_type": "markdown",
   "id": "dfcf136e-1329-47bf-98fb-f87c0d759e11",
   "metadata": {},
   "source": [
    "#### <span style=\"color:red\">2.Select cars with a price greater than $30,000:"
   ]
  },
  {
   "cell_type": "code",
   "execution_count": null,
   "id": "74f5a21a-2638-46ab-bca6-156d62509478",
   "metadata": {},
   "outputs": [],
   "source": [
    "expensive_cars = data[data['Price ($)'] > 30000]\n",
    "print(\"\\nCars with a price greater than $30,000:\")\n",
    "print(expensive_cars)\n"
   ]
  },
  {
   "cell_type": "markdown",
   "id": "f48803ef-e90e-4012-beb2-e9df8879831d",
   "metadata": {},
   "source": [
    "#### <span style=\"color:red\">3.Select cars by a specific manufacturer (e.g., Tesla):"
   ]
  },
  {
   "cell_type": "code",
   "execution_count": null,
   "id": "39363ec2-9c8b-425a-b5a8-8fc30544bf5a",
   "metadata": {},
   "outputs": [],
   "source": [
    "tesla_cars = data[data['Manufacturer'] == 'Tesla']\n",
    "print(\"\\nTesla cars:\")\n",
    "print(tesla_cars)\n"
   ]
  },
  {
   "cell_type": "markdown",
   "id": "017ab619-d399-43fb-9cf0-d1dba6e7d9d1",
   "metadata": {},
   "source": [
    "#### <span style=\"color:red\">4.Select cars with horsepower greater than 200:"
   ]
  },
  {
   "cell_type": "code",
   "execution_count": null,
   "id": "fb107e13-c3a2-488d-aa6b-67e64aface7d",
   "metadata": {},
   "outputs": [],
   "source": [
    "high_hp_cars = data[data['Horsepower'] > 200]\n",
    "print(\"\\nCars with horsepower greater than 200:\")\n",
    "print(high_hp_cars)\n"
   ]
  },
  {
   "cell_type": "markdown",
   "id": "fcc5710f-cf11-4c08-bb31-6d56875b84fc",
   "metadata": {},
   "source": [
    "#### <span style=\"color:red\">5.Select specific columns (e.g., Car Model and Price) for cars from 2020:"
   ]
  },
  {
   "cell_type": "code",
   "execution_count": null,
   "id": "ec10e1d3-7e9d-4507-a741-0e416f26c22e",
   "metadata": {},
   "outputs": [],
   "source": [
    "cars_2020_specific_columns = data[data['Year'] == 2020][['Car Model', 'Price ($)']]\n",
    "print(\"\\nCar Model and Price for cars from 2020:\")\n",
    "print(cars_2020_specific_columns)\n"
   ]
  },
  {
   "cell_type": "markdown",
   "id": "d3f085e3-123c-40ad-91b8-b3ffd530f9e6",
   "metadata": {},
   "source": [
    "#### <span style=\"color:red\">6.Count the number of cars by manufacturer:"
   ]
  },
  {
   "cell_type": "code",
   "execution_count": null,
   "id": "5e83eb11-23f5-49ac-bf5e-e18f1f87ce60",
   "metadata": {},
   "outputs": [],
   "source": [
    "manufacturer_counts = data['Manufacturer'].value_counts()\n",
    "print(\"\\nNumber of cars by manufacturer:\")\n",
    "print(manufacturer_counts)\n"
   ]
  },
  {
   "cell_type": "markdown",
   "id": "85053cb0-510b-42a1-a420-b931bc16098d",
   "metadata": {},
   "source": [
    "#### <span style=\"color:red\">7.Average price of cars by year:"
   ]
  },
  {
   "cell_type": "code",
   "execution_count": null,
   "id": "6a8910f9-eec8-4cef-a665-10afd0522ff1",
   "metadata": {},
   "outputs": [],
   "source": [
    "average_price_by_year = data.groupby('Year')['Price ($)'].mean()\n",
    "print(\"\\nAverage price of cars by year:\")\n",
    "print(average_price_by_year)\n"
   ]
  },
  {
   "cell_type": "markdown",
   "id": "8aabdf8b-a2c1-4304-bddd-1d8bc7663610",
   "metadata": {},
   "source": [
    "#### <span style=\"color:red\">8.Maximum horsepower of cars by manufacturer:"
   ]
  },
  {
   "cell_type": "code",
   "execution_count": null,
   "id": "124f2dc3-82ce-4f8e-846e-6b2fd68e5cca",
   "metadata": {},
   "outputs": [],
   "source": [
    "max_hp_by_manufacturer = data.groupby('Manufacturer')['Horsepower'].max()\n",
    "print(\"\\nMaximum horsepower of cars by manufacturer:\")\n",
    "print(max_hp_by_manufacturer)\n"
   ]
  },
  {
   "cell_type": "markdown",
   "id": "e58cfbc2",
   "metadata": {},
   "source": [
    "### <span style=\"color:blue\">PRACTICE QUESTIONS"
   ]
  },
  {
   "cell_type": "raw",
   "id": "bbcb9b03",
   "metadata": {},
   "source": [
    "1. what are libraries\n",
    "2. import and alias\n",
    "3. read_csv()\n",
    "4. what are dataframes and creation\n",
    "    #indexing\n",
    "    #locate row\n",
    "5. head()\n",
    "6. tail()\n",
    "7. info()\n",
    "8. remove rows- dropna()\n",
    "9. fill null- fillna()\n",
    "10.mean()\n",
    "11.median()\n",
    "12.mode()\n",
    "13.fixng wrong data\n",
    "14.remove duplicate- drop_duplicates()"
   ]
  },
  {
   "cell_type": "markdown",
   "id": "9fb1e0c9",
   "metadata": {},
   "source": [
    "## <span style=\"color:blue\">Libraries: Import and Alias\n",
    "\n",
    "Libraries in Python are collections of precompiled routines that a program can use. The pandas library is widely used for data manipulation and analysis. It's often imported with the alias pd."
   ]
  },
  {
   "cell_type": "code",
   "execution_count": null,
   "id": "c8459e79",
   "metadata": {},
   "outputs": [],
   "source": [
    "import pandas as pd\n"
   ]
  },
  {
   "cell_type": "markdown",
   "id": "8efa251c",
   "metadata": {},
   "source": [
    "## <span style=\"color:blue\">Reading CSV Data\n",
    "\n",
    "The read_csv() function in pandas is used to read a comma-separated values (CSV) file into a DataFrame."
   ]
  },
  {
   "cell_type": "code",
   "execution_count": null,
   "id": "efb1b0ff",
   "metadata": {},
   "outputs": [],
   "source": [
    "df = pd.read_csv(\"uncleaned_city_data.csv\")\n",
    "print(df)\n"
   ]
  },
  {
   "cell_type": "markdown",
   "id": "9e4f1438",
   "metadata": {},
   "source": [
    "## <span style=\"color:blue\">DataFrames and Creation\n",
    "\n",
    "A DataFrame is a two-dimensional labeled data structure with columns of potentially different types. It’s similar to a table in a database or a data frame in R."
   ]
  },
  {
   "cell_type": "code",
   "execution_count": null,
   "id": "53e5f765",
   "metadata": {},
   "outputs": [],
   "source": [
    "data = {\n",
    "    \"City\": [\"Tokyo\", \"New York\", \"Los Angeles\", \"London\", \"Paris\"],\n",
    "    \"Country\": [\"Japan\", \"USA\", \"USA\", \"UK\", \"France\"],\n",
    "    \"Population (millions)\": [37.4, 8.4, 4, 9, 2.1],\n",
    "    \"Area (sq km)\": [2191, 783.8, 1302, 1572, 105.4],\n",
    "    \"GDP per Capita ($)\": [40000, 70000, 65000, 55000, 60000]\n",
    "}\n",
    "df_example = pd.DataFrame(data)\n",
    "print(df_example)\n"
   ]
  },
  {
   "cell_type": "markdown",
   "id": "17985ecd",
   "metadata": {},
   "source": [
    "## <span style=\"color:blue\">Indexing\n",
    "\n",
    "Indexing in pandas means selecting particular rows and columns of data from a DataFrame. This can be done using labels or positional indexing."
   ]
  },
  {
   "cell_type": "code",
   "execution_count": null,
   "id": "52810940",
   "metadata": {},
   "outputs": [],
   "source": [
    "# Select the 'City' column\n",
    "city_column = df['City']\n",
    "print(city_column)\n",
    "\n",
    "# Select the first row\n",
    "first_row = df.iloc[0]\n",
    "print(first_row)\n"
   ]
  },
  {
   "cell_type": "markdown",
   "id": "05efdcf7",
   "metadata": {},
   "source": [
    "## <span style=\"color:blue\">Locate Row\n",
    "The loc method is used to access a group of rows and columns by labels or a boolean array."
   ]
  },
  {
   "cell_type": "code",
   "execution_count": null,
   "id": "2407d87c",
   "metadata": {},
   "outputs": [],
   "source": [
    "# Locate rows where the country is 'USA'\n",
    "usa_cities = df.loc[df['Country'] == 'USA']\n",
    "print(usa_cities)\n"
   ]
  },
  {
   "cell_type": "markdown",
   "id": "1a60c0e9",
   "metadata": {},
   "source": [
    "## <span style=\"color:blue\">Head\n",
    "\n",
    "The head() function returns the first n rows of a DataFrame."
   ]
  },
  {
   "cell_type": "code",
   "execution_count": null,
   "id": "fde8fc03",
   "metadata": {},
   "outputs": [],
   "source": [
    "print(df.head())\n"
   ]
  },
  {
   "cell_type": "markdown",
   "id": "310b17cd",
   "metadata": {},
   "source": [
    "<span style=\"color:red\">Print first 10 rows of the DataFrame"
   ]
  },
  {
   "cell_type": "code",
   "execution_count": null,
   "id": "a3c21947",
   "metadata": {},
   "outputs": [],
   "source": [
    "print(df.head(10))\n"
   ]
  },
  {
   "cell_type": "markdown",
   "id": "ee8e28c8",
   "metadata": {},
   "source": [
    "## <span style=\"color:blue\">Tail\n",
    "The tail() function returns the last n rows of a DataFrame."
   ]
  },
  {
   "cell_type": "code",
   "execution_count": null,
   "id": "80d4fcd4",
   "metadata": {},
   "outputs": [],
   "source": [
    "print(df.tail())\n"
   ]
  },
  {
   "cell_type": "markdown",
   "id": "d907eb8b",
   "metadata": {},
   "source": [
    "<span style=\"color:red\">Print last 10 rows of the DataFrame"
   ]
  },
  {
   "cell_type": "code",
   "execution_count": null,
   "id": "7495ea83",
   "metadata": {},
   "outputs": [],
   "source": [
    "print(df.tail(10))"
   ]
  },
  {
   "cell_type": "markdown",
   "id": "a64a48b3",
   "metadata": {},
   "source": [
    "## <span style=\"color:blue\">Info\n",
    "The info() function provides a summary of the DataFrame including the data types and non-null values."
   ]
  },
  {
   "cell_type": "code",
   "execution_count": null,
   "id": "733d694c",
   "metadata": {},
   "outputs": [],
   "source": [
    "print(df.info())\n"
   ]
  },
  {
   "cell_type": "markdown",
   "id": "af0b904f",
   "metadata": {},
   "source": [
    "## <span style=\"color:blue\">Remove Rows - dropna()\n",
    "The dropna() function removes missing values from the DataFrame."
   ]
  },
  {
   "cell_type": "code",
   "execution_count": null,
   "id": "f7ec2f7e",
   "metadata": {},
   "outputs": [],
   "source": [
    "df_cleaned = df.dropna()\n",
    "print(df_cleaned)\n"
   ]
  },
  {
   "cell_type": "markdown",
   "id": "5e388a32",
   "metadata": {},
   "source": [
    "## <span style=\"color:blue\">Fill Null - fillna()\n",
    "The fillna() function replaces missing values with a specified value."
   ]
  },
  {
   "cell_type": "code",
   "execution_count": null,
   "id": "0706f4ab",
   "metadata": {},
   "outputs": [],
   "source": [
    "df_filled = df.fillna(0)\n",
    "print(df_filled)\n"
   ]
  },
  {
   "cell_type": "markdown",
   "id": "869d2490",
   "metadata": {},
   "source": [
    "## <span style=\"color:blue\">Mean\n",
    "The mean() function calculates the average of numerical columns in the DataFrame."
   ]
  },
  {
   "cell_type": "code",
   "execution_count": null,
   "id": "c923642d",
   "metadata": {},
   "outputs": [],
   "source": [
    "mean_population = df['Population (millions)'].mean()\n",
    "print(f\"Mean Population: {mean_population}\")\n"
   ]
  },
  {
   "cell_type": "markdown",
   "id": "ef900a7e",
   "metadata": {},
   "source": [
    "## <span style=\"color:blue\">Median\n",
    "The median() function calculates the median of numerical columns in the DataFrame."
   ]
  },
  {
   "cell_type": "code",
   "execution_count": null,
   "id": "11972c2d",
   "metadata": {},
   "outputs": [],
   "source": [
    "median_population = df['Population (millions)'].median()\n",
    "print(f\"Median Population: {median_population}\")\n"
   ]
  },
  {
   "cell_type": "markdown",
   "id": "42e0fce7",
   "metadata": {},
   "source": [
    "## <span style=\"color:blue\">Mode\n",
    "The mode() function returns the mode(s) of numerical columns in the DataFrame."
   ]
  },
  {
   "cell_type": "code",
   "execution_count": null,
   "id": "a0b160c5",
   "metadata": {},
   "outputs": [],
   "source": [
    "mode_population = df['Population (millions)'].mode()\n",
    "print(f\"Mode Population: {mode_population}\")\n"
   ]
  },
  {
   "cell_type": "markdown",
   "id": "0e73e397",
   "metadata": {},
   "source": [
    "## <span style=\"color:blue\">Fixing Wrong Data\n",
    "Fixing wrong data involves identifying and correcting errors in the dataset. This can be done by applying conditional statements."
   ]
  },
  {
   "cell_type": "code",
   "execution_count": null,
   "id": "2ee5f91d",
   "metadata": {},
   "outputs": [],
   "source": [
    "# Replace negative values in the 'GDP per Capita ($)' column with the column mean\n",
    "mean_gdp = df['GDP per Capita ($)'].mean()\n",
    "df['GDP per Capita ($)'] = df['GDP per Capita ($)'].apply(lambda x: mean_gdp if x < 0 else x)\n",
    "print(df)\n"
   ]
  },
  {
   "cell_type": "markdown",
   "id": "d5ec2f1d",
   "metadata": {},
   "source": [
    "## <span style=\"color:blue\">Remove Duplicate - drop_duplicates()\n",
    "The drop_duplicates() function removes duplicate rows from the DataFrame."
   ]
  },
  {
   "cell_type": "code",
   "execution_count": null,
   "id": "ce183946",
   "metadata": {},
   "outputs": [],
   "source": [
    "df_no_duplicates = df.drop_duplicates()\n",
    "print(df_no_duplicates)\n"
   ]
  },
  {
   "cell_type": "markdown",
   "id": "922f6b88",
   "metadata": {},
   "source": [
    "## <span style=\"color:blue\">Querying dataframe Using Pandas"
   ]
  },
  {
   "cell_type": "markdown",
   "id": "436c0797-de14-4932-9fc7-fb1534c6536f",
   "metadata": {},
   "source": [
    "#### <span style=color:red> 1.Select all cities in Japan:"
   ]
  },
  {
   "cell_type": "code",
   "execution_count": null,
   "id": "94e69afe-5075-4818-94b7-3b6ce460b7fb",
   "metadata": {},
   "outputs": [],
   "source": [
    "cities_in_japan = df[df['Country'] == 'Japan']\n",
    "print(\"\\nCities in Japan:\")\n",
    "print(cities_in_japan)\n"
   ]
  },
  {
   "cell_type": "markdown",
   "id": "a7f3e6a8-e60a-479b-8588-345eacea897b",
   "metadata": {},
   "source": [
    "#### <span style=color:red>2.Select cities with a population greater than 10 million:"
   ]
  },
  {
   "cell_type": "code",
   "execution_count": null,
   "id": "31170aa7-3aec-4558-9b5c-5ae2a736eae6",
   "metadata": {},
   "outputs": [],
   "source": [
    "large_cities = df[df['Population (millions)'] > 10]\n",
    "print(\"\\nCities with a population greater than 10 million:\")\n",
    "print(large_cities)\n"
   ]
  },
  {
   "cell_type": "markdown",
   "id": "8d3e88a0-7a88-4eb7-8da9-d1e3dec18cd0",
   "metadata": {},
   "source": [
    "#### <span style=color:red>3.Select cities with a GDP per Capita greater than $50,000:"
   ]
  },
  {
   "cell_type": "code",
   "execution_count": null,
   "id": "2dadac60-ed89-4e17-a20e-aae1dfa94805",
   "metadata": {},
   "outputs": [],
   "source": [
    "high_gdp_cities = df[df['GDP per Capita ($)'] > 50000]\n",
    "print(\"\\nCities with GDP per Capita greater than $50,000:\")\n",
    "print(high_gdp_cities)\n"
   ]
  },
  {
   "cell_type": "markdown",
   "id": "c7c706ab-9a69-473c-a222-15051a7fe9db",
   "metadata": {},
   "source": [
    "#### <span style=color:red>4.Select specific columns (e.g., City and Country) for cities in the USA:"
   ]
  },
  {
   "cell_type": "code",
   "execution_count": null,
   "id": "c3c39092-1f57-46f2-bcb5-b9f29871259c",
   "metadata": {},
   "outputs": [],
   "source": [
    "usa_cities_specific_columns = df[df['Country'] == 'USA'][['City', 'Country']]\n",
    "print(\"\\nCity and Country for cities in the USA:\")\n",
    "print(usa_cities_specific_columns)\n"
   ]
  },
  {
   "cell_type": "markdown",
   "id": "0b596568-4349-4a28-961a-f518c8a91c5d",
   "metadata": {},
   "source": [
    "#### <span style=color:red>5.Average population of cities by country:"
   ]
  },
  {
   "cell_type": "code",
   "execution_count": null,
   "id": "5e386219-c30b-4622-9587-6979f669417b",
   "metadata": {},
   "outputs": [],
   "source": [
    "average_population_by_country = df.groupby('Country')['Population (millions)'].mean()\n",
    "print(\"\\nAverage population of cities by country:\")\n",
    "print(average_population_by_country)\n"
   ]
  },
  {
   "cell_type": "markdown",
   "id": "7e950b1d-7013-4387-899a-03fde0d498bc",
   "metadata": {},
   "source": [
    "#### <span style=color:red>6.Count the number of cities by country:"
   ]
  },
  {
   "cell_type": "code",
   "execution_count": null,
   "id": "08c262c2-375b-4eec-b35c-635034111e6c",
   "metadata": {},
   "outputs": [],
   "source": [
    "city_counts_by_country = df['Country'].value_counts()\n",
    "print(\"\\nNumber of cities by country:\")\n",
    "print(city_counts_by_country)\n"
   ]
  },
  {
   "cell_type": "markdown",
   "id": "1d5d62dc-8b29-4ee0-9e72-d3354fb808cd",
   "metadata": {},
   "source": [
    "#### <span style=color:red>7.Maximum GDP per Capita of cities by country:"
   ]
  },
  {
   "cell_type": "code",
   "execution_count": null,
   "id": "be62f5a2-757b-4889-b3b6-8c3daed997f6",
   "metadata": {},
   "outputs": [],
   "source": [
    "max_gdp_by_country = df.groupby('Country')['GDP per Capita ($)'].max()\n",
    "print(\"\\nMaximum GDP per Capita of cities by country:\")\n",
    "print(max_gdp_by_country)\n"
   ]
  },
  {
   "cell_type": "markdown",
   "id": "c555c4e2-cea9-4f1f-982e-eb88459a519b",
   "metadata": {},
   "source": [
    "# <span style=\"color:blue\">----END OF THE SESSION------"
   ]
  },
  {
   "cell_type": "markdown",
   "id": "4b04fb21",
   "metadata": {},
   "source": [
    "<span styke>"
   ]
  },
  {
   "cell_type": "markdown",
   "id": "ea1108f1",
   "metadata": {},
   "source": [
    "<span style=\"color:white\">"
   ]
  },
  {
   "cell_type": "markdown",
   "id": "ad822702",
   "metadata": {},
   "source": [
    "## <span style=\"color:RED\"> ASSIGNMENT"
   ]
  },
  {
   "cell_type": "markdown",
   "id": "0c90a0b2",
   "metadata": {},
   "source": [
    "<span style=\"color:red\">1. How do you import pandas and assign an alias to it?\n"
   ]
  },
  {
   "cell_type": "code",
   "execution_count": null,
   "id": "b0a8530d",
   "metadata": {},
   "outputs": [],
   "source": [
    "\n"
   ]
  },
  {
   "cell_type": "markdown",
   "id": "b6d44699",
   "metadata": {},
   "source": [
    "<span style=\"color:red\">2. How do you read a CSV file into a DataFrame using pandas?"
   ]
  },
  {
   "cell_type": "code",
   "execution_count": null,
   "id": "95ff906a",
   "metadata": {},
   "outputs": [],
   "source": [
    "\n"
   ]
  },
  {
   "cell_type": "markdown",
   "id": "4bdf9ff8",
   "metadata": {},
   "source": [
    "<span style=\"color:red\">3. Create a DataFrame in pandas."
   ]
  },
  {
   "cell_type": "code",
   "execution_count": null,
   "id": "118ccd27",
   "metadata": {},
   "outputs": [],
   "source": [
    "\n"
   ]
  },
  {
   "cell_type": "markdown",
   "id": "59ba7d01",
   "metadata": {},
   "source": [
    "<span style=\"color:red\">4. Display the first 15 rows of a DataFrame."
   ]
  },
  {
   "cell_type": "code",
   "execution_count": null,
   "id": "e115411d",
   "metadata": {},
   "outputs": [],
   "source": []
  },
  {
   "cell_type": "markdown",
   "id": "900b65ac",
   "metadata": {},
   "source": [
    "<span style=\"color:red\">5. Display the last 3 rows of a DataFrame."
   ]
  },
  {
   "cell_type": "code",
   "execution_count": null,
   "id": "da1a7150",
   "metadata": {},
   "outputs": [],
   "source": [
    "\n"
   ]
  },
  {
   "cell_type": "markdown",
   "id": "d47161df",
   "metadata": {},
   "source": [
    "<span style=\"color:red\">6. Remove duplicate rows from the DataFrame."
   ]
  },
  {
   "cell_type": "code",
   "execution_count": null,
   "id": "14d59ded",
   "metadata": {},
   "outputs": [],
   "source": []
  },
  {
   "cell_type": "markdown",
   "id": "3b9fecb9",
   "metadata": {},
   "source": [
    "<span style=\"color:red\">7. Find the datatype of each column"
   ]
  },
  {
   "cell_type": "code",
   "execution_count": null,
   "id": "90171a3e",
   "metadata": {},
   "outputs": [],
   "source": []
  },
  {
   "cell_type": "markdown",
   "id": "8a3a3dd3",
   "metadata": {},
   "source": [
    "<span style=\"color:red\">8. List all Animal whose lifespan is more than a certain age"
   ]
  },
  {
   "cell_type": "code",
   "execution_count": null,
   "id": "4d9b77dc",
   "metadata": {},
   "outputs": [],
   "source": []
  },
  {
   "cell_type": "markdown",
   "id": "0d5d5933-d58e-4879-8c97-51792d650ad1",
   "metadata": {},
   "source": [
    "<span style=\"color:red\">9. Enter a habitat (e.g., Forest, Desert, Ocean) and then displays information about animals belonging to that habitat."
   ]
  },
  {
   "cell_type": "code",
   "execution_count": null,
   "id": "d9123be1-8d7e-4b85-8495-3c6085c8623b",
   "metadata": {},
   "outputs": [],
   "source": []
  },
  {
   "cell_type": "markdown",
   "id": "91e4f46d-4456-4c5e-a641-069a91cd3765",
   "metadata": {},
   "source": [
    "<span style=\"color:red\">10. Select all endangered animals:"
   ]
  },
  {
   "cell_type": "code",
   "execution_count": null,
   "id": "2a10f2d8-967e-44d5-b067-5abdb743f3b6",
   "metadata": {},
   "outputs": [],
   "source": []
  },
  {
   "cell_type": "markdown",
   "id": "5cffaee4-8f1b-4641-b6ac-e04b5481e20f",
   "metadata": {},
   "source": [
    "<span style=\"color:red\">11. Count the number of animals by type:"
   ]
  },
  {
   "cell_type": "code",
   "execution_count": null,
   "id": "b9e1ee3c-f47f-4577-9bc7-e11c99518c60",
   "metadata": {},
   "outputs": [],
   "source": [
    "\n"
   ]
  },
  {
   "cell_type": "markdown",
   "id": "5758fa52-50ea-425a-a629-81f53f1b3d1c",
   "metadata": {},
   "source": [
    "<span style=\"color:red\">12. Average lifespan of animals by habitat:"
   ]
  },
  {
   "cell_type": "code",
   "execution_count": null,
   "id": "1ae14859-16c4-42d6-89ac-eb55d6ebb392",
   "metadata": {},
   "outputs": [],
   "source": []
  },
  {
   "cell_type": "markdown",
   "id": "10b4fb9a-0bfe-4ebf-b880-fe2ea0f98a6e",
   "metadata": {},
   "source": [
    "<span style=\"color:red\">13. Maximum lifespan of animals by diet:"
   ]
  },
  {
   "cell_type": "code",
   "execution_count": null,
   "id": "df401f46-f65e-4a39-8278-416a9fcb439b",
   "metadata": {},
   "outputs": [],
   "source": []
  }
 ],
 "metadata": {
  "kernelspec": {
   "display_name": "Python 3 (ipykernel)",
   "language": "python",
   "name": "python3"
  },
  "language_info": {
   "codemirror_mode": {
    "name": "ipython",
    "version": 3
   },
   "file_extension": ".py",
   "mimetype": "text/x-python",
   "name": "python",
   "nbconvert_exporter": "python",
   "pygments_lexer": "ipython3",
   "version": "3.9.13"
  }
 },
 "nbformat": 4,
 "nbformat_minor": 5
}
