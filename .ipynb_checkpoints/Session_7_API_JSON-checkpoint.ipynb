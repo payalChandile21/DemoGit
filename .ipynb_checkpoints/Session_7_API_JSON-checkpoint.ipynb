{
 "cells": [
  {
   "cell_type": "markdown",
   "id": "3edb80f8-1305-40f2-b409-36f6559a90db",
   "metadata": {},
   "source": [
    "# <span style=\"color:blue\">Introduction to JSON\n",
    "JSON (JavaScript Object Notation) is a lightweight data interchange format that's easy for humans to read and write, and easy for machines to parse and generate. JSON is a text format that is completely language-independent but uses conventions that are familiar to programmers of the C-family of languages, including Python."
   ]
  },
  {
   "attachments": {
    "12eaad97-3d37-4061-9fb8-8d9f377e696f.png": {
     "image/png": "[encoded data removed]"
    }
   },
   "cell_type": "markdown",
   "id": "1e198cd0-b84d-4217-9b5a-e3ad3a930d2b",
   "metadata": {},
   "source": [
    "![image.png](attachment:12eaad97-3d37-4061-9fb8-8d9f377e696f.png)"
   ]
  },
  {
   "cell_type": "markdown",
   "id": "91fd3e56-5f59-44ad-9d20-49af748bd321",
   "metadata": {},
   "source": [
    "JSON is built on two structures:\n",
    "\n",
    "- A collection of name/value pairs (often realized as an object, dictionary, hash table, keyed list, or associative array).\n",
    "- An ordered list of values (often realized as an array, vector, list, or sequence)."
   ]
  },
  {
   "cell_type": "markdown",
   "id": "08188c9e-cef3-4456-835f-736cd52710e2",
   "metadata": {},
   "source": [
    "# <span style=\"color:blue\"> Let's Try Few Examples with Creating and Parsing JSON Data"
   ]
  },
  {
   "cell_type": "markdown",
   "id": "287bfced-b5a5-4941-8597-6192005f4a80",
   "metadata": {},
   "source": [
    "<span style=\"color:red\">Write a Python program that parses a JSON string into a dictionary and converts a dictionary into a JSON string."
   ]
  },
  {
   "cell_type": "code",
   "execution_count": 14,
   "id": "8e6b48dc-c5e9-4cc1-8fa6-f3760c9edca9",
   "metadata": {},
   "outputs": [
    {
     "name": "stdout",
     "output_type": "stream",
     "text": [
      "{'name': 'John', 'age': 30, 'city': 'New York'}\n",
      "{\"name\": \"Alice\", \"age\": 25, \"city\": \"Los Angeles\"}\n"
     ]
    }
   ],
   "source": [
    "import json\n",
    "\n",
    "# JSON string\n",
    "json_string = '{\"name\": \"John\", \"age\": 30, \"city\": \"New York\"}'\n",
    "\n",
    "# Parse JSON string into a Python dictionary\n",
    "data = json.loads(json_string)\n",
    "print(data)\n",
    "\n",
    "# Convert Python dictionary to JSON string\n",
    "python_dict = {\n",
    "    \"name\": \"Alice\",\n",
    "    \"age\": 25,\n",
    "    \"city\": \"Los Angeles\"\n",
    "}\n",
    "json_data = json.dumps(python_dict)\n",
    "print(json_data)\n"
   ]
  },
  {
   "cell_type": "markdown",
   "id": "3cd4f17e-2b43-498e-bd9f-c073e5cd4c88",
   "metadata": {},
   "source": [
    "# <span style=\"color:blue\">Practice Questions"
   ]
  },
  {
   "cell_type": "markdown",
   "id": "3ed33d0f-d519-4493-a6c5-e52a32e1701b",
   "metadata": {},
   "source": [
    "#### <span style=\"color:red\">1. Write a Python program that parses a JSON string representing a student's favorite subjects and prints the student's name, grade, and favorite subjects"
   ]
  },
  {
   "cell_type": "code",
   "execution_count": 1,
   "id": "0cbc62e2-77d8-4f82-816e-5b95aa8d420c",
   "metadata": {},
   "outputs": [],
   "source": [
    "import json\n",
    "\n",
    "# JSON string\n",
    "\n",
    "\n",
    "# Parse JSON string into a Python dictionary\n",
    "\n",
    "# Accessing data\n"
   ]
  },
  {
   "cell_type": "markdown",
   "id": "e671d75d-46cd-42c9-8609-e28dc8ffbdf7",
   "metadata": {},
   "source": [
    "#### <span style=\"color:red\">2.Write a Python program that converts a Python dictionary representing a student's favorite subjects into a JSON string and prints it."
   ]
  },
  {
   "cell_type": "code",
   "execution_count": 2,
   "id": "05724485-9081-4b46-bce3-e561d03847c3",
   "metadata": {},
   "outputs": [],
   "source": [
    "\n",
    "\n",
    "# Python dictionary\n",
    "\n",
    "\n",
    "# Convert Python dictionary to JSON string\n"
   ]
  },
  {
   "cell_type": "markdown",
   "id": "e1bbd93a-9822-4c9a-a751-3e52aa22af58",
   "metadata": {},
   "source": [
    "#### <span style=\"color:red\">3.Write a Python program that parses a JSON string representing a school schedule and prints the day and the schedule for each period."
   ]
  },
  {
   "cell_type": "code",
   "execution_count": 3,
   "id": "2b5a9f2c-c4a2-477b-a054-902e36f80ffa",
   "metadata": {},
   "outputs": [],
   "source": [
    "import json\n",
    "\n",
    "# JSON string\n",
    "json_string = '''\n",
    "{\n",
    "    \"day\": \"Monday\",\n",
    "    \"schedule\": [\n",
    "        {\"period\": 1, \"subject\": \"Math\", \"teacher\": \"Mr. Johnson\"},\n",
    "        {\"period\": 2, \"subject\": \"Science\", \"teacher\": \"Mrs. Carter\"},\n",
    "        {\"period\": 3, \"subject\": \"English\", \"teacher\": \"Ms. Lee\"}\n",
    "    ]\n",
    "}\n",
    "'''\n",
    "\n",
    "# Parse JSON string into a Python dictionary\n",
    "\n",
    "\n",
    "# Accessing data\n",
    "\n"
   ]
  },
  {
   "cell_type": "markdown",
   "id": "8921bfff-cced-4e29-920f-d509124c8ed3",
   "metadata": {},
   "source": [
    "#### <span style=\"color:red\">4. Write a Python program that parses a JSON string representing a library's book collection and prints the library name and details of each book."
   ]
  },
  {
   "cell_type": "code",
   "execution_count": 5,
   "id": "6d4b4783-2651-492f-ba62-0f28f1e24086",
   "metadata": {},
   "outputs": [],
   "source": [
    "import json\n",
    "\n",
    "# JSON string\n",
    "\n",
    "\n",
    "\n",
    "# Parse JSON string into a Python dictionary\n",
    "\n",
    "# Accessing data\n"
   ]
  },
  {
   "cell_type": "markdown",
   "id": "5f2d510c-ae32-44cb-b148-98dc1146d199",
   "metadata": {},
   "source": [
    "#### <span style=\"color:red\">5. Write a Python program that handles product data stored in JSON format and checks the availability of a product based on user input of product_id.\n",
    "\n",
    "Instructions:\n",
    "\n",
    "Use the provided JSON string product_json which contains data for two products (Laptop and Smartphone).\n",
    "Parse the JSON string into Python using json.loads.\n",
    "Define a function find_product_availability(product_id) that takes a product_id as input and returns the availability (True or False) of the product.\n",
    "Prompt the user to enter a product_id.\n",
    "Call the find_product_availability function to check if the product with the entered product_id is in stock or out of stock.\n",
    "Print appropriate messages based on the availability status or if the product_id is not found in the data."
   ]
  },
  {
   "cell_type": "code",
   "execution_count": 6,
   "id": "84ff5de6-3769-48fc-a136-8fce84d30e21",
   "metadata": {},
   "outputs": [],
   "source": [
    "import json\n",
    "\n",
    "\n",
    "# JSON string containing product data\n",
    "product_json = '''\n",
    "[\n",
    "    {\n",
    "        \"product_id\": 101,\n",
    "        \"name\": \"Laptop\",\n",
    "        \"brand\": \"Brand A\",\n",
    "        \"price\": 1200.99,\n",
    "        \"in_stock\": true\n",
    "    },\n",
    "    {\n",
    "        \"product_id\": 102,\n",
    "        \"name\": \"Smartphone\",\n",
    "        \"brand\": \"Brand B\",\n",
    "        \"price\": 799.99,\n",
    "        \"in_stock\": false\n",
    "    }\n",
    "]\n",
    "'''\n",
    "\n",
    "# Parse JSON string into Python list of dictionaries\n",
    "\n",
    "# Function to find product availability by product_id\n",
    "\n",
    "\n",
    "\n",
    "\n",
    "# Prompt user for product_id input\n",
    "\n",
    "\n",
    "# Check availability based on input product_id\n",
    "\n",
    "\n",
    "\n",
    "\n"
   ]
  },
  {
   "cell_type": "markdown",
   "id": "004d9ca4",
   "metadata": {},
   "source": [
    "# <span style=\"color:blue\">What is an API?\n",
    "\n",
    "- API stands for Application Programming Interface.\n",
    "- It allows different software applications to communicate with each other.\n",
    "- Use real-life analogies (e.g., ordering food at a restaurant).\n",
    "\n",
    "Real-life Examples:\n",
    "- Using a weather app that gets data from a weather service API.\n",
    "- Checking scores on a sports app that gets data from a sports API.\n",
    "\n",
    "Why APIs are important in Python:\n",
    "- APIs allow Python programs to interact with web services and databases."
   ]
  },
  {
   "attachments": {
    "036dcbe7-1ff7-41cb-ac0a-1b182a38a103.png": {
     "image/png": "[encoded data removed]"
    }
   },
   "cell_type": "markdown",
   "id": "26f9e182-7b08-4e27-992f-8ed509cffeab",
   "metadata": {},
   "source": [
    "![image.png](attachment:036dcbe7-1ff7-41cb-ac0a-1b182a38a103.png)"
   ]
  },
  {
   "cell_type": "markdown",
   "id": "d426be0a",
   "metadata": {},
   "source": [
    "# <span style=\"color:blue\">Hands-on Activity: Making Your First API Call \n",
    "Install Requests Library:\n",
    "\n",
    "- Guide students to install the requests library using pip install requests.\n",
    "\n",
    "Make a Simple API Call:\n",
    "\n",
    "- Show students how to make a GET request to the SpaceX API and print the response.\n",
    "- Example: Fetching the latest SpaceX launch data."
   ]
  },
  {
   "cell_type": "markdown",
   "id": "216df840-7260-4368-bd38-2325ee26a7c9",
   "metadata": {},
   "source": [
    "#### <span style=\"color:red\">Write a Python program that makes a GET request to the SpaceX API to retrieve the latest launch information and prints the JSON response."
   ]
  },
  {
   "cell_type": "code",
   "execution_count": 22,
   "id": "1438d261",
   "metadata": {},
   "outputs": [
    {
     "name": "stdout",
     "output_type": "stream",
     "text": [
      "{'fairings': None, 'links': {'patch': {'small': 'https://images2.imgbox.com/eb/d8/D1Yywp0w_o.png', 'large': 'https://images2.imgbox.com/33/2e/k6VE4iYl_o.png'}, 'reddit': {'campaign': None, 'launch': 'https://www.reddit.com/r/spacex/comments/xvm76j/rspacex_crew5_launchcoast_docking_discussion_and/', 'media': None, 'recovery': None}, 'flickr': {'small': [], 'original': []}, 'presskit': None, 'webcast': 'https://youtu.be/5EwW8ZkArL4', 'youtube_id': '5EwW8ZkArL4', 'article': None, 'wikipedia': 'https://en.wikipedia.org/wiki/SpaceX_Crew-5'}, 'static_fire_date_utc': None, 'static_fire_date_unix': None, 'net': False, 'window': None, 'rocket': '5e9d0d95eda69973a809d1ec', 'success': True, 'failures': [], 'details': None, 'crew': ['62dd7196202306255024d13c', '62dd71c9202306255024d13d', '62dd7210202306255024d13e', '62dd7253202306255024d13f'], 'ships': [], 'capsules': ['617c05591bad2c661a6e2909'], 'payloads': ['62dd73ed202306255024d145'], 'launchpad': '5e9e4502f509094188566f88', 'flight_number': 187, 'name': 'Crew-5', 'date_utc': '2022-10-05T16:00:00.000Z', 'date_unix': 1664985600, 'date_local': '2022-10-05T12:00:00-04:00', 'date_precision': 'hour', 'upcoming': False, 'cores': [{'core': '633d9da635a71d1d9c66797b', 'flight': 1, 'gridfins': True, 'legs': True, 'reused': False, 'landing_attempt': True, 'landing_success': True, 'landing_type': 'ASDS', 'landpad': '5e9e3033383ecbb9e534e7cc'}], 'auto_update': True, 'tbd': False, 'launch_library_id': 'f33d5ece-e825-4cd8-809f-1d4c72a2e0d3', 'id': '62dd70d5202306255024d139'}\n"
     ]
    }
   ],
   "source": [
    "# import requests\n",
    "import requests  \n",
    "# Define the API endpoint\n",
    "api_url = \"https://api.spacexdata.com/v4/launches/latest\"\n",
    "\n",
    "# Make a GET request to the API\n",
    "response = requests.get(api_url)\n",
    "\n",
    "# Print the JSON response\n",
    "print(response.json())\n"
   ]
  },
  {
   "cell_type": "markdown",
   "id": "672d6e57",
   "metadata": {},
   "source": [
    "# <span style=\"color:blue\">Integrating API and JSON \n",
    "- Combine knowledge of APIs and JSON.\n",
    "- Make an API call, get the JSON response, and parse the data."
   ]
  },
  {
   "cell_type": "markdown",
   "id": "8be4b9ce-7169-4b6c-b4ac-dc750d3bd3a7",
   "metadata": {},
   "source": [
    "#### <span style=\"color:red\">Write a Python program that makes a GET request to the SpaceX API to retrieve information about upcoming launches, parses the JSON response, and prints the mission name and launch date for each upcoming launch."
   ]
  },
  {
   "cell_type": "code",
   "execution_count": 23,
   "id": "f57a98ed",
   "metadata": {},
   "outputs": [
    {
     "name": "stdout",
     "output_type": "stream",
     "text": [
      "Mission Name: USSF-44\n",
      "Launch Date: 2022-11-01T13:41:00.000Z\n",
      "-----\n",
      "Mission Name: Starlink 4-36 (v1.5)\n",
      "Launch Date: 2022-10-20T14:50:00.000Z\n",
      "-----\n",
      "Mission Name: Galaxy 33 (15R) & 34 (12R)\n",
      "Launch Date: 2022-10-08T23:05:00.000Z\n",
      "-----\n",
      "Mission Name: Hotbird 13F\n",
      "Launch Date: 2022-10-15T05:22:00.000Z\n",
      "-----\n",
      "Mission Name: Hotbird 13G\n",
      "Launch Date: 2022-11-03T03:24:00.000Z\n",
      "-----\n",
      "Mission Name: Galaxy 31 (23R) & 32 (17R)\n",
      "Launch Date: 2022-11-08T00:00:00.000Z\n",
      "-----\n",
      "Mission Name: Eutelsat 10B\n",
      "Launch Date: 2022-11-15T00:00:00.000Z\n",
      "-----\n",
      "Mission Name: ispace Mission 1 & Rashid\n",
      "Launch Date: 2022-11-22T00:00:00.000Z\n",
      "-----\n",
      "Mission Name: CRS-26\n",
      "Launch Date: 2022-11-18T22:00:00.000Z\n",
      "-----\n",
      "Mission Name: Starlink 4-37 (v1.5)\n",
      "Launch Date: 2022-11-01T00:00:00.000Z\n",
      "-----\n",
      "Mission Name: O3b mPower 1,2\n",
      "Launch Date: 2022-11-01T00:00:00.000Z\n",
      "-----\n",
      "Mission Name: SWOT\n",
      "Launch Date: 2022-12-05T00:00:00.000Z\n",
      "-----\n",
      "Mission Name: SES-18 & SES-19\n",
      "Launch Date: 2022-11-01T00:00:00.000Z\n",
      "-----\n",
      "Mission Name: Transporter-6\n",
      "Launch Date: 2022-12-01T00:00:00.000Z\n",
      "-----\n",
      "Mission Name: TTL-1\n",
      "Launch Date: 2022-12-01T00:00:00.000Z\n",
      "-----\n",
      "Mission Name: WorldView Legion 1 & 2\n",
      "Launch Date: 2022-12-01T00:00:00.000Z\n",
      "-----\n",
      "Mission Name: Viasat-3 & Arcturus\n",
      "Launch Date: 2022-12-01T00:00:00.000Z\n",
      "-----\n",
      "Mission Name: O3b mPower 3.4\n",
      "Launch Date: 2022-12-01T00:00:00.000Z\n",
      "-----\n"
     ]
    }
   ],
   "source": [
    "import requests\n",
    "\n",
    "# Define the API endpoint\n",
    "api_url = \"https://api.spacexdata.com/v4/launches/upcoming\"\n",
    "\n",
    "# Make the GET request to the API\n",
    "response = requests.get(api_url)\n",
    "\n",
    "# Parse the JSON response\n",
    "data = response.json()\n",
    "\n",
    "# Extract and print information about the upcoming launches\n",
    "for launch in data:\n",
    "    mission_name = launch['name']\n",
    "    launch_date = launch['date_utc']\n",
    "    print(f\"Mission Name: {mission_name}\")\n",
    "    print(f\"Launch Date: {launch_date}\")\n",
    "    print(\"-----\")\n"
   ]
  },
  {
   "cell_type": "markdown",
   "id": "58c42d2a",
   "metadata": {},
   "source": [
    "# <span style=\"color:blue\">Project 2 - Fetch News Data"
   ]
  },
  {
   "cell_type": "markdown",
   "id": "4b9034c0",
   "metadata": {},
   "source": [
    "\n",
    "API Call:\n",
    "\n",
    "- Purpose: To retrieve data from a remote server.\n",
    "- Library Used: requests in Python.\n",
    "- Endpoint: https://newsapi.org/v2/top-headlines.\n",
    "- Parameters: country, category, and apiKey."
   ]
  },
  {
   "cell_type": "markdown",
   "id": "94a0a08e-7f68-4c7a-aedc-4e65e38a50ff",
   "metadata": {},
   "source": [
    "#### <span style=\"color:red\">Write a Python program that makes a GET request to the News API to fetch top headlines, parses the JSON response, and prints the news articles in a user-friendly format. Each article should display the title, description, source, and URL."
   ]
  },
  {
   "cell_type": "code",
   "execution_count": 15,
   "id": "832784a9",
   "metadata": {},
   "outputs": [
    {
     "name": "stdout",
     "output_type": "stream",
     "text": [
      "{'status': 'ok', 'totalResults': 33, 'articles': [{'source': {'id': 'the-washington-post', 'name': 'The Washington Post'}, 'author': 'Isaac Erbele, MD', 'title': 'Is it safe to play a white noise machine all night? - The Washington Post', 'description': 'We conducted a review of the medical literature on white noise machines for young children. All the devices generated alarmingly loud sounds.', 'url': 'https://www.washingtonpost.com/wellness/2024/06/24/white-noise-machine-safe/', 'urlToImage': 'https://www.washingtonpost.com/wp-apps/imrs.php?src=https://arc-anglerfish-washpost-prod-washpost.s3.amazonaws.com/public/7MV2LK2D7FA7XEFW72VIMBR2CI.gif&w=1440', 'publishedAt': '2024-06-24T12:32:37Z', 'content': 'Ive been using a white noise machine since my son was born. It helps him sleep. Is that bad? Could it affect his hearing?\\r\\nMany American households turn to white noise machines to help their children… [+4359 chars]'}, {'source': {'id': None, 'name': 'Sports Illustrated'}, 'author': 'Shandel Richardson', 'title': 'Old-School NBA Fan Ric Flair Now Captivated By Angel Reese-Caitlin Clark Phenomenon - Sports Illustrated', 'description': \"Legendary wrestler Ric Flair was one of the NBA's biggest fans during the 1980s and `90s but now is following Caitlin Clark and Angel Reese in the WNBA\", 'url': 'https://www.si.com/fannation/backinthedaynba/old-school-nba-fan-ric-flair-now-captivated-by-angel-reese-caitlin-clark-phenomenon-01j152qfxv2j', 'urlToImage': 'https://images2.minutemediacdn.com/image/upload/c_crop,w_2133,h_1199,x_0,y_960/c_fill,w_1440,ar_16:9,f_auto,q_auto,g_auto/images/ImagnImages/mmsport/back_in_the_day_nba/01j152wmpnmtg4efxakw.jpg', 'publishedAt': '2024-06-24T12:30:01Z', 'content': 'Pro wrestling legend Ric Flair has long been a fan of the NBA. \\r\\nHe followed it when Kareem Abdul-Jabbar was dominating with the Milwaukee Bucks. He was courtside when Larry Bird and Magic Johnson we… [+1798 chars]'}, {'source': {'id': 'cnn', 'name': 'CNN'}, 'author': 'Brian Lowry', 'title': '‘Inside Out 2’ fills Disney with joy, even if its culture-war critics stay angry - CNN', 'description': 'As emotions go, Disney’s loudest critics might sound angry, but “Inside Out 2” is bringing the studio nothing but joy.', 'url': 'https://www.cnn.com/2024/06/24/entertainment/inside-out-2-box-office-disney-critics-woke/index.html', 'urlToImage': 'https://media.cnn.com/api/v1/images/stellar/prod/inside-out-2-online-use-i140-15mt-pub-pub16-1581.jpg?c=16x9&q=w_800,c_fill', 'publishedAt': '2024-06-24T12:20:00Z', 'content': 'As emotions go, Disneys loudest critics might sound angry, but Inside Out 2 is bringing the studio nothing but joy.\\r\\nThe Walt Disney Co. has often found itself cast as a reluctant participant in the … [+3620 chars]'}, {'source': {'id': 'reuters', 'name': 'Reuters'}, 'author': 'Reuters', 'title': 'China wants EU to scrap EV tariff plans as talks start - Reuters', 'description': None, 'url': 'https://www.reuters.com/markets/china-wants-eu-scrap-ev-tariffs-evs-by-july-4-chinese-state-media-reports-2024-06-24/', 'urlToImage': None, 'publishedAt': '2024-06-24T12:15:38Z', 'content': None}, {'source': {'id': None, 'name': 'New York Post'}, 'author': 'Nika Shakhnazarova', 'title': 'Princess Anne rushed to hospital after suffering head injuries - New York Post ', 'description': '“The Princess Royal has sustained minor injuries and concussion following an incident on the Gatcombe Park estate yesterday evening,” Buckingham Palace\\xa0said in a statement\\xa0Monday.', 'url': 'https://nypost.com/2024/06/24/world-news/princess-anne-rushed-to-hospital-after-suffering-head-injuries/', 'urlToImage': 'https://nypost.com/wp-content/uploads/sites/2/2024/06/princess-anne-hospitalized-comp-2.jpg?quality=75&strip=all&w=1024', 'publishedAt': '2024-06-24T11:49:00Z', 'content': 'Princess Anne has been rushed to the hospital after suffering head injuries and a concussion following an incident on the Gatcombe Park estate Sunday night.\\r\\n“The Princess Royal has sustained minor i… [+2835 chars]'}, {'source': {'id': None, 'name': 'Courier Journal'}, 'author': 'Kinsey Crowley', 'title': 'State abortion law changes, challenges since Dobbs ruling: A patchwork - Courier Journal', 'description': 'Two years ago, the Supreme Court Dobbs decision sent abortion rights back to the states. Here is how some protected and restricted abortion access.', 'url': 'https://www.courier-journal.com/story/news/2024/06/24/state-by-state-abortion-laws-dobbs-anniversary/74190464007/', 'urlToImage': 'https://www.courier-journal.com/gcdn/authoring/authoring-images/2024/06/21/USAT/74173307007-20240424-t-190101-z-1931459653-rc-21-d-7-a-7-nva-7-rtrmadp-3-usacourtabortionidaho.JPG?crop=3935,2215,x0,y204&width=3200&height=1802&format=pjpg&auto=webp', 'publishedAt': '2024-06-24T11:37:15Z', 'content': \"Monday marks two years since the U.S. Supreme Court overturned the federal right to an abortion.\\r\\nThe Dobbs decision issued June 24, 2022 upheld Mississippi's ban on abortion after 15 weeks. Since th… [+26403 chars]\"}, {'source': {'id': 'fox-news', 'name': 'Fox News'}, 'author': 'Ryan Gaydos', 'title': \"Pat McAfee calls Taylor Swift's ex-boyfriends 'bums' in praise of Travis Kelce after concert appearance - Fox News\", 'description': 'ESPN star Pat McAfee offered a high praise of Travis Kelce for joining Taylor Swift on stage Sunday night and ripped her ex-boyfriends.', 'url': 'https://www.foxnews.com/sports/pat-mcafee-calls-taylor-swifts-ex-boyfriends-bums-praise-travis-kelce-after-concert-appearance', 'urlToImage': 'https://static.foxnews.com/foxnews.com/content/uploads/2024/06/Kelce-Swift-McAfee.jpg', 'publishedAt': '2024-06-24T11:35:00Z', 'content': 'Join Fox News for access to this content\\r\\nPlus special access to select articles and other premium content with your account - free of charge.\\r\\nBy entering your email and pushing continue, you are ag… [+1755 chars]'}, {'source': {'id': None, 'name': 'CNBC'}, 'author': 'Michele Luhn', 'title': '5 things to know before the stock market opens Monday - CNBC', 'description': 'Here are five key things investors need to know to start the trading day.', 'url': 'https://www.cnbc.com/2024/06/24/5-things-to-know-before-the-stock-market-opens-monday-june-24.html', 'urlToImage': 'https://image.cnbcfm.com/api/v1/image/107423294-1717422384480-gettyimages-2155115343-AFP_34UQ4HG.jpeg?v=1717422456&w=1920&h=1080', 'publishedAt': '2024-06-24T11:11:55Z', 'content': 'Here are five key things investors need to know to start the trading day:\\r\\n1. Smooth sailing\\r\\nThe S&amp;P 500 dipped 0.16% on Friday but still registered a 0.6% gain for the week. The broad market in… [+4334 chars]'}, {'source': {'id': 'ars-technica', 'name': 'Ars Technica'}, 'author': 'Kyle Orland', 'title': 'In first person: John Romero reflects on over three decades as the “Doom guy” - Ars Technica', 'description': 'Id Software co-founder talks to Ars about everything from Catacomb 3-D to \"boomer shooters.\"', 'url': 'https://arstechnica.com/gaming/2024/06/in-first-person-john-romero-reflects-on-over-three-decades-as-the-doom-guy/', 'urlToImage': 'https://cdn.arstechnica.net/wp-content/uploads/2024/06/romero-boomer-shooter-doom-760x380.jpg', 'publishedAt': '2024-06-24T11:00:42Z', 'content': '25\\r\\nJohn Romero remembers the moment he realized what the future of gaming would look like.In late 1991, Romero and his colleagues at id Software had just released Catacomb 3-D, a crude-looking, EGA-… [+3046 chars]'}, {'source': {'id': 'bloomberg', 'name': 'Bloomberg'}, 'author': 'Hema Parmar', 'title': 'Jain Raises $5.3 Billion in Biggest Hedge Fund Debut Since 2018 - Bloomberg', 'description': 'Bobby Jain has gathered $5.3 billion in commitments for his new multistrategy hedge fund, marking the biggest fundraising haul since ExodusPoint Capital Management’s record debut.', 'url': 'https://www.bloomberg.com/news/articles/2024-06-24/jain-raises-5-3-billion-in-biggest-hedge-fund-debut-since-2018', 'urlToImage': 'https://assets.bwbx.io/images/users/iqjWHBFdfxIU/iQ1zaNsjdBnI/v0/1200x853.jpg', 'publishedAt': '2024-06-24T11:00:00Z', 'content': 'Bobby Jain has gathered $5.3 billion in commitments for his new multistrategy hedge fund, marking the biggest fundraising haul since ExodusPoint Capital Managements record debut.\\r\\nJain Global will st… [+173 chars]'}, {'source': {'id': 'cnn', 'name': 'CNN'}, 'author': 'Ben Church', 'title': 'Christian Pulisic scores spectacular goal as US beats Bolivia in Copa América opener - CNN', 'description': 'It was the perfect start for Christian Pulisic and the US at this year’s Copa América, with the forward inspiring his side to a 2-0 win against Bolivia on Sunday.', 'url': 'https://www.cnn.com/2024/06/24/sport/christian-pulisic-us-bolivia-america-spt-intl/index.html', 'urlToImage': 'https://media.cnn.com/api/v1/images/stellar/prod/gettyimages-2158906863.jpg?c=16x9&q=w_800,c_fill', 'publishedAt': '2024-06-24T10:48:00Z', 'content': 'It was the perfect start for Christian Pulisic and the US at this years Copa América, with the forward inspiring his side to a 2-0 win against Bolivia on Sunday.\\r\\nThe US captain settled any nerves fo… [+2002 chars]'}, {'source': {'id': 'associated-press', 'name': 'Associated Press'}, 'author': 'HYUNG-JIN KIM', 'title': 'South Korea factory fire: At least 16 people killed. Rescue underway - The Associated Press', 'description': 'A fire likely sparked by exploding lithium batteries has swept through a manufacturing factory near South Korea’s capital, killing 22 mostly Chinese migrant workers and injuring eight. Official say the fire began Monday after batteries exploded while workers …', 'url': 'https://apnews.com/article/south-korea-battery-factory-fire-4e668dc7248e4de274aaf910c66359a0', 'urlToImage': 'https://dims.apnews.com/dims4/default/70aa031/2147483647/strip/true/crop/3460x1946+0+231/resize/1440x810!/quality/90/?url=https%3A%2F%2Fassets.apnews.com%2F16%2Fc0%2F5662cee3be981f6c09dbd5677164%2F65e423f9385a437285ee61cef020fecd', 'publishedAt': '2024-06-24T10:33:00Z', 'content': 'SEOUL, South Korea (AP) A fire likely sparked by exploding lithium batteries swept through a manufacturing factory near South Koreas capital on Monday, killing 22 mostly Chinese migrant workers and i… [+1615 chars]'}, {'source': {'id': None, 'name': 'Space.com'}, 'author': 'Elizabeth Howell', 'title': \"Will Boeing Starliner issues delay its 1st long-duration astronaut flight? It's too soon to tell. - Space.com\", 'description': 'Starliner-1 is supposed to fly in 2025, but that assumes that no major issues arise on its first astronaut mission, which is ongoing.', 'url': 'https://www.space.com/crew-flight-test-starliner-1-certification-schedule-question', 'urlToImage': 'https://cdn.mos.cms.futurecdn.net/iLBhRkVaKaZYUmiqadzRMJ-1200-80.jpg', 'publishedAt': '2024-06-24T10:00:17Z', 'content': \"While NASA and Boeing are focused on finishing the first astronaut mission aboard the Starliner spacecraft early next month, what happens next is already on everyone's mind.\\r\\nBoeing's Starliner capsu… [+7521 chars]\"}, {'source': {'id': 'cnn', 'name': 'CNN'}, 'author': 'Nectar Gan, Yong Xiong', 'title': 'Suspected Chinese rocket debris seen falling over village after launch, video shows - CNN', 'description': 'Suspected debris from a Chinese rocket was seen plummeting to the ground over a village in southwest China on Saturday, leaving a trail of bright yellow smoke and sending villagers running, according to videos on Chinese social media and sent to CNN by a loca…', 'url': 'https://www.cnn.com/2024/06/24/china/china-rocket-debris-falls-over-village-intl-hnk/index.html', 'urlToImage': 'https://media.cnn.com/api/v1/images/stellar/prod/still-20735313-3655-752-still-16x9.jpg?c=16x9&q=w_800,c_fill', 'publishedAt': '2024-06-24T09:44:00Z', 'content': 'Suspected debris from a Chinese rocket was seen plummeting to the ground over a village in southwest China on Saturday, leaving a trail of bright yellow smoke and sending villagers running, according… [+5569 chars]'}, {'source': {'id': 'reuters', 'name': 'Reuters'}, 'author': 'Reuters', 'title': \"Kremlin blames US for 'barbaric' ATACMS missile attack on Crimea - Reuters\", 'description': None, 'url': 'https://www.reuters.com/world/europe/kremlin-blames-us-barbaric-atacms-missile-attack-crimea-2024-06-24/', 'urlToImage': None, 'publishedAt': '2024-06-24T09:38:00Z', 'content': None}, {'source': {'id': None, 'name': 'ABC27'}, 'author': 'Brett Thackara', 'title': 'Heat wave breaks today as humidity drops to start the week - ABC27', 'description': 'Thanks to yesterday’s cold front that did bring a few showers and storms to the region, the heat wave will finally break today! That means the 7-day heat wave will finally come to an end. Expect sunny skies, cooler temperatures, and low humidity today with br…', 'url': 'https://www.abc27.com/weather/heat-wave-breaks-today-as-humidity-drops-to-start-the-week/', 'urlToImage': 'https://www.abc27.com/wp-content/uploads/sites/55/2024/06/Bretts-Forecast-9.png?w=1280', 'publishedAt': '2024-06-24T09:27:09Z', 'content': 'Rainfall this week might come on Wednesday and again by the weekend...TODAY: Sunny, Cooler, &amp; Breezy. Hi 85. Winds: NW 10-15 mph. Gusts to 35 mph.\\r\\nTONIGHT: Clear &amp; Cooler, Winds Relax. Lo 64… [+1368 chars]'}, {'source': {'id': 'politico', 'name': 'Politico'}, 'author': 'POLITICO', 'title': 'Inside the $100-million plan to restore abortion rights in America - POLITICO', 'description': None, 'url': 'https://www.politico.com/news/2024/06/24/abortion-rights-advocates-launch-100-million-campaign-00164528', 'urlToImage': None, 'publishedAt': '2024-06-24T09:01:00Z', 'content': None}, {'source': {'id': 'cnn', 'name': 'CNN'}, 'author': 'Lauren Izso, Mohammed Tawfeeq', 'title': '‘Intense phase of war with Hamas about to end,’ focus to shift to Lebanon border, Netanyahu says - CNN', 'description': 'Israeli Prime Minister Benjamin Netanyahu said Sunday that the “intense phase of the war with Hamas (in Gaza) is about to end,” and that the military’s focus could then shift to Israel’s northern border with Lebanon.', 'url': 'https://www.cnn.com/2024/06/23/middleeast/intense-phase-hamas-war-end-netanyahu-lebanon-intl-latam/index.html', 'urlToImage': 'https://media.cnn.com/api/v1/images/stellar/prod/gettyimages-2156070578.jpg?c=16x9&q=w_800,c_fill', 'publishedAt': '2024-06-24T08:05:00Z', 'content': 'Israeli Prime Minister Benjamin Netanyahu said Sunday that the intense phase of the war with Hamas (in Gaza) is about to end, and that the militarys focus could then shift to Israels northern border … [+5757 chars]'}, {'source': {'id': 'cnn', 'name': 'CNN'}, 'author': 'Darya Tarasova, Jen Deaton, Mariya Knight', 'title': 'Gunmen kill police, priest in attacks on places of worship in Russia’s Dagestan - CNN', 'description': 'Gunmen opened fire on places of worship in two cities of Russia’s southernmost Dagestan province on Sunday, killing at least 15 police officers, an Orthodox priest and an unknown number of civilians, in what appeared to be a coordinated attack.', 'url': 'https://www.cnn.com/2024/06/23/europe/dagestan-synagogue-attack-russia-intl-latam/index.html', 'urlToImage': 'https://media.cnn.com/api/v1/images/stellar/prod/still-20734479-1586-595-still-copy.jpg?c=16x9&q=w_800,c_fill', 'publishedAt': '2024-06-24T05:16:00Z', 'content': 'Gunmen opened fire on places of worship in two cities of Russias southernmost Dagestan province on Sunday, killing at least 15 police officers, an Orthodox priest and an unknown number of civilians, … [+7323 chars]'}, {'source': {'id': None, 'name': 'Suntimes.com'}, 'author': 'Georgia Nicols', 'title': 'Horoscope for Monday, June 24, 2024 - Chicago Sun-Times', 'description': None, 'url': 'https://chicago.suntimes.com/horoscopes/2024/06/24/horoscopes-today-monday-june-24-2024', 'urlToImage': 'https://cst.brightspotcdn.com/dims4/default/2145dbd/2147483647/strip/true/crop/870x497+0+67/resize/1461x834!/quality/90/?url=https%3A%2F%2Fchorus-production-cst-web.s3.us-east-1.amazonaws.com%2Fbrightspot%2Fac%2Ffd%2F790f04b15195427014757adc0272%2Fgeorgia-nicols.jpg', 'publishedAt': '2024-06-24T05:01:10Z', 'content': 'Moon Alert\\r\\nThere are no restrictions to shopping or important decisions. The moon is in Aquarius.\\r\\nAries (March 21-April 19)\\r\\nThis is an excellent day to begin your week. In particular, relations wi… [+3862 chars]'}]}\n"
     ]
    }
   ],
   "source": [
    "import requests\n",
    "\n",
    "def get_top_headlines(country=\"us\", category=\"general\", api_key=\"your_api_key_here\"):\n",
    "    \"\"\"\n",
    "    Fetches top headlines from a News API based on parameters.\n",
    "\n",
    "    Args:\n",
    "        country (str, optional): Two-letter country code (defaults to \"us\").\n",
    "        category (str, optional): News category (defaults to \"general\").\n",
    "        api_key (str, optional): Your News API key.\n",
    "\n",
    "    Returns:\n",
    "        dict or None: Dictionary containing news articles or None on error.\n",
    "    \"\"\"\n",
    "    url = f\"https://newsapi.org/v2/top-headlines?country={country}&category={category}&apiKey={api_key}\"\n",
    "\n",
    "    response = requests.get(url)\n",
    "\n",
    "    if response.status_code == 200:\n",
    "        return response.json()\n",
    "    else:\n",
    "        print(f\"Error: {response.status_code}\")\n",
    "        return None\n",
    "\n",
    "# Example usage\n",
    "news_data = get_top_headlines(api_key=\"da21cbcf30ec4ba395e36f7dfe81983b\")\n",
    "print(news_data)\n"
   ]
  },
  {
   "cell_type": "markdown",
   "id": "5162e6ab",
   "metadata": {},
   "source": [
    "<span style=\"color:blue\">Integrate API and JSON to Fetch and Display Data\n",
    "- Objective: Convert JSON formatted data into a Python dictionary for easier manipulation and display the news articles in a user-friendly format.\n",
    "\n",
    "Data Extraction:\n",
    "\n",
    "- Data Structure: The response contains a dictionary with an \"articles\" key holding a list of articles.\n",
    "- Looping through Articles: Extract and display title, description, source, and URL of each article."
   ]
  },
  {
   "cell_type": "code",
   "execution_count": 24,
   "id": "984e3a83",
   "metadata": {},
   "outputs": [
    {
     "name": "stdout",
     "output_type": "stream",
     "text": [
      "Top Headlines:\n",
      "\n",
      "Title: UK general election 2024: Labour hopeful, Conservatives morose as polls open - The Associated Press\n",
      "Description: British voters are picking a new government in a parliamentary election Thursday that is widely expected to bring the opposition Labour Party to power. Against a backdrop of economic malaise, mounting distrust of government institutions and a fraying social f…\n",
      "Source: Associated Press\n",
      "URL: https://apnews.com/article/uk-election-labour-conservatives-polling-day-3c89a7974f05748943adfbebf03d3db6\n",
      "--------------------------------------------------\n",
      "\n",
      "Title: 2024 MLB All-Star Game starters - MLB.com\n",
      "Description: None\n",
      "Source: MLB.com\n",
      "URL: https://www.mlb.com/news/2024-mlb-all-star-game-starters\n",
      "--------------------------------------------------\n",
      "\n",
      "Title: Halle Bailey and DDG Share First Photo of Son Halo's Face - E! NEWS\n",
      "Description: Halle Bailey and DDG posed for a family photo with their son Halo, who they welcomed last year.\n",
      "Source: Eonline.com\n",
      "URL: https://www.eonline.com/news/1404614/halle-bailey-and-ddg-share-first-photo-of-son-halos-face\n",
      "--------------------------------------------------\n",
      "\n",
      "Title: Japan’s new banknotes cause trouble for small businesses - South China Morning Post\n",
      "Description: Subscribe to our YouTube channel for free here: https://sc.mp/subscribe-youtubeMore on this: https://sc.mp/2cipf Japan began circulating its first new bankno...\n",
      "Source: YouTube\n",
      "URL: https://www.youtube.com/watch?v=_xS51MajwWc\n",
      "--------------------------------------------------\n",
      "\n",
      "Title: Every imaginable Galaxy Z Flip 6, Fold 6 specification has leaked - SamMobile - Samsung news\n",
      "Description: Samsung can't stop the leaks! A week before its next Galaxy Unpacked launch event, Galaxy Z Flip 6 and Galaxy ...\n",
      "Source: SamMobile\n",
      "URL: https://www.sammobile.com/news/galaxy-z-flip-6-fold-6-specification-leaked-detail/\n",
      "--------------------------------------------------\n",
      "\n",
      "Title: New Zealand tourist robbed and killed outside Newport Beach mall, police say - CBS Los Angeles\n",
      "Description: Three men were arrested in the alleged robbery and killing of a 68-year-old tourist outside a Newport Beach mall.\n",
      "Source: CBS News\n",
      "URL: https://www.cbsnews.com/losangeles/news/new-zealand-tourist-68-robbed-and-killed-outside-newport-beach-mall-police-say/\n",
      "--------------------------------------------------\n",
      "\n",
      "Title: Hurricane Beryl: Jamaica hammered by powerful storm - BBC.com\n",
      "Description: None\n",
      "Source: Google News\n",
      "URL: https://news.google.com/rss/articles/CBMiLmh0dHBzOi8vd3d3LmJiYy5jb20vbmV3cy9hcnRpY2xlcy9jdjJnbTUyOGs0bW_SATJodHRwczovL3d3dy5iYmMuY29tL25ld3MvYXJ0aWNsZXMvY3YyZ201MjhrNG1vLmFtcA?oc=5\n",
      "--------------------------------------------------\n",
      "\n",
      "Title: Jeffries seeks to stem House defections, for now, as Democrats panic over Biden - The Washington Post\n",
      "Description: The House Democratic leader, who hopes to be speaker under a Democratic majority post-November, is seeking to stem defections among his rank-and-file.\n",
      "Source: The Washington Post\n",
      "URL: https://www.washingtonpost.com/politics/2024/07/03/hakeem-jeffries-biden-house-democrats-step-down-doggett-grijalva/\n",
      "--------------------------------------------------\n",
      "\n",
      "Title: What's open and closed on July 4th? Details on stores, restaurants, Walmart, Costco, Target, more - USA TODAY\n",
      "Description: Here's how Costco, Walmart, Target, Starbucks, McDonald's and other big name companies are operating on the Fourth of July this year.\n",
      "Source: USA Today\n",
      "URL: https://www.usatoday.com/story/money/2024/07/04/whats-open-closed-july-4th-2024/74291180007/\n",
      "--------------------------------------------------\n",
      "\n",
      "Title: Where's Macron? French president disappears amid election crisis - POLITICO Europe\n",
      "Description: The leader “underestimated how much the public were turned off by his personality,” one party official told POLITICO.\n",
      "Source: POLITICO.eu\n",
      "URL: https://www.politico.eu/article/emmanuel-macron-france-president-elections-2024-marine-le-pen-brussels-national-rally/\n",
      "--------------------------------------------------\n",
      "\n",
      "Title: Biden tells governors he got a medical checkup - POLITICO\n",
      "Description: None\n",
      "Source: Politico\n",
      "URL: https://www.politico.com/news/2024/07/03/biden-tells-governors-he-got-a-medical-check-up-00166579\n",
      "--------------------------------------------------\n",
      "\n",
      "Title: Christina Applegate Wants 'Shots With Cher' With 'Days I Have Left' - Rolling Stone\n",
      "Description: Actress Christina Applegate shared some things she'd like to do \"with the days I have left in life.\"\n",
      "Source: Rolling Stone\n",
      "URL: http://www.rollingstone.com/tv-movies/tv-movie-news/christina-applegate-cher-shirley-maclaine-ms-battle-1235053269/\n",
      "--------------------------------------------------\n",
      "\n",
      "Title: Biden Tells Allies He Knows He Has Only Days to Salvage Candidacy - The New York Times\n",
      "Description: None\n",
      "Source: Google News\n",
      "URL: https://news.google.com/rss/articles/CBMiUmh0dHBzOi8vd3d3Lm55dGltZXMuY29tLzIwMjQvMDcvMDMvdXMvcG9saXRpY3MvYmlkZW4td2l0aGRyYXctZWxlY3Rpb24tZGViYXRlLmh0bWzSAQA?oc=5\n",
      "--------------------------------------------------\n",
      "\n",
      "Title: ‘Anyone who fell did not get up’: Survivors recall chaos and confusion at deadly crush in India - CNN\n",
      "Description: Eyewitnesses have recounted scenes of chaos and confusion after a religious festival in northern India ended in tragedy when over 100 people were killed in a crowd crush.\n",
      "Source: CNN\n",
      "URL: https://www.cnn.com/2024/07/03/india/india-crush-eyewitness-accounts-intl/index.html\n",
      "--------------------------------------------------\n",
      "\n",
      "Title: WH reporters admit being 'turned off' from exposing Biden's mental decline because of 'right-wing media' hype - Fox News\n",
      "Description: CNN went viral after reporting White House reporters were deterred from covering President Biden's mental decline in part because of the hype it got from \"right-wing media.\"\n",
      "Source: Fox News\n",
      "URL: https://www.foxnews.com/media/wh-reporters-admit-being-turned-off-exposing-bidens-mental-decline-right-wing-media-hype\n",
      "--------------------------------------------------\n",
      "\n",
      "Title: Vanessa Hudgens welcomes first baby with Cole Tucker on his 28th birthday; spotted leaving hospital - Hindustan Times\n",
      "Description: Vanessa Hudgens and Cole Tucker seen leaving the hospital with their newborn, marking an extra special birthday for Tucker. | Hollywood\n",
      "Source: Hindustan Times\n",
      "URL: https://www.hindustantimes.com/entertainment/hollywood/vanessa-hudgens-welcomes-first-baby-with-cole-tucker-spotted-leaving-hospital-101720055832230.html\n",
      "--------------------------------------------------\n",
      "\n",
      "Title: Lebanon: Israeli strike kills senior Hezbollah commander - BBC.com\n",
      "Description: Hezbollah says it launched 100 rockets at Israel in response to the death of Mohammed Nasser.\n",
      "Source: BBC News\n",
      "URL: https://www.bbc.com/news/articles/cg3e9e7y3vno\n",
      "--------------------------------------------------\n",
      "\n",
      "Title: Orange County man convicted of hate crime murder in killing of gay ex-classmate Blaze Bernstein - NBC Los Angeles\n",
      "Description: An Orange County man was convicted of first-degree murder Wednesday in the stabbing death of a gay former high school classmate in 2018.\n",
      "Source: NBC Southern California\n",
      "URL: https://www.nbclosangeles.com/news/local/verdict-blaze-bernstein-murder-trial-samuel-woodward/3449743/\n",
      "--------------------------------------------------\n",
      "\n",
      "Title: Bird flu human case is reported in Colorado - Reuters.com\n",
      "Description: Public health officials in Colorado on Wednesday announced an adult man had tested positive for avian flu after reporting mild symptoms, including conjunctivitis, or pink eye.\n",
      "Source: Reuters\n",
      "URL: https://www.reuters.com/world/americas/colorado-reports-human-case-bird-flu-2024-07-03/\n",
      "--------------------------------------------------\n",
      "\n",
      "Title: ‘Despicable Me 4’ Firing Off To $28M Wednesday, $120M 5-Day Opening Over July 4th Stretch – Box Office - Deadline\n",
      "Description: 'Despicable Me 4' Opening to $120M over July 4th period at domestic box office.\n",
      "Source: Deadline\n",
      "URL: http://deadline.com/2024/07/box-office-despicable-me-4-1236001250/\n",
      "--------------------------------------------------\n"
     ]
    }
   ],
   "source": [
    "import requests\n",
    "\n",
    "def get_top_headlines(country=\"us\", category=\"general\", api_key=\"da21cbcf30ec4ba395e36f7dfe81983b\"):\n",
    "    \"\"\"\n",
    "    Fetches top headlines from a News API based on parameters.\n",
    "\n",
    "    Args:\n",
    "        country (str, optional): Two-letter country code (defaults to \"us\").\n",
    "        category (str, optional): News category (defaults to \"general\").\n",
    "        api_key (str, optional): Your News API key.\n",
    "\n",
    "    Returns:\n",
    "        dict or None: Dictionary containing news articles or None on error.\n",
    "    \"\"\"\n",
    "    url = f\"https://newsapi.org/v2/top-headlines?country={country}&category={category}&apiKey={api_key}\"\n",
    "\n",
    "    response = requests.get(url)\n",
    "\n",
    "    if response.status_code == 200:\n",
    "        return response.json()\n",
    "    else:\n",
    "        print(f\"Error: {response.status_code}\")\n",
    "        return None\n",
    "\n",
    "def display_news(news_data):\n",
    "    \"\"\"\n",
    "    Prints news articles in a user-friendly format.\n",
    "\n",
    "    Args:\n",
    "        news_data (dict): Dictionary containing news articles.\n",
    "    \"\"\"\n",
    "    if not news_data or \"articles\" not in news_data:\n",
    "        print(\"No news articles found.\")\n",
    "        return\n",
    "\n",
    "    print(\"Top Headlines:\")\n",
    "    for article in news_data[\"articles\"]:\n",
    "        print(f\"\\nTitle: {article['title']}\")\n",
    "        print(f\"Description: {article['description']}\")\n",
    "        print(f\"Source: {article['source']['name']}\")\n",
    "        print(f\"URL: {article['url']}\")\n",
    "        print(\"-\" * 50)\n",
    "\n",
    "# Example usage\n",
    "news_data = get_top_headlines(api_key=\"da21cbcf30ec4ba395e36f7dfe81983b\")\n",
    "display_news(news_data)\n"
   ]
  },
  {
   "cell_type": "markdown",
   "id": "7d2aaca8",
   "metadata": {},
   "source": [
    "# <span style=\"color:blue\">Project 3 - Movie Recommendation Engine with OMDb API"
   ]
  },
  {
   "cell_type": "markdown",
   "id": "9f5c1622",
   "metadata": {},
   "source": [
    "#### <span style=\"color:red\">Write a Python program that makes a GET request to the OMDb API to fetch information about a movie based on its title. The function should return the movie information or print an error message if the request fails."
   ]
  },
  {
   "cell_type": "code",
   "execution_count": 26,
   "id": "e5667fb9",
   "metadata": {},
   "outputs": [
    {
     "name": "stdout",
     "output_type": "stream",
     "text": [
      "{'title': 'The Shawshank Redemption', 'genre': 'Drama', 'actors': ['Tim Robbins', 'Morgan Freeman', 'Bob Gunton']}\n"
     ]
    }
   ],
   "source": [
    "import requests\n",
    "\n",
    "def get_movie_info(title):\n",
    "    \"\"\"\n",
    "    Fetches movie information from the OMDb API based on the title.\n",
    "\n",
    "    Args:\n",
    "        title (str): The title of the movie to search for.\n",
    "\n",
    "    Returns:\n",
    "        dict or None: Dictionary containing movie information or None on error.\n",
    "    \"\"\"\n",
    "    api_key = \"cbde254b\"  # Replace with your OMDb API key\n",
    "    url = f\"http://www.omdbapi.com/?apikey={api_key}&t={title}\"\n",
    "\n",
    "    response = requests.get(url)\n",
    "\n",
    "    if response.status_code == 200:\n",
    "        data = response.json()\n",
    "        if \"Error\" in data:\n",
    "            print(f\"Error: {data['Error']}\")\n",
    "            return None\n",
    "        else:\n",
    "            return {\n",
    "                \"title\": data[\"Title\"],\n",
    "                \"genre\": data[\"Genre\"],\n",
    "                \"actors\": data[\"Actors\"].split(\", \")\n",
    "            }\n",
    "    else:\n",
    "        print(f\"Error: {response.status_code}\")\n",
    "        return None\n",
    "\n",
    "# Example usage\n",
    "movie_info = get_movie_info(\"The Shawshank Redemption\")\n",
    "print(movie_info)\n"
   ]
  },
  {
   "cell_type": "markdown",
   "id": "b43b47e5",
   "metadata": {},
   "source": [
    "<span style=\"color:blue\"> Integrating API and JSON\n",
    "\n",
    "\n",
    "1. Data Extraction:\n",
    "\n",
    "- Data Structure: The response contains a dictionary with various details about the movie.\n",
    "- Attributes Extracted: Title, Genre, and Actors.\n",
    "\n",
    "2. Recommendation Logic:\n",
    "\n",
    "- Criteria: Recommend movies from a predefined list that share the same genre as the input movie.\n",
    "- Comparison: Compare the genre of the input movie with genres of other movies in the sample data."
   ]
  },
  {
   "cell_type": "markdown",
   "id": "ca65105d-b294-414a-9c0d-dae1d9cd36bb",
   "metadata": {},
   "source": [
    "#### <span style=\"color:red\">Write a Python program that makes a GET request to the OMDb API to fetch movie information, parses the JSON response, and recommends similar movies based on genre. The program should allow the user to input a movie title, display the fetched movie information, and recommend movies from a predefined list that share the same genre."
   ]
  },
  {
   "cell_type": "code",
   "execution_count": 28,
   "id": "6bdf1bbc",
   "metadata": {},
   "outputs": [
    {
     "name": "stdin",
     "output_type": "stream",
     "text": [
      "Enter a movie title:  The Shawshank Redemption\n"
     ]
    },
    {
     "name": "stdout",
     "output_type": "stream",
     "text": [
      "\n",
      "Movie: The Shawshank Redemption\n",
      "Genre: Drama\n",
      "\n",
      "No similar movies found based on genre.\n"
     ]
    }
   ],
   "source": [
    "import requests\n",
    "\n",
    "def get_movie_info(title):\n",
    "    \"\"\"\n",
    "    Fetches movie information from the OMDb API based on the title.\n",
    "\n",
    "    Args:\n",
    "        title (str): The title of the movie to search for.\n",
    "\n",
    "    Returns:\n",
    "        dict or None: Dictionary containing movie information or None on error.\n",
    "    \"\"\"\n",
    "    api_key = \"cbde254b\"  # Replace with your OMDb API key\n",
    "    url = f\"http://www.omdbapi.com/?apikey={api_key}&t={title}\"\n",
    "\n",
    "    response = requests.get(url)\n",
    "\n",
    "    if response.status_code == 200:\n",
    "        data = response.json()\n",
    "        if \"Error\" in data:\n",
    "            print(f\"Error: {data['Error']}\")\n",
    "            return None\n",
    "        else:\n",
    "            # Parsing the JSON data to extract relevant information\n",
    "            movie_info = {\n",
    "                \"title\": data[\"Title\"],\n",
    "                \"genre\": data[\"Genre\"],\n",
    "                \"actors\": data[\"Actors\"].split(\", \")\n",
    "            }\n",
    "            return movie_info\n",
    "    else:\n",
    "        print(f\"Error: {response.status_code}\")\n",
    "        return None\n",
    "\n",
    "def recommend_similar_movies(movie, movies_data):\n",
    "    \"\"\"\n",
    "    Recommends similar movies based on genre.\n",
    "\n",
    "    Args:\n",
    "        movie (dict): Dictionary containing the input movie information.\n",
    "        movies_data (list): List of dictionaries containing other movies data.\n",
    "\n",
    "    Returns:\n",
    "        list: List of recommended movie titles.\n",
    "    \"\"\"\n",
    "    # Simplified recommendation based on genre (can be extended)\n",
    "    similar_movies = []\n",
    "    for other_movie in movies_data:\n",
    "        if movie[\"genre\"] == other_movie[\"genre\"] and movie[\"title\"] != other_movie[\"title\"]:\n",
    "            similar_movies.append(other_movie[\"title\"])\n",
    "    return similar_movies\n",
    "\n",
    "def main():\n",
    "    # Sample movie data (replace with actual data retrieval)\n",
    "    movies_data = [\n",
    "        {\"title\": \"The Shawshank Redemption\", \"genre\": \"Crime, Drama\"},\n",
    "        {\"title\": \"The Godfather\", \"genre\": \"Crime, Drama\"},\n",
    "        {\"title\": \"The Dark Knight\", \"genre\": \"Action, Crime, Thriller\"},\n",
    "        {\"title\": \"The Lord of the Rings: The Return of the King\", \"genre\": \"Adventure, Drama, Fantasy\"}\n",
    "    ]\n",
    "\n",
    "    movie_title = input(\"Enter a movie title: \")\n",
    "    movie_info = get_movie_info(movie_title)\n",
    "\n",
    "    if movie_info:\n",
    "        print(f\"\\nMovie: {movie_info['title']}\")\n",
    "        print(f\"Genre: {movie_info['genre']}\")\n",
    "\n",
    "        similar_movies = recommend_similar_movies(movie_info, movies_data)\n",
    "        if similar_movies:\n",
    "            print(\"\\nSimilar Movies based on Genre:\")\n",
    "            for movie in similar_movies:\n",
    "                print(f\"- {movie}\")\n",
    "        else:\n",
    "            print(\"\\nNo similar movies found based on genre.\")\n",
    "    else:\n",
    "        print(\"Movie not found!\")\n",
    "\n",
    "if __name__ == \"__main__\":\n",
    "    main()\n"
   ]
  },
  {
   "cell_type": "markdown",
   "id": "3f9a8e6e-a695-416e-8ee5-097be0417390",
   "metadata": {},
   "source": [
    "# <span style=\"color:blue\">Create Your Own API with Flask and ngrok\n",
    "Creating your own API can be a powerful way to provide data and services to clients or other applications. Here, we'll go through the steps to create a simple API using Flask in a Jupyter notebook and expose it to the internet using ngrok."
   ]
  },
  {
   "cell_type": "markdown",
   "id": "b84734c0-1473-4e21-aa4f-726fd6b81c56",
   "metadata": {},
   "source": [
    "# <span style=\"color:blue\">Step 1: Expose Your Local Server to the Internet with ngrok\n",
    "\n",
    "1. Download ngrok\n",
    "Go to the ngrok website and sign up for a free account. After signing up, download ngrok for your operating system.\n",
    "\n",
    "2. Install ngrok\n",
    "Follow the instructions to install ngrok. For example, on Windows, you would extract the downloaded zip file and place the ngrok executable in a directory of your choice.\n",
    "\n"
   ]
  },
  {
   "cell_type": "code",
   "execution_count": 20,
   "id": "14acd193-490c-423c-9077-06a6b4beadcb",
   "metadata": {},
   "outputs": [
    {
     "name": "stdout",
     "output_type": "stream",
     "text": [
      "Requirement already satisfied: ngrok in c:\\users\\dell\\anaconda 4\\lib\\site-packages (1.3.0)\n"
     ]
    }
   ],
   "source": [
    "!pip install ngrok\n"
   ]
  },
  {
   "cell_type": "markdown",
   "id": "651439b2-4244-4c57-abbb-b993900fa112",
   "metadata": {},
   "source": [
    "3. Connect Your ngrok Account\n",
    "Once you have ngrok installed, connect it to your account using the authtoken provided on your ngrok dashboard. Run the following command in your terminal:"
   ]
  },
  {
   "cell_type": "code",
   "execution_count": 21,
   "id": "15569cfe-35bf-4716-81fb-cb154c4547ab",
   "metadata": {},
   "outputs": [
    {
     "name": "stdout",
     "output_type": "stream",
     "text": [
      "Authtoken saved to configuration file: C:\\Users\\Dell\\AppData\\Local/ngrok/ngrok.yml\n"
     ]
    }
   ],
   "source": [
    "!ngrok config add-authtoken 2iN956SdxJ8XzL4UcagwNhpbWI4_7rYSp3girF9BuxBGaMNHn\n"
   ]
  },
  {
   "cell_type": "markdown",
   "id": "7c45e57e-e4f5-4434-9384-3d5ac326e65e",
   "metadata": {},
   "source": [
    "# <span style=\"color:blue\">Step 2: Set Up Your Environment\n",
    "1. \n",
    "Install Flasip:"
   ]
  },
  {
   "cell_type": "code",
   "execution_count": 22,
   "id": "3175c5c5-632a-448c-9366-5e13ec7dce3b",
   "metadata": {},
   "outputs": [
    {
     "name": "stdout",
     "output_type": "stream",
     "text": [
      "Requirement already satisfied: flask in c:\\users\\dell\\anaconda 4\\lib\\site-packages (2.2.5)\n",
      "Requirement already satisfied: Werkzeug>=2.2.2 in c:\\users\\dell\\anaconda 4\\lib\\site-packages (from flask) (2.2.3)\n",
      "Requirement already satisfied: Jinja2>=3.0 in c:\\users\\dell\\anaconda 4\\lib\\site-packages (from flask) (3.1.3)\n",
      "Requirement already satisfied: itsdangerous>=2.0 in c:\\users\\dell\\anaconda 4\\lib\\site-packages (from flask) (2.0.1)\n",
      "Requirement already satisfied: click>=8.0 in c:\\users\\dell\\anaconda 4\\lib\\site-packages (from flask) (8.1.7)\n",
      "Requirement already satisfied: colorama in c:\\users\\dell\\anaconda 4\\lib\\site-packages (from click>=8.0->flask) (0.4.6)\n",
      "Requirement already satisfied: MarkupSafe>=2.0 in c:\\users\\dell\\anaconda 4\\lib\\site-packages (from Jinja2>=3.0->flask) (2.1.3)\n"
     ]
    }
   ],
   "source": [
    "!pip install flask"
   ]
  },
  {
   "cell_type": "code",
   "execution_count": null,
   "id": "8a376e3e-8ab1-48a6-8cec-c36d2ebeac9e",
   "metadata": {},
   "outputs": [
    {
     "name": "stdout",
     "output_type": "stream",
     "text": [
      " * Serving Flask app '__main__'\n",
      " * Debug mode: off\n"
     ]
    },
    {
     "name": "stderr",
     "output_type": "stream",
     "text": [
      "WARNING: This is a development server. Do not use it in a production deployment. Use a production WSGI server instead.\n",
      " * Running on http://127.0.0.1:5000\n",
      "Press CTRL+C to quit\n",
      "127.0.0.1 - - [26/Jun/2024 15:11:21] \"GET / HTTP/1.1\" 200 -\n"
     ]
    }
   ],
   "source": [
    "from flask import Flask, request\n",
    "import json, time\n",
    "\n",
    "app = Flask(__name__)\n",
    "\n",
    "# Sample course data\n",
    "courses = [\n",
    " \n",
    "    {\"course_id\": 1, \"course_name\": \"Basic Programming - Python\", \"duration\": \"4 months\"},\n",
    "    {\"course_id\": 2, \"course_name\": \"3D Printing, Embedded Systems, IoT\", \"duration\": \"3 months\"},\n",
    "    {\"course_id\": 3, \"course_name\": \"Artificial Intelligence, Machine Learning, GenAI\", \"duration\": \"3 months\"},\n",
    "    {\"course_id\": 4, \"course_name\": \"AR/VR, Space Technology, Drone\", \"duration\": \"4 months\"}\n",
    "]\n",
    "\n",
    "@app.route('/', methods=['GET'])\n",
    "def home_page():\n",
    "    data_set = {'page': 'Home', 'Message': 'Successfully loaded the home page', 'TimeStamp': time.time()}\n",
    "    json_dump = json.dumps(data_set)\n",
    "    return json_dump\n",
    "\n",
    "@app.route('/request', methods=['GET'])\n",
    "def request_page():\n",
    "    user_query = str(request.args.get('user'))\n",
    "    data_set = {'page': 'Request', 'Message': f'Successfully loaded for {user_query}', 'TimeStamp': time.time()}\n",
    "    json_dump = json.dumps(data_set)\n",
    "    return json_dump\n",
    "\n",
    "@app.route('/courses', methods=['GET'])\n",
    "def get_courses():\n",
    "    return json.dumps(courses)\n",
    "\n",
    "if __name__ == '__main__':\n",
    "    app.run()\n"
   ]
  },
  {
   "cell_type": "markdown",
   "id": "f355cbdd-a6d6-40b2-b4a5-994ac9dd3c9f",
   "metadata": {},
   "source": [
    "# <span style=\"color:blue\">Using the API with Python's requests Library\n",
    "Once your Flask API is up and running, you can interact with it using Python's requests library. Below is an example code snippet to demonstrate how to access different endpoints of the API.\n",
    "\n",
    "# <span style=\"color:blue\">Step-by-Step Instructions\n",
    "1. Import the requests library\n",
    "Ensure you have the requests library installed. You can install it using pip if you haven't already:"
   ]
  },
  {
   "cell_type": "code",
   "execution_count": null,
   "id": "cacc440a-9b36-4f69-8d23-97873765cf71",
   "metadata": {},
   "outputs": [],
   "source": [
    "!pip install request"
   ]
  },
  {
   "cell_type": "markdown",
   "id": "81415377-edf6-4595-b8cb-2c68f8069817",
   "metadata": {},
   "source": [
    " Define the Base URL of the API\n",
    "1. Set the base URL for your API. In this example, the API is running locally on http://127.0.0.1:5000.\n",
    "\n",
    "2. Access the Home Page: A GET request is made to the root endpoint (/). The response is printed in JSON format.\n",
    "\n",
    "3. Access the Request Page: A GET request is made to the /request endpoint with a user query parameter. The response is printed in JSON format.\n",
    "\n",
    "4. Access the Course Details: A GET request is made to the /courses endpoint. The response, which contains the course details, is printed in JSON format."
   ]
  },
  {
   "cell_type": "code",
   "execution_count": null,
   "id": "c53b67df-b3f1-4f27-9c2f-5f51fb818126",
   "metadata": {},
   "outputs": [],
   "source": [
    "import requests\n",
    "\n",
    "# Base URL of the API\n",
    "base_url = \"http://127.0.0.1:5000\"\n",
    "\n",
    "# Access the home page\n",
    "response = requests.get(f\"{base_url}/\")\n",
    "print(\"Home Page:\", response.json())\n",
    "\n",
    "# Access the request page with a user query\n",
    "user = \"John Doe\"\n",
    "response = requests.get(f\"{base_url}/request\", params={\"user\": user})\n",
    "print(\"Request Page:\", response.json())\n",
    "\n",
    "# Access the course details\n",
    "response = requests.get(f\"{base_url}/courses\")\n",
    "print(\"Course Details:\", response.json())\n"
   ]
  },
  {
   "cell_type": "markdown",
   "id": "ade7aa57-defd-4068-a1f8-29ea059446b0",
   "metadata": {},
   "source": [
    "## <span style=\"color:blue\"> -----------END OF CLASS-----------"
   ]
  },
  {
   "cell_type": "markdown",
   "id": "441da87f-44b0-4f41-a1c9-095e3d79ca61",
   "metadata": {},
   "source": [
    "# <span style=\"color:red\"> Assignment questions"
   ]
  },
  {
   "cell_type": "markdown",
   "id": "e058bb8a-0bee-496f-af20-42fb3e699c85",
   "metadata": {},
   "source": [
    "1. Write a Python program that parses a JSON string representing a student's club memberships and prints the student's name, grade, and details of each club."
   ]
  },
  {
   "cell_type": "code",
   "execution_count": null,
   "id": "2904bceb-3f79-4719-87b8-db9a161f454f",
   "metadata": {},
   "outputs": [],
   "source": [
    "\n"
   ]
  }
 ],
 "metadata": {
  "kernelspec": {
   "display_name": "Python 3 (ipykernel)",
   "language": "python",
   "name": "python3"
  },
  "language_info": {
   "codemirror_mode": {
    "name": "ipython",
    "version": 3
   },
   "file_extension": ".py",
   "mimetype": "text/x-python",
   "name": "python",
   "nbconvert_exporter": "python",
   "pygments_lexer": "ipython3",
   "version": "3.9.13"
  }
 },
 "nbformat": 4,
 "nbformat_minor": 5
}
